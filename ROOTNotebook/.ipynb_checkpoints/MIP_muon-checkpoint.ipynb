{
 "cells": [
  {
   "cell_type": "markdown",
   "id": "c2f08a5a",
   "metadata": {},
   "source": [
    "# Geometrical factor analysis"
   ]
  },
  {
   "cell_type": "code",
   "execution_count": 1,
   "id": "a1986f61",
   "metadata": {},
   "outputs": [],
   "source": [
    "%jsroot on"
   ]
  },
  {
   "cell_type": "code",
   "execution_count": 2,
   "id": "30b48068",
   "metadata": {},
   "outputs": [
    {
     "name": "stdout",
     "output_type": "stream",
     "text": [
      "APPUNTI.txt\n",
      "AnglesHoles.txt\n",
      "BRANCHNAME.txt\n",
      "CMakeLists.txt\n",
      "CadGeometry\n",
      "DST_01_08_2022\n",
      "DST_27_07_2022\n",
      "DST_CZT_13_08_2022\n",
      "DST_E_05_08_2022\n",
      "DST_E_19_07_2022\n",
      "DST_MUON_14_08_2022\n",
      "GNUmakefile\n",
      "README.md\n",
      "ROOTNotebook\n",
      "ROOT_macros\n",
      "Simulation.cc\n",
      "_config.yml\n",
      "build\n",
      "docs\n",
      "include\n",
      "macros\n",
      "src\n",
      "(int) 0\n"
     ]
    }
   ],
   "source": [
    "TString PREFIX = \"/Users/riccardo/Documents/G4Progects/LEM_simulation\";\n",
    "gSystem -> cd(PREFIX.Data());\n",
    "gSystem -> pwd();\n",
    "gSystem -> Exec(\"ls\")"
   ]
  },
  {
   "cell_type": "code",
   "execution_count": 3,
   "id": "f60d0d3e",
   "metadata": {},
   "outputs": [
    {
     "name": "stdout",
     "output_type": "stream",
     "text": [
      "MIP_14_08_2022_MUON.root\n",
      "AnalysisSimulation.C\n",
      "AnalysisSimulation2.C\n",
      "AngleResolution.C\n",
      "ComparisonSiCZT.C\n",
      "ComparisonSiCZT_C.d\n",
      "ComparisonSiCZT_C.so\n",
      "ComparisonSiCZT_C_ACLiC_dict_rdict.pcm\n",
      "DeltaE_E_plot.C\n",
      "DetectionYield.C\n",
      "Energy.C\n",
      "GeometricalFactor.C\n",
      "MuonMip.C\n",
      "MuonMip_C.d\n",
      "MuonMip_C.so\n",
      "MuonMip_C_ACLiC_dict029a84d635_dictContent.h\n",
      "MuonMip_C_ACLiC_dict_rdict.pcm\n",
      "MuonMip_C_ACLiC_dictd0430ab39d_dictUmbrella.h\n",
      "PID.C\n",
      "clean_root_macros.sh\n",
      "debug.C\n"
     ]
    }
   ],
   "source": [
    "TString DataSetToAnalyse = \"./DST_MUON_14_08_2022\";\n",
    "gSystem -> cd(DataSetToAnalyse.Data());\n",
    "gSystem -> Exec(\"ls\");\n",
    "gSystem -> Exec(\"ls ../ROOT_macros\");"
   ]
  },
  {
   "cell_type": "code",
   "execution_count": 4,
   "id": "720dc764",
   "metadata": {},
   "outputs": [
    {
     "name": "stdout",
     "output_type": "stream",
     "text": [
      "(int) 1\n"
     ]
    }
   ],
   "source": [
    "gSystem -> CompileMacro(\"../ROOT_macros/MuonMip.C\",\"kOv\")"
   ]
  },
  {
   "cell_type": "code",
   "execution_count": 5,
   "id": "48a4f6b5",
   "metadata": {},
   "outputs": [
    {
     "name": "stdout",
     "output_type": "stream",
     "text": [
      "(const char *) \"/Users/riccardo/Documents/G4Progects/LEM_simulation/DST_MUON_14_08_2022\"\n"
     ]
    }
   ],
   "source": [
    "gSystem -> pwd()"
   ]
  },
  {
   "cell_type": "code",
   "execution_count": 6,
   "id": "f4f9f4aa",
   "metadata": {},
   "outputs": [
    {
     "name": "stdout",
     "output_type": "stream",
     "text": [
      "MIP_14_08_2022_MUON.root\n",
      "(int) 0\n"
     ]
    }
   ],
   "source": [
    "gSystem -> Exec(\"ls\")"
   ]
  },
  {
   "cell_type": "code",
   "execution_count": 7,
   "id": "137010a6",
   "metadata": {},
   "outputs": [
    {
     "name": "stdout",
     "output_type": "stream",
     "text": [
      "Branches Names : \n",
      "############################\n",
      "0 NumberID\n",
      "1 RandEnergy\n",
      "2 RandNumber\n",
      "3 Xgen\n",
      "4 Ygen\n",
      "5 Zgen\n",
      "6 pDirX\n",
      "7 pDirY\n",
      "8 pDirZ\n",
      "9 Ed_Veto0\n",
      "10 Ed_DrilledVeto\n",
      "11 Thin_x0_y0_ID0\n",
      "12 Thin_x0_y1_ID1\n",
      "13 Thin_x0_y2_ID2\n",
      "14 Thin_x0_y3_ID3\n",
      "15 Thin_x1_y0_ID4\n",
      "16 Thin_x1_y1_ID5\n",
      "17 Thin_x1_y2_ID6\n",
      "18 Thin_x1_y3_ID7\n",
      "19 Thin_x2_y0_ID8\n",
      "20 Thin_x2_y1_ID9\n",
      "21 Thin_x2_y2_ID10\n",
      "22 Thin_x2_y3_ID11\n",
      "23 Thin_x3_y0_ID12\n",
      "24 Thin_x3_y1_ID13\n",
      "25 Thin_x3_y2_ID14\n",
      "26 Thin_x3_y3_ID15\n",
      "27 Thick_x0_y0_ID0\n",
      "28 Thick_x0_y1_ID1\n",
      "29 Thick_x0_y2_ID2\n",
      "30 Thick_x0_y3_ID3\n",
      "31 Thick_x1_y0_ID4\n",
      "32 Thick_x1_y1_ID5\n",
      "33 Thick_x1_y2_ID6\n",
      "34 Thick_x1_y3_ID7\n",
      "35 Thick_x2_y0_ID8\n",
      "36 Thick_x2_y1_ID9\n",
      "37 Thick_x2_y2_ID10\n",
      "38 Thick_x2_y3_ID11\n",
      "39 Thick_x3_y0_ID12\n",
      "40 Thick_x3_y1_ID13\n",
      "41 Thick_x3_y2_ID14\n",
      "42 Thick_x3_y3_ID15\n",
      "43 Ed_Veto1\n",
      "44 Ed_Veto2\n",
      "45 Ed_Veto3\n",
      "46 Ed_Veto4\n",
      "i = 0\n",
      "i = 1\n",
      "i = 2\n",
      "i = 3\n",
      "Macro processed correctly\n"
     ]
    },
    {
     "name": "stderr",
     "output_type": "stream",
     "text": [
      "Info in <TCanvas::MakeDefCanvas>:  created default TCanvas with name c1\n",
      "Warning in <TCanvas::Constructor>: Deleting canvas with same name: c1\n"
     ]
    }
   ],
   "source": [
    "MuonMip();\n",
    "cout << \"Macro processed correctly\" << endl;"
   ]
  },
  {
   "cell_type": "code",
   "execution_count": 8,
   "id": "03d71813",
   "metadata": {},
   "outputs": [
    {
     "name": "stdout",
     "output_type": "stream",
     "text": [
      "TFile**\t\tMIP_14_08_2022_MUON.root\t\n",
      " TFile*\t\tMIP_14_08_2022_MUON.root\t\n",
      "  OBJ: TTree\tEdep\tEdep : 0 at: 0x7f8caf033550\n",
      "  OBJ: TH1D\th10\t : 0 at: 0x7f8caefb1cf0\n",
      "  OBJ: TH1D\th11\t : 0 at: 0x7f8caefb2140\n",
      "  OBJ: TH1D\th12\t : 0 at: 0x7f8caefb26d0\n",
      "  KEY: TTree\tEdep;1\tEdep\n"
     ]
    }
   ],
   "source": [
    "gDirectory -> ls()"
   ]
  },
  {
   "cell_type": "markdown",
   "id": "84bcf584",
   "metadata": {},
   "source": [
    "## Inizio analisi interattiva\n",
    "A questo punto abbiamo eseguito la macro che permette di caricare i dati come desiderato.\n",
    "Nella gDirectory abbiamo tutti gli oggetti generati dalla Macro. Si possono quindi eseguire grafici, fit, etc."
   ]
  },
  {
   "cell_type": "code",
   "execution_count": 9,
   "id": "fdd17eb2",
   "metadata": {},
   "outputs": [
    {
     "data": {
      "text/html": [
       "\n",
       "\n",
       "<div id=\"root_plot_1660640720848\"\n",
       "     style=\"width: 996px; height: 772px\">\n",
       "</div>\n",
       "<script>\n",
       "\n",
       "function display_root_plot_1660640720848(Core) {\n",
       "   let obj = Core.parse({\"_typename\":\"TCanvas\",\"fUniqueID\":0,\"fBits\":3342344,\"fLineColor\":1,\"fLineStyle\":1,\"fLineWidth\":1,\"fFillColor\":0,\"fFillStyle\":1001,\"fLeftMargin\":0.1,\"fRightMargin\":0.1,\"fBottomMargin\":0.1,\"fTopMargin\":0.1,\"fXfile\":2,\"fYfile\":2,\"fAfile\":1,\"fXstat\":0.99,\"fYstat\":0.99,\"fAstat\":2,\"fFrameFillColor\":0,\"fFrameLineColor\":1,\"fFrameFillStyle\":1001,\"fFrameLineStyle\":1,\"fFrameLineWidth\":1,\"fFrameBorderSize\":1,\"fFrameBorderMode\":0,\"fX1\":0.0499999962747095,\"fY1\":2.41134123344801,\"fX2\":0.550000003725291,\"fY2\":5.28762877088801,\"fXtoAbsPixelk\":-99.5999410950657,\"fXtoPixelk\":-99.5999410950657,\"fXtoPixel\":1991.99997031689,\"fYtoAbsPixelk\":1419.20774672378,\"fYtoPixelk\":1419.20774672378,\"fYtoPixel\":-268.401538424461,\"fUtoAbsPixelk\":5e-5,\"fUtoPixelk\":5e-5,\"fUtoPixel\":996,\"fVtoAbsPixelk\":772.00005,\"fVtoPixelk\":772,\"fVtoPixel\":-772,\"fAbsPixeltoXk\":0.0499999962747095,\"fPixeltoXk\":0.0499999962747095,\"fPixeltoX\":5.02008039609017e-4,\"fAbsPixeltoYk\":5.28762877088801,\"fPixeltoYk\":2.41134123344801,\"fPixeltoY\":-0.00372576105886011,\"fXlowNDC\":0,\"fYlowNDC\":0,\"fXUpNDC\":1,\"fYUpNDC\":1,\"fWNDC\":1,\"fHNDC\":1,\"fAbsXlowNDC\":0,\"fAbsYlowNDC\":0,\"fAbsWNDC\":1,\"fAbsHNDC\":1,\"fUxmin\":0.1,\"fUymin\":2.69897000433602,\"fUxmax\":0.5,\"fUymax\":5,\"fTheta\":30,\"fPhi\":30,\"fAspectRatio\":0,\"fNumber\":0,\"fTickx\":0,\"fTicky\":0,\"fLogx\":0,\"fLogy\":1,\"fLogz\":0,\"fPadPaint\":0,\"fCrosshair\":0,\"fCrosshairPos\":0,\"fBorderSize\":2,\"fBorderMode\":0,\"fModified\":false,\"fGridx\":true,\"fGridy\":true,\"fAbsCoord\":false,\"fEditable\":true,\"fFixedAspectRatio\":false,\"fPrimitives\":{\"_typename\":\"TList\",\"name\":\"TList\",\"arr\":[{\"_typename\":\"TFrame\",\"fUniqueID\":0,\"fBits\":8,\"fLineColor\":1,\"fLineStyle\":1,\"fLineWidth\":1,\"fFillColor\":0,\"fFillStyle\":1001,\"fX1\":0.1,\"fY1\":2.69897000433602,\"fX2\":0.5,\"fY2\":5,\"fBorderSize\":1,\"fBorderMode\":0},{\"_typename\":\"TH1D\",\"fUniqueID\":0,\"fBits\":520,\"fName\":\"h12\",\"fTitle\":\"\",\"fLineColor\":1,\"fLineStyle\":1,\"fLineWidth\":4,\"fFillColor\":0,\"fFillStyle\":1001,\"fMarkerColor\":1,\"fMarkerStyle\":7,\"fMarkerSize\":1,\"fNcells\":302,\"fXaxis\":{\"_typename\":\"TAxis\",\"fUniqueID\":0,\"fBits\":0,\"fName\":\"xaxis\",\"fTitle\":\"Energy [MeV]\",\"fNdivisions\":510,\"fAxisColor\":1,\"fLabelColor\":1,\"fLabelFont\":42,\"fLabelOffset\":0.005,\"fLabelSize\":0.035,\"fTickLength\":0.03,\"fTitleOffset\":1,\"fTitleSize\":0.035,\"fTitleColor\":1,\"fTitleFont\":42,\"fNbins\":300,\"fXmin\":0.1,\"fXmax\":0.5,\"fXbins\":[],\"fFirst\":0,\"fLast\":0,\"fBits2\":0,\"fTimeDisplay\":false,\"fTimeFormat\":\"\",\"fLabels\":null,\"fModLabs\":null},\"fYaxis\":{\"_typename\":\"TAxis\",\"fUniqueID\":0,\"fBits\":0,\"fName\":\"yaxis\",\"fTitle\":\"Counts\",\"fNdivisions\":510,\"fAxisColor\":1,\"fLabelColor\":1,\"fLabelFont\":42,\"fLabelOffset\":0.005,\"fLabelSize\":0.035,\"fTickLength\":0.03,\"fTitleOffset\":0,\"fTitleSize\":0.035,\"fTitleColor\":1,\"fTitleFont\":42,\"fNbins\":1,\"fXmin\":0,\"fXmax\":1,\"fXbins\":[],\"fFirst\":0,\"fLast\":0,\"fBits2\":0,\"fTimeDisplay\":false,\"fTimeFormat\":\"\",\"fLabels\":null,\"fModLabs\":null},\"fZaxis\":{\"_typename\":\"TAxis\",\"fUniqueID\":0,\"fBits\":0,\"fName\":\"zaxis\",\"fTitle\":\"\",\"fNdivisions\":510,\"fAxisColor\":1,\"fLabelColor\":1,\"fLabelFont\":42,\"fLabelOffset\":0.005,\"fLabelSize\":0.035,\"fTickLength\":0.03,\"fTitleOffset\":1,\"fTitleSize\":0.035,\"fTitleColor\":1,\"fTitleFont\":42,\"fNbins\":1,\"fXmin\":0,\"fXmax\":1,\"fXbins\":[],\"fFirst\":0,\"fLast\":0,\"fBits2\":0,\"fTimeDisplay\":false,\"fTimeFormat\":\"\",\"fLabels\":null,\"fModLabs\":null},\"fBarOffset\":0,\"fBarWidth\":1000,\"fEntries\":64000000,\"fTsumw\":3947443,\"fTsumw2\":3947443,\"fTsumwx\":707887.21535837,\"fTsumwx2\":139907.770332193,\"fMaximum\":100000,\"fMinimum\":500,\"fNormFactor\":0,\"fContour\":[],\"fSumw2\":[],\"fOption\":\"\",\"fFunctions\":{\"_typename\":\"TList\",\"name\":\"TList\",\"arr\":[],\"opt\":[]},\"fBufferSize\":0,\"fBuffer\":[],\"fBinStatErrOpt\":0,\"fStatOverflows\":2,\"fArray\":{\"$arr\":\"Float64\",\"len\":302,\"v\":[59999846,17,30,50,88,140,196,346,529,738,1187,1716,2494,3596,4834,6436,8559,11321,14228,17695,22096,26652,31700,36721,42690,48092,54305,60545,65941,70972,75391,79705,83593,86944,88845,90037,91094,90744,90634,89774,88391,86950,84751,82244,79864,76988,74435,71391,68221,65834,62431,60536,57201,54817,52373,50126,47700,45880,43691,41568,39981,37901,35969,34409,32920,31296,29914,28684,27499,26285,25276,24362,23191,22231,21428,20779,19658,19150,18512,17714,16804,16331,15647,15176,14654,14095,13571,13183,12824,12322,12022,11527,11342,11006,10504,10317,9878,9646,9304,9216,8842,8553,8301,8132,8022,7648,7615,7274,7091,6827,6828,6601,6393,6361,6104,5965,5958,5793,5702,5536,5365,5182,5116,5151,4813,4878,4807,4716,4441,4443,4401,4298,4215,4060,3983,3896,3848,3843,3663,3679,3582,3630,3538,3420,3302,3270,3297,3223,3131,3103,3196,3005,2911,2902,2829,2818,2875,2752,2704,2623,2522,2600,2605,2552,2484,2523,2385,2396,2332,2311,2325,2262,2157,2233,2103,2146,2061,2049,2001,2090,1962,1859,1915,1786,1882,1924,1765,1707,1838,1775,1651,1698,1711,1636,1672,1649,1585,1519,1570,1540,1465,1469,1453,1509,1443,1392,1374,1384,1349,1347,1304,1392,1349,1341,1282,1295,1247,1223,1212,1208,1187,1157,1129,1142,1150,1138,1120,1107,1074,1085,1050,1072,1011,1100,1012,1049,982,1025,993,974,1027,941,879,874,957,943,863,862,889,870,863,866,883,826,842,801,825,813,845,812,856,792,757,780,688,692,754,752,706,737,774,722,728,752,655,712,662,674,713,612,656,653,702,662,670,644,608,625,632,600,652,597,617,562,588,620,603,610,568,589,560,52711]}},{\"_typename\":\"TH1D\",\"fUniqueID\":0,\"fBits\":520,\"fName\":\"h10\",\"fTitle\":\"\",\"fLineColor\":632,\"fLineStyle\":1,\"fLineWidth\":4,\"fFillColor\":0,\"fFillStyle\":1001,\"fMarkerColor\":632,\"fMarkerStyle\":7,\"fMarkerSize\":1,\"fNcells\":302,\"fXaxis\":{\"_typename\":\"TAxis\",\"fUniqueID\":0,\"fBits\":0,\"fName\":\"xaxis\",\"fTitle\":\"Energy [MeV]\",\"fNdivisions\":510,\"fAxisColor\":1,\"fLabelColor\":1,\"fLabelFont\":42,\"fLabelOffset\":0.005,\"fLabelSize\":0.035,\"fTickLength\":0.03,\"fTitleOffset\":1,\"fTitleSize\":0.035,\"fTitleColor\":1,\"fTitleFont\":42,\"fNbins\":300,\"fXmin\":0.1,\"fXmax\":0.5,\"fXbins\":[],\"fFirst\":0,\"fLast\":0,\"fBits2\":0,\"fTimeDisplay\":false,\"fTimeFormat\":\"\",\"fLabels\":null,\"fModLabs\":null},\"fYaxis\":{\"_typename\":\"TAxis\",\"fUniqueID\":0,\"fBits\":0,\"fName\":\"yaxis\",\"fTitle\":\"Counts\",\"fNdivisions\":510,\"fAxisColor\":1,\"fLabelColor\":1,\"fLabelFont\":42,\"fLabelOffset\":0.005,\"fLabelSize\":0.035,\"fTickLength\":0.03,\"fTitleOffset\":0,\"fTitleSize\":0.035,\"fTitleColor\":1,\"fTitleFont\":42,\"fNbins\":1,\"fXmin\":0,\"fXmax\":1,\"fXbins\":[],\"fFirst\":0,\"fLast\":0,\"fBits2\":0,\"fTimeDisplay\":false,\"fTimeFormat\":\"\",\"fLabels\":null,\"fModLabs\":null},\"fZaxis\":{\"_typename\":\"TAxis\",\"fUniqueID\":0,\"fBits\":0,\"fName\":\"zaxis\",\"fTitle\":\"\",\"fNdivisions\":510,\"fAxisColor\":1,\"fLabelColor\":1,\"fLabelFont\":42,\"fLabelOffset\":0.005,\"fLabelSize\":0.035,\"fTickLength\":0.03,\"fTitleOffset\":1,\"fTitleSize\":0.035,\"fTitleColor\":1,\"fTitleFont\":42,\"fNbins\":1,\"fXmin\":0,\"fXmax\":1,\"fXbins\":[],\"fFirst\":0,\"fLast\":0,\"fBits2\":0,\"fTimeDisplay\":false,\"fTimeFormat\":\"\",\"fLabels\":null,\"fModLabs\":null},\"fBarOffset\":0,\"fBarWidth\":1000,\"fEntries\":64000000,\"fTsumw\":3913736,\"fTsumw2\":3913736,\"fTsumwx\":832577.816843918,\"fTsumwx2\":190596.108869942,\"fMaximum\":-1111,\"fMinimum\":-1111,\"fNormFactor\":0,\"fContour\":[],\"fSumw2\":[],\"fOption\":\"\",\"fFunctions\":{\"_typename\":\"TList\",\"name\":\"TList\",\"arr\":[],\"opt\":[]},\"fBufferSize\":0,\"fBuffer\":[],\"fBinStatErrOpt\":0,\"fStatOverflows\":2,\"fArray\":{\"$arr\":\"Float64\",\"len\":302,\"v\":[59999988,0,0,0,0,0,1,0,0,0,0,0,1,0,1,1,1,5,9,14,20,30,57,87,147,195,314,427,676,944,1366,1905,2530,3403,4389,5849,7564,9524,11684,14369,17158,20817,24127,28081,32053,35865,40862,44868,49632,53700,57982,61499,64306,67994,70117,72886,74427,75541,76493,77561,77357,77088,77065,75979,74926,73239,71967,70188,68255,65862,64537,62549,60050,58020,56106,54923,52568,50066,49063,46961,44719,43312,41403,40016,38260,36630,35540,34183,32917,31445,30359,29248,28228,27188,26014,25273,24297,23263,22446,21636,20719,19951,19595,18984,18118,17632,16945,16364,15951,15475,15151,14510,14004,13692,13177,12873,12377,12153,11879,11311,11060,10969,10632,10396,10045,9763,9506,9456,8945,8965,8498,8238,8115,7969,7817,7606,7394,7301,7050,7005,6589,6488,6532,6242,6209,6170,6021,5845,5607,5413,5447,5261,5257,5327,5055,4982,4848,4739,4811,4609,4622,4450,4427,4241,4278,4181,4103,4084,3934,3962,3857,3652,3655,3511,3537,3496,3428,3496,3276,3382,3266,3169,3063,3060,3150,3009,3090,2972,2874,2843,2675,2673,2708,2767,2544,2452,2572,2508,2539,2507,2388,2383,2444,2410,2370,2313,2238,2296,2126,2089,2237,2122,2085,2004,1991,1969,2079,1991,1834,1930,1882,1803,1849,1792,1885,1826,1794,1747,1617,1725,1644,1592,1648,1564,1627,1569,1524,1569,1575,1478,1512,1493,1495,1403,1436,1391,1397,1402,1453,1411,1340,1366,1355,1304,1313,1292,1256,1227,1264,1260,1174,1173,1187,1189,1164,1171,1247,1156,1180,1113,1123,1152,1072,1053,1012,1095,1070,1022,1008,1028,990,931,967,965,968,923,887,955,939,940,903,880,926,940,853,927,888,922,918,850,812,86276]}},{\"_typename\":\"TH1D\",\"fUniqueID\":0,\"fBits\":520,\"fName\":\"h11\",\"fTitle\":\"\",\"fLineColor\":600,\"fLineStyle\":1,\"fLineWidth\":4,\"fFillColor\":0,\"fFillStyle\":1001,\"fMarkerColor\":600,\"fMarkerStyle\":7,\"fMarkerSize\":1,\"fNcells\":302,\"fXaxis\":{\"_typename\":\"TAxis\",\"fUniqueID\":0,\"fBits\":0,\"fName\":\"xaxis\",\"fTitle\":\"Energy [MeV]\",\"fNdivisions\":510,\"fAxisColor\":1,\"fLabelColor\":1,\"fLabelFont\":42,\"fLabelOffset\":0.005,\"fLabelSize\":0.035,\"fTickLength\":0.03,\"fTitleOffset\":1,\"fTitleSize\":0.035,\"fTitleColor\":1,\"fTitleFont\":42,\"fNbins\":300,\"fXmin\":0.1,\"fXmax\":0.5,\"fXbins\":[],\"fFirst\":0,\"fLast\":0,\"fBits2\":0,\"fTimeDisplay\":false,\"fTimeFormat\":\"\",\"fLabels\":null,\"fModLabs\":null},\"fYaxis\":{\"_typename\":\"TAxis\",\"fUniqueID\":0,\"fBits\":0,\"fName\":\"yaxis\",\"fTitle\":\"Counts\",\"fNdivisions\":510,\"fAxisColor\":1,\"fLabelColor\":1,\"fLabelFont\":42,\"fLabelOffset\":0.005,\"fLabelSize\":0.035,\"fTickLength\":0.03,\"fTitleOffset\":0,\"fTitleSize\":0.035,\"fTitleColor\":1,\"fTitleFont\":42,\"fNbins\":1,\"fXmin\":0,\"fXmax\":1,\"fXbins\":[],\"fFirst\":0,\"fLast\":0,\"fBits2\":0,\"fTimeDisplay\":false,\"fTimeFormat\":\"\",\"fLabels\":null,\"fModLabs\":null},\"fZaxis\":{\"_typename\":\"TAxis\",\"fUniqueID\":0,\"fBits\":0,\"fName\":\"zaxis\",\"fTitle\":\"\",\"fNdivisions\":510,\"fAxisColor\":1,\"fLabelColor\":1,\"fLabelFont\":42,\"fLabelOffset\":0.005,\"fLabelSize\":0.035,\"fTickLength\":0.03,\"fTitleOffset\":1,\"fTitleSize\":0.035,\"fTitleColor\":1,\"fTitleFont\":42,\"fNbins\":1,\"fXmin\":0,\"fXmax\":1,\"fXbins\":[],\"fFirst\":0,\"fLast\":0,\"fBits2\":0,\"fTimeDisplay\":false,\"fTimeFormat\":\"\",\"fLabels\":null,\"fModLabs\":null},\"fBarOffset\":0,\"fBarWidth\":1000,\"fEntries\":64000000,\"fTsumw\":3933364,\"fTsumw2\":3933364,\"fTsumwx\":766421.888263614,\"fTsumwx2\":162614.730780936,\"fMaximum\":-1111,\"fMinimum\":-1111,\"fNormFactor\":0,\"fContour\":[],\"fSumw2\":[],\"fOption\":\"\",\"fFunctions\":{\"_typename\":\"TList\",\"name\":\"TList\",\"arr\":[],\"opt\":[]},\"fBufferSize\":0,\"fBuffer\":[],\"fBinStatErrOpt\":0,\"fStatOverflows\":2,\"fArray\":{\"$arr\":\"Float64\",\"len\":302,\"v\":[59999947,0,0,0,2,2,0,5,6,4,23,31,53,92,159,229,370,565,792,1164,1736,2390,3257,4322,5750,7568,9535,12353,15422,18762,22429,26765,31283,36180,41063,46054,51716,56081,60891,65727,69643,73044,76660,78725,81485,83119,83375,84562,84701,83550,83055,81594,79966,78374,76484,73924,71601,69704,67190,65095,62380,60078,57476,55446,53059,50663,48385,46886,44866,42397,40773,38552,37676,35770,34726,32908,31633,30413,29335,27895,26994,25860,25011,23692,23003,22097,21254,20430,19558,19102,18265,17776,17252,16438,15896,15340,14742,14568,13840,13377,13071,12621,12521,11920,11569,11217,10778,10393,10192,10029,9539,9296,9114,9007,8782,8419,8346,7945,7814,7727,7439,7278,7039,6918,6561,6582,6379,6268,6116,6057,5774,5789,5623,5535,5386,5345,5150,5116,5115,4915,4804,4712,4553,4501,4402,4396,4380,4297,4177,4078,4002,3970,3839,3738,3639,3774,3566,3552,3501,3420,3380,3410,3306,3308,3091,3041,3079,2917,2931,2878,2911,2809,2719,2743,2656,2579,2701,2676,2517,2556,2489,2382,2431,2344,2335,2296,2217,2266,2216,2198,2193,2071,2180,1979,2043,2010,2026,1992,1958,1949,1916,1872,1823,1816,1774,1667,1690,1798,1749,1721,1670,1587,1583,1656,1600,1535,1561,1537,1516,1506,1495,1457,1449,1391,1427,1417,1366,1398,1331,1316,1412,1275,1274,1254,1196,1251,1199,1192,1187,1206,1179,1163,1128,1178,1127,1161,1065,1060,1112,1143,1142,1036,1014,1040,1026,1001,1001,1074,1005,1009,966,951,951,947,972,868,909,960,881,955,897,860,866,867,862,822,840,814,843,825,793,786,748,783,790,781,764,706,791,713,770,745,709,749,744,689,698,682,733,676,711,66689]}},{\"_typename\":\"TLegend\",\"fUniqueID\":0,\"fBits\":8,\"fLineColor\":1,\"fLineStyle\":1,\"fLineWidth\":1,\"fFillColor\":0,\"fFillStyle\":1001,\"fX1\":0.400000001490116,\"fY1\":4.42474250965601,\"fX2\":0.500000002980232,\"fY2\":5.00000001714401,\"fX1NDC\":0.7,\"fY1NDC\":0.7,\"fX2NDC\":0.9,\"fY2NDC\":0.9,\"fBorderSize\":1,\"fInit\":1,\"fShadowColor\":1,\"fCornerRadius\":0,\"fOption\":\"brNDC\",\"fName\":\"TPave\",\"fTextAngle\":0,\"fTextSize\":0,\"fTextAlign\":12,\"fTextColor\":1,\"fTextFont\":42,\"fPrimitives\":{\"_typename\":\"TList\",\"name\":\"TList\",\"arr\":[{\"_typename\":\"TLegendEntry\",\"fUniqueID\":0,\"fBits\":0,\"fTextAngle\":0,\"fTextSize\":0,\"fTextAlign\":0,\"fTextColor\":0,\"fTextFont\":42,\"fLineColor\":1,\"fLineStyle\":1,\"fLineWidth\":1,\"fFillColor\":0,\"fFillStyle\":0,\"fMarkerColor\":1,\"fMarkerStyle\":21,\"fMarkerSize\":1,\"fObject\":null,\"fLabel\":\"Inclination angle\",\"fOption\":\"h\"},{\"_typename\":\"TLegendEntry\",\"fUniqueID\":0,\"fBits\":0,\"fTextAngle\":0,\"fTextSize\":0,\"fTextAlign\":0,\"fTextColor\":0,\"fTextFont\":42,\"fLineColor\":632,\"fLineStyle\":1,\"fLineWidth\":4,\"fFillColor\":0,\"fFillStyle\":0,\"fMarkerColor\":1,\"fMarkerStyle\":21,\"fMarkerSize\":1,\"fObject\":{\"$ref\":8},\"fLabel\":\"#theta = 35^{o}\",\"fOption\":\"l\"},{\"_typename\":\"TLegendEntry\",\"fUniqueID\":0,\"fBits\":0,\"fTextAngle\":0,\"fTextSize\":0,\"fTextAlign\":0,\"fTextColor\":0,\"fTextFont\":42,\"fLineColor\":600,\"fLineStyle\":1,\"fLineWidth\":4,\"fFillColor\":0,\"fFillStyle\":0,\"fMarkerColor\":1,\"fMarkerStyle\":21,\"fMarkerSize\":1,\"fObject\":{\"$ref\":13},\"fLabel\":\"#theta = 26^{o}\",\"fOption\":\"l\"},{\"_typename\":\"TLegendEntry\",\"fUniqueID\":0,\"fBits\":0,\"fTextAngle\":0,\"fTextSize\":0,\"fTextAlign\":0,\"fTextColor\":0,\"fTextFont\":42,\"fLineColor\":1,\"fLineStyle\":1,\"fLineWidth\":4,\"fFillColor\":0,\"fFillStyle\":0,\"fMarkerColor\":1,\"fMarkerStyle\":21,\"fMarkerSize\":1,\"fObject\":{\"$ref\":3},\"fLabel\":\"#theta = 12^{o}\",\"fOption\":\"l\"}],\"opt\":[\"h\",\"l\",\"l\",\"l\"]},\"fEntrySeparation\":0.1,\"fMargin\":0.25,\"fNColumns\":1,\"fColumnSeparation\":0},{\"_typename\":\"TStyle\",\"fUniqueID\":0,\"fBits\":0,\"fName\":\"Modern\",\"fTitle\":\"Modern Style\",\"fLineColor\":1,\"fLineStyle\":1,\"fLineWidth\":1,\"fFillColor\":19,\"fFillStyle\":1001,\"fMarkerColor\":1,\"fMarkerStyle\":1,\"fMarkerSize\":1,\"fTextAngle\":0,\"fTextSize\":0.05,\"fTextAlign\":11,\"fTextColor\":1,\"fTextFont\":62,\"fXaxis\":{\"_typename\":\"TAttAxis\",\"fNdivisions\":510,\"fAxisColor\":1,\"fLabelColor\":1,\"fLabelFont\":42,\"fLabelOffset\":0.005,\"fLabelSize\":0.035,\"fTickLength\":0.03,\"fTitleOffset\":1,\"fTitleSize\":0.035,\"fTitleColor\":1,\"fTitleFont\":42},\"fYaxis\":{\"_typename\":\"TAttAxis\",\"fNdivisions\":510,\"fAxisColor\":1,\"fLabelColor\":1,\"fLabelFont\":42,\"fLabelOffset\":0.005,\"fLabelSize\":0.035,\"fTickLength\":0.03,\"fTitleOffset\":0,\"fTitleSize\":0.035,\"fTitleColor\":1,\"fTitleFont\":42},\"fZaxis\":{\"_typename\":\"TAttAxis\",\"fNdivisions\":510,\"fAxisColor\":1,\"fLabelColor\":1,\"fLabelFont\":42,\"fLabelOffset\":0.005,\"fLabelSize\":0.035,\"fTickLength\":0.03,\"fTitleOffset\":1,\"fTitleSize\":0.035,\"fTitleColor\":1,\"fTitleFont\":42},\"fBarWidth\":1,\"fBarOffset\":0,\"fColorModelPS\":0,\"fDrawBorder\":0,\"fOptLogx\":0,\"fOptLogy\":0,\"fOptLogz\":0,\"fOptDate\":0,\"fOptStat\":1111,\"fOptTitle\":1,\"fOptFile\":0,\"fOptFit\":0,\"fShowEventStatus\":0,\"fShowEditor\":0,\"fShowToolBar\":0,\"fNumberContours\":20,\"fAttDate\":{\"_typename\":\"TAttText\",\"fTextAngle\":0,\"fTextSize\":0.025,\"fTextAlign\":11,\"fTextColor\":1,\"fTextFont\":62},\"fDateX\":0.01,\"fDateY\":0.01,\"fEndErrorSize\":2,\"fErrorX\":0.5,\"fFuncColor\":2,\"fFuncStyle\":1,\"fFuncWidth\":2,\"fGridColor\":0,\"fGridStyle\":3,\"fGridWidth\":1,\"fLegendBorderSize\":1,\"fLegendFillColor\":0,\"fLegendFont\":42,\"fLegendTextSize\":0,\"fHatchesLineWidth\":1,\"fHatchesSpacing\":1,\"fFrameFillColor\":0,\"fFrameLineColor\":1,\"fFrameFillStyle\":1001,\"fFrameLineStyle\":1,\"fFrameLineWidth\":1,\"fFrameBorderSize\":1,\"fFrameBorderMode\":0,\"fHistFillColor\":0,\"fHistLineColor\":602,\"fHistFillStyle\":1001,\"fHistLineStyle\":1,\"fHistLineWidth\":1,\"fHistMinimumZero\":false,\"fHistTopMargin\":0.05,\"fCanvasPreferGL\":false,\"fCanvasColor\":0,\"fCanvasBorderSize\":2,\"fCanvasBorderMode\":0,\"fCanvasDefH\":500,\"fCanvasDefW\":700,\"fCanvasDefX\":10,\"fCanvasDefY\":10,\"fPadColor\":0,\"fPadBorderSize\":2,\"fPadBorderMode\":0,\"fPadBottomMargin\":0.1,\"fPadTopMargin\":0.1,\"fPadLeftMargin\":0.1,\"fPadRightMargin\":0.1,\"fPadGridX\":false,\"fPadGridY\":false,\"fPadTickX\":0,\"fPadTickY\":0,\"fPaperSizeX\":20,\"fPaperSizeY\":26,\"fScreenFactor\":1,\"fStatColor\":0,\"fStatTextColor\":1,\"fStatBorderSize\":1,\"fStatFont\":42,\"fStatFontSize\":0,\"fStatStyle\":1001,\"fStatFormat\":\"6.4g\",\"fStatX\":0.98,\"fStatY\":0.935,\"fStatW\":0.2,\"fStatH\":0.16,\"fStripDecimals\":true,\"fTitleAlign\":23,\"fTitleColor\":0,\"fTitleTextColor\":1,\"fTitleBorderSize\":0,\"fTitleFont\":42,\"fTitleFontSize\":0.05,\"fTitleStyle\":0,\"fTitleX\":0.5,\"fTitleY\":0.995,\"fTitleW\":0,\"fTitleH\":0,\"fLegoInnerR\":0.5,\"fLineStyles\":[\"\",\"  \",\" 12 12\",\" 4 8\",\" 12 16 4 16\",\" 20 12 4 12\",\" 20 12 4 12 4 12 4 12\",\" 20 20\",\" 20 12 4 12 4 12\",\" 80 20\",\" 80 40 4 40\",\"  \",\"  \",\"  \",\"  \",\"  \",\"  \",\"  \",\"  \",\"  \",\"  \",\"  \",\"  \",\"  \",\"  \",\"  \",\"  \",\"  \",\"  \",\"  \"],\"fHeaderPS\":\"\",\"fTitlePS\":\"\",\"fFitFormat\":\"5.4g\",\"fPaintTextFormat\":\"g\",\"fLineScalePS\":3,\"fJoinLinePS\":0,\"fCapLinePS\":0,\"fTimeOffset\":788918400,\"fImageScaling\":1}],\"opt\":[\"\",\"\",\"same\",\"same\",\"\",\"\"]},\"fExecs\":null,\"fName\":\"c1\",\"fTitle\":\"c1\",\"fNumPaletteColor\":0,\"fNextPaletteColor\":0,\"fDISPLAY\":\"$DISPLAY\",\"fDoubleBuffer\":0,\"fRetained\":true,\"fXsizeUser\":0,\"fYsizeUser\":0,\"fXsizeReal\":20,\"fYsizeReal\":16,\"fWindowTopX\":0,\"fWindowTopY\":0,\"fWindowWidth\":0,\"fWindowHeight\":0,\"fCw\":996,\"fCh\":772,\"fCatt\":{\"_typename\":\"TAttCanvas\",\"fXBetween\":2,\"fYBetween\":2,\"fTitleFromTop\":1.2,\"fXdate\":0.2,\"fYdate\":0.3,\"fAdate\":1},\"kMoveOpaque\":true,\"kResizeOpaque\":true,\"fHighLightColor\":2,\"fBatch\":true,\"kShowEventStatus\":false,\"kAutoExec\":true,\"kMenuBar\":true});\n",
       "   Core.settings.HandleKeys = false;\n",
       "   Core.draw(\"root_plot_1660640720848\", obj, \"\");\n",
       "}\n",
       "\n",
       "function script_load_root_plot_1660640720848(src, on_error) {\n",
       "    let script = document.createElement('script');\n",
       "    script.src = src;\n",
       "    script.onload = function() { display_root_plot_1660640720848(JSROOT); };\n",
       "    script.onerror = function() { script.remove(); on_error(); };\n",
       "    document.head.appendChild(script);\n",
       "}\n",
       "\n",
       "if (typeof requirejs !== 'undefined') {\n",
       "\n",
       "    // We are in jupyter notebooks, use require.js which should be configured already\n",
       "    requirejs.config({\n",
       "       paths: { 'JSRootCore' : [ 'scripts/JSRoot.core', 'https://root.cern/js/6.1.1/scripts/JSRoot.core.min', 'https://jsroot.gsi.de/6.1.1/scripts/JSRoot.core.min' ] }\n",
       "    })(['JSRootCore'],  function(Core) {\n",
       "       display_root_plot_1660640720848(Core);\n",
       "    });\n",
       "\n",
       "} else if (typeof JSROOT !== 'undefined') {\n",
       "\n",
       "   // JSROOT already loaded, just use it\n",
       "   display_root_plot_1660640720848(JSROOT);\n",
       "\n",
       "} else {\n",
       "\n",
       "    // We are in jupyterlab without require.js, directly loading jsroot\n",
       "    // Jupyterlab might be installed in a different base_url so we need to know it.\n",
       "    try {\n",
       "        var base_url = JSON.parse(document.getElementById('jupyter-config-data').innerHTML).baseUrl;\n",
       "    } catch(_) {\n",
       "        var base_url = '/';\n",
       "    }\n",
       "\n",
       "    // Try loading a local version of requirejs and fallback to cdn if not possible.\n",
       "    script_load_root_plot_1660640720848(base_url + 'static/scripts/JSRoot.core.js', function(){\n",
       "        console.error('Fail to load JSROOT locally, please check your jupyter_notebook_config.py file');\n",
       "        script_load_root_plot_1660640720848('https://root.cern/js/6.1.1/scripts/JSRoot.core.min.js', function(){\n",
       "            document.getElementById(\"root_plot_1660640720848\").innerHTML = \"Failed to load JSROOT\";\n",
       "        });\n",
       "    });\n",
       "}\n",
       "\n",
       "</script>\n"
      ],
      "text/plain": [
       "<IPython.core.display.HTML object>"
      ]
     },
     "metadata": {},
     "output_type": "display_data"
    },
    {
     "name": "stderr",
     "output_type": "stream",
     "text": [
      "Warning in <TCanvas::Constructor>: Deleting canvas with same name: c1\n"
     ]
    }
   ],
   "source": [
    "TCanvas *c1 = new TCanvas(\"c1\", \"c1\", 1000, 800);\n",
    "h12 -> Draw(\"same\");\n",
    "h10 -> Draw(\"same\");\n",
    "h11 -> Draw(\"same\");\n",
    "gPad -> SetGrid();\n",
    "gPad -> SetLogy();\n",
    "\n",
    "h12 -> GetYaxis() -> SetRangeUser(500, 1e5);\n",
    "\n",
    "TLegend *legend = new TLegend(0.7, 0.7, 0.9, 0.9);\n",
    "legend -> AddEntry(h10, \"#theta = 35^{o}\", \"l\");\n",
    "legend -> AddEntry(h11, \"#theta = 26^{o}\", \"l\");\n",
    "legend -> AddEntry(h12, \"#theta = 12^{o}\", \"l\");\n",
    "legend -> SetHeader(\"Inclination angle\");\n",
    "\n",
    "\n",
    "legend -> Draw();\n",
    "\n",
    "c1 -> Draw();"
   ]
  },
  {
   "cell_type": "code",
   "execution_count": 34,
   "id": "307abee6",
   "metadata": {},
   "outputs": [
    {
     "data": {
      "text/html": [
       "\n",
       "\n",
       "<div id=\"root_plot_1660641255359\"\n",
       "     style=\"width: 996px; height: 772px\">\n",
       "</div>\n",
       "<script>\n",
       "\n",
       "function display_root_plot_1660641255359(Core) {\n",
       "   let obj = Core.parse({\"_typename\":\"TCanvas\",\"fUniqueID\":0,\"fBits\":3342344,\"fLineColor\":1,\"fLineStyle\":1,\"fLineWidth\":1,\"fFillColor\":0,\"fFillStyle\":1001,\"fLeftMargin\":0.1,\"fRightMargin\":0.1,\"fBottomMargin\":0.1,\"fTopMargin\":0.1,\"fXfile\":2,\"fYfile\":2,\"fAfile\":1,\"fXstat\":0.99,\"fYstat\":0.99,\"fAstat\":2,\"fFrameFillColor\":0,\"fFrameLineColor\":1,\"fFrameFillStyle\":1001,\"fFrameLineStyle\":1,\"fFrameLineWidth\":1,\"fFrameBorderSize\":1,\"fFrameBorderMode\":0,\"fX1\":0.0499999962747095,\"fY1\":2.41134123344801,\"fX2\":0.550000003725291,\"fY2\":5.28762877088801,\"fXtoAbsPixelk\":-99.5999410950657,\"fXtoPixelk\":-99.5999410950657,\"fXtoPixel\":1991.99997031689,\"fYtoAbsPixelk\":1419.20774672378,\"fYtoPixelk\":1419.20774672378,\"fYtoPixel\":-268.401538424461,\"fUtoAbsPixelk\":5e-5,\"fUtoPixelk\":5e-5,\"fUtoPixel\":996,\"fVtoAbsPixelk\":772.00005,\"fVtoPixelk\":772,\"fVtoPixel\":-772,\"fAbsPixeltoXk\":0.0499999962747095,\"fPixeltoXk\":0.0499999962747095,\"fPixeltoX\":5.02008039609017e-4,\"fAbsPixeltoYk\":5.28762877088801,\"fPixeltoYk\":2.41134123344801,\"fPixeltoY\":-0.00372576105886011,\"fXlowNDC\":0,\"fYlowNDC\":0,\"fXUpNDC\":1,\"fYUpNDC\":1,\"fWNDC\":1,\"fHNDC\":1,\"fAbsXlowNDC\":0,\"fAbsYlowNDC\":0,\"fAbsWNDC\":1,\"fAbsHNDC\":1,\"fUxmin\":0.1,\"fUymin\":2.69897000433602,\"fUxmax\":0.5,\"fUymax\":5,\"fTheta\":30,\"fPhi\":30,\"fAspectRatio\":0,\"fNumber\":0,\"fTickx\":0,\"fTicky\":0,\"fLogx\":0,\"fLogy\":1,\"fLogz\":0,\"fPadPaint\":0,\"fCrosshair\":0,\"fCrosshairPos\":0,\"fBorderSize\":2,\"fBorderMode\":0,\"fModified\":false,\"fGridx\":true,\"fGridy\":true,\"fAbsCoord\":false,\"fEditable\":true,\"fFixedAspectRatio\":false,\"fPrimitives\":{\"_typename\":\"TList\",\"name\":\"TList\",\"arr\":[{\"_typename\":\"TFrame\",\"fUniqueID\":0,\"fBits\":8,\"fLineColor\":1,\"fLineStyle\":1,\"fLineWidth\":1,\"fFillColor\":0,\"fFillStyle\":1001,\"fX1\":0.1,\"fY1\":2.69897000433602,\"fX2\":0.5,\"fY2\":5,\"fBorderSize\":1,\"fBorderMode\":0},{\"_typename\":\"TH1D\",\"fUniqueID\":0,\"fBits\":520,\"fName\":\"h12\",\"fTitle\":\"\",\"fLineColor\":1,\"fLineStyle\":1,\"fLineWidth\":4,\"fFillColor\":0,\"fFillStyle\":1001,\"fMarkerColor\":1,\"fMarkerStyle\":7,\"fMarkerSize\":1,\"fNcells\":302,\"fXaxis\":{\"_typename\":\"TAxis\",\"fUniqueID\":0,\"fBits\":0,\"fName\":\"xaxis\",\"fTitle\":\"Energy [MeV]\",\"fNdivisions\":510,\"fAxisColor\":1,\"fLabelColor\":1,\"fLabelFont\":42,\"fLabelOffset\":0.005,\"fLabelSize\":0.035,\"fTickLength\":0.03,\"fTitleOffset\":1,\"fTitleSize\":0.035,\"fTitleColor\":1,\"fTitleFont\":42,\"fNbins\":300,\"fXmin\":0.1,\"fXmax\":0.5,\"fXbins\":[],\"fFirst\":0,\"fLast\":0,\"fBits2\":0,\"fTimeDisplay\":false,\"fTimeFormat\":\"\",\"fLabels\":null,\"fModLabs\":null},\"fYaxis\":{\"_typename\":\"TAxis\",\"fUniqueID\":0,\"fBits\":0,\"fName\":\"yaxis\",\"fTitle\":\"Counts\",\"fNdivisions\":510,\"fAxisColor\":1,\"fLabelColor\":1,\"fLabelFont\":42,\"fLabelOffset\":0.005,\"fLabelSize\":0.035,\"fTickLength\":0.03,\"fTitleOffset\":0,\"fTitleSize\":0.035,\"fTitleColor\":1,\"fTitleFont\":42,\"fNbins\":1,\"fXmin\":0,\"fXmax\":1,\"fXbins\":[],\"fFirst\":0,\"fLast\":0,\"fBits2\":0,\"fTimeDisplay\":false,\"fTimeFormat\":\"\",\"fLabels\":null,\"fModLabs\":null},\"fZaxis\":{\"_typename\":\"TAxis\",\"fUniqueID\":0,\"fBits\":0,\"fName\":\"zaxis\",\"fTitle\":\"\",\"fNdivisions\":510,\"fAxisColor\":1,\"fLabelColor\":1,\"fLabelFont\":42,\"fLabelOffset\":0.005,\"fLabelSize\":0.035,\"fTickLength\":0.03,\"fTitleOffset\":1,\"fTitleSize\":0.035,\"fTitleColor\":1,\"fTitleFont\":42,\"fNbins\":1,\"fXmin\":0,\"fXmax\":1,\"fXbins\":[],\"fFirst\":0,\"fLast\":0,\"fBits2\":0,\"fTimeDisplay\":false,\"fTimeFormat\":\"\",\"fLabels\":null,\"fModLabs\":null},\"fBarOffset\":0,\"fBarWidth\":1000,\"fEntries\":64000000,\"fTsumw\":3947443,\"fTsumw2\":3947443,\"fTsumwx\":707887.21535837,\"fTsumwx2\":139907.770332193,\"fMaximum\":100000,\"fMinimum\":500,\"fNormFactor\":0,\"fContour\":[],\"fSumw2\":[],\"fOption\":\"\",\"fFunctions\":{\"_typename\":\"TList\",\"name\":\"TList\",\"arr\":[{\"_typename\":\"TF1\",\"fUniqueID\":0,\"fBits\":1024,\"fName\":\"f12\",\"fTitle\":\"landau(0) + gaus(3)\",\"fLineColor\":2,\"fLineStyle\":1,\"fLineWidth\":2,\"fFillColor\":19,\"fFillStyle\":0,\"fMarkerColor\":1,\"fMarkerStyle\":1,\"fMarkerSize\":1,\"fXmin\":0.1,\"fXmax\":0.5,\"fNpar\":6,\"fNdim\":1,\"fNpx\":100,\"fType\":0,\"fNpfits\":300,\"fNDF\":294,\"fChisquare\":3843.79528152148,\"fMinimum\":-1111,\"fMaximum\":-1111,\"fParErrors\":{\"$arr\":\"Float64\",\"len\":6,\"v\":[1005.35771186873,3.79653527006577e-5,1.81933451375197e-5,205.256240021742,7.40912238803121e-5,3.29502487536919e-5]},\"fParMin\":{\"$arr\":\"Float64\",\"len\":6},\"fParMax\":{\"$arr\":\"Float64\",\"len\":6},\"fSave\":{\"$arr\":\"Float64\",\"len\":103,\"v\":[56.2342795059509,139.973517522569,330.117656655833,819.847550472399,2369.60900745602,6768.04641358199,15965.7021703251,30137.6830162745,47081.8570591051,63557.0885182309,76886.8685838,85628.6326505119,89441.9139825207,88718.5291137591,84288.3984011271,77226.6706280845,68691.3088750546,59756.4387764135,51265.4628607605,43747.9505888589,37421.735018167,32264.3360269921,28114.1713657035,24762.5170109354,22014.286819105,19715.2046219554,17754.9611572458,16058.6451202269,14575.5994527849,13270.2575993665,12116.083557232,11092.0775308072,10180.9145817797,9367.96291514141,8640.72543136448,7988.4742457629,7401.97695631218,6873.27419205751,6395.49251400637,5962.68545321191,5569.69830212644,5212.05324081802,4885.85184914462,4587.6924173184,4314.59980206298,4063.96588869005,3833.49900421381,3621.18087890193,3425.22997285143,3244.07017205451,3076.30401795031,2920.68977209767,2776.12171510536,2641.61320723073,2516.2820782232,2399.33800381895,2290.07157743565,2187.84482833643,2092.08297768414,2002.26725610101,1917.92863331136,1838.64233305612,1764.0230254554,1693.72060496593,1627.416475535,1564.82027590671,1505.66698763628,1449.71437649804,1396.74072487134,1346.54281855296,1298.93415643883,1253.74335577908,1210.81272935336,1169.99701403246,1131.16223286877,1094.18467515863,1058.94998089979,1025.3523177761,993.293640277403,962.683021840399,933.43605200412,905.47429153553,878.724779317782,853.119585522786,828.595406226067,805.093195178044,782.557828932768,760.937801961933,740.184948756768,720.254190249902,701.103302179482,682.692703273608,664.9852613591,647.946115698348,631.542514034794,615.74366298443,600.520590549791,585.846019656637,571.694251723558,558.04105937279,544.863587477981,0.1,0.5]},\"fNormalized\":false,\"fNormIntegral\":0,\"fFormula\":{\"_typename\":\"TFormula\",\"fUniqueID\":0,\"fBits\":1024,\"fName\":\"f12\",\"fTitle\":\"landau(0) + gaus(3)\",\"fClingParameters\":{\"$arr\":\"Float64\",\"len\":6,\"v\":[361218.338464087,0.150674521204152,0.012514945993805,24841.2303300058,0.151402800502142,0.0147277598296822]},\"fAllParametersSetted\":true,\"fParams\":[{\"$pair\":\"pair<TString,int,TFormulaParamOrder>\",\"first\":\"p0\",\"second\":0},{\"$pair\":\"pair<TString,int,TFormulaParamOrder>\",\"first\":\"p1\",\"second\":1},{\"$pair\":\"pair<TString,int,TFormulaParamOrder>\",\"first\":\"p2\",\"second\":2},{\"$pair\":\"pair<TString,int,TFormulaParamOrder>\",\"first\":\"p3\",\"second\":3},{\"$pair\":\"pair<TString,int,TFormulaParamOrder>\",\"first\":\"p4\",\"second\":4},{\"$pair\":\"pair<TString,int,TFormulaParamOrder>\",\"first\":\"p5\",\"second\":5}],\"fFormula\":\"[p0]*TMath::Landau(x,[p1],[p2],false)+[p3]*exp(-0.5*((x-[p4])\\/[p5])*((x-[p4])\\/[p5]))\",\"fNdim\":1,\"fLinearParts\":[],\"fVectorized\":false},\"fParams\":null,\"fComposition\":null}],\"opt\":[\"\"]},\"fBufferSize\":0,\"fBuffer\":[],\"fBinStatErrOpt\":0,\"fStatOverflows\":2,\"fArray\":{\"$arr\":\"Float64\",\"len\":302,\"v\":[59999846,17,30,50,88,140,196,346,529,738,1187,1716,2494,3596,4834,6436,8559,11321,14228,17695,22096,26652,31700,36721,42690,48092,54305,60545,65941,70972,75391,79705,83593,86944,88845,90037,91094,90744,90634,89774,88391,86950,84751,82244,79864,76988,74435,71391,68221,65834,62431,60536,57201,54817,52373,50126,47700,45880,43691,41568,39981,37901,35969,34409,32920,31296,29914,28684,27499,26285,25276,24362,23191,22231,21428,20779,19658,19150,18512,17714,16804,16331,15647,15176,14654,14095,13571,13183,12824,12322,12022,11527,11342,11006,10504,10317,9878,9646,9304,9216,8842,8553,8301,8132,8022,7648,7615,7274,7091,6827,6828,6601,6393,6361,6104,5965,5958,5793,5702,5536,5365,5182,5116,5151,4813,4878,4807,4716,4441,4443,4401,4298,4215,4060,3983,3896,3848,3843,3663,3679,3582,3630,3538,3420,3302,3270,3297,3223,3131,3103,3196,3005,2911,2902,2829,2818,2875,2752,2704,2623,2522,2600,2605,2552,2484,2523,2385,2396,2332,2311,2325,2262,2157,2233,2103,2146,2061,2049,2001,2090,1962,1859,1915,1786,1882,1924,1765,1707,1838,1775,1651,1698,1711,1636,1672,1649,1585,1519,1570,1540,1465,1469,1453,1509,1443,1392,1374,1384,1349,1347,1304,1392,1349,1341,1282,1295,1247,1223,1212,1208,1187,1157,1129,1142,1150,1138,1120,1107,1074,1085,1050,1072,1011,1100,1012,1049,982,1025,993,974,1027,941,879,874,957,943,863,862,889,870,863,866,883,826,842,801,825,813,845,812,856,792,757,780,688,692,754,752,706,737,774,722,728,752,655,712,662,674,713,612,656,653,702,662,670,644,608,625,632,600,652,597,617,562,588,620,603,610,568,589,560,52711]}},{\"_typename\":\"TH1D\",\"fUniqueID\":0,\"fBits\":520,\"fName\":\"h10\",\"fTitle\":\"\",\"fLineColor\":632,\"fLineStyle\":1,\"fLineWidth\":4,\"fFillColor\":0,\"fFillStyle\":1001,\"fMarkerColor\":632,\"fMarkerStyle\":7,\"fMarkerSize\":1,\"fNcells\":302,\"fXaxis\":{\"_typename\":\"TAxis\",\"fUniqueID\":0,\"fBits\":0,\"fName\":\"xaxis\",\"fTitle\":\"Energy [MeV]\",\"fNdivisions\":510,\"fAxisColor\":1,\"fLabelColor\":1,\"fLabelFont\":42,\"fLabelOffset\":0.005,\"fLabelSize\":0.035,\"fTickLength\":0.03,\"fTitleOffset\":1,\"fTitleSize\":0.035,\"fTitleColor\":1,\"fTitleFont\":42,\"fNbins\":300,\"fXmin\":0.1,\"fXmax\":0.5,\"fXbins\":[],\"fFirst\":0,\"fLast\":0,\"fBits2\":0,\"fTimeDisplay\":false,\"fTimeFormat\":\"\",\"fLabels\":null,\"fModLabs\":null},\"fYaxis\":{\"_typename\":\"TAxis\",\"fUniqueID\":0,\"fBits\":0,\"fName\":\"yaxis\",\"fTitle\":\"Counts\",\"fNdivisions\":510,\"fAxisColor\":1,\"fLabelColor\":1,\"fLabelFont\":42,\"fLabelOffset\":0.005,\"fLabelSize\":0.035,\"fTickLength\":0.03,\"fTitleOffset\":0,\"fTitleSize\":0.035,\"fTitleColor\":1,\"fTitleFont\":42,\"fNbins\":1,\"fXmin\":0,\"fXmax\":1,\"fXbins\":[],\"fFirst\":0,\"fLast\":0,\"fBits2\":0,\"fTimeDisplay\":false,\"fTimeFormat\":\"\",\"fLabels\":null,\"fModLabs\":null},\"fZaxis\":{\"_typename\":\"TAxis\",\"fUniqueID\":0,\"fBits\":0,\"fName\":\"zaxis\",\"fTitle\":\"\",\"fNdivisions\":510,\"fAxisColor\":1,\"fLabelColor\":1,\"fLabelFont\":42,\"fLabelOffset\":0.005,\"fLabelSize\":0.035,\"fTickLength\":0.03,\"fTitleOffset\":1,\"fTitleSize\":0.035,\"fTitleColor\":1,\"fTitleFont\":42,\"fNbins\":1,\"fXmin\":0,\"fXmax\":1,\"fXbins\":[],\"fFirst\":0,\"fLast\":0,\"fBits2\":0,\"fTimeDisplay\":false,\"fTimeFormat\":\"\",\"fLabels\":null,\"fModLabs\":null},\"fBarOffset\":0,\"fBarWidth\":1000,\"fEntries\":64000000,\"fTsumw\":3913736,\"fTsumw2\":3913736,\"fTsumwx\":832577.816843918,\"fTsumwx2\":190596.108869942,\"fMaximum\":-1111,\"fMinimum\":-1111,\"fNormFactor\":0,\"fContour\":[],\"fSumw2\":[],\"fOption\":\"\",\"fFunctions\":{\"_typename\":\"TList\",\"name\":\"TList\",\"arr\":[{\"_typename\":\"TF1\",\"fUniqueID\":0,\"fBits\":1024,\"fName\":\"f10\",\"fTitle\":\"landau(0) + gaus(3)\",\"fLineColor\":2,\"fLineStyle\":1,\"fLineWidth\":2,\"fFillColor\":19,\"fFillStyle\":0,\"fMarkerColor\":1,\"fMarkerStyle\":1,\"fMarkerSize\":1,\"fXmin\":0.1,\"fXmax\":0.5,\"fNpar\":6,\"fNdim\":1,\"fNpx\":100,\"fType\":0,\"fNpfits\":289,\"fNDF\":283,\"fChisquare\":3746.84558441848,\"fMinimum\":-1111,\"fMaximum\":-1111,\"fParErrors\":{\"$arr\":\"Float64\",\"len\":6,\"v\":[840.667120308289,4.24006144179505e-5,2.03909414945175e-5,173.575875946408,9.36818252801059e-5,3.67320319283556e-5]},\"fParMin\":{\"$arr\":\"Float64\",\"len\":6},\"fParMax\":{\"$arr\":\"Float64\",\"len\":6},\"fSave\":{\"$arr\":\"Float64\",\"len\":103,\"v\":[0.0535127196918004,0.178651643942581,0.561923749430302,1.665206648752,4.64921106614971,12.2295670430011,30.3114141302862,71.0172505353011,162.600791378154,406.725279968343,1174.59114754787,3345.57524853572,8110.86224680756,16193.49526996,27190.5476068828,39680.7485565138,51893.4550896374,62341.9200053526,70102.261470223,74791.7670761099,76430.04073232,75309.6050439285,71908.6256220179,66825.7109921118,60711.5352309934,54191.0877065618,47789.619887025,41881.8305069743,36676.6979158715,32236.8521578641,28520.1046532414,25426.7517977314,22839.4225618324,20649.0283376295,18766.8272321501,17126.4118908511,15680.3176439294,14394.9610070563,13246.0288092398,12215.0976328462,11287.4728546014,10450.928230802,9695.00555148565,9010.62147845757,8389.82876416885,7825.65166300051,7311.95809921017,6843.3526596918,6415.08394691766,6022.96350962692,5663.29483475127,5332.81127519062,5028.62191509989,4748.16444472267,4489.16418672939,4249.59849349302,4027.66581594377,3821.75882480922,3630.44104083666,3452.42650016663,3286.56204360846,3131.81187406344,2987.24407505299,2852.01882574985,2725.37808469043,2606.63654764964,2495.17370533281,2390.42686234618,2291.88499202713,2199.08331245384,2111.59849719257,2029.04443831647,1951.06849228897,1877.34814863615,1807.58806934701,1741.51745382742,1678.88769015796,1619.470258507,1563.05485694765,1509.44772372228,1458.47013327724,1409.9570462274,1363.75589586784,1319.72549598165,1277.73505654452,1237.66329553721,1199.39763647965,1162.83348252341,1127.87355900786,1094.42731731896,1062.41039370801,1031.74411744466,1002.35506330793,974.174643973142,947.138738339094,921.187352270103,896.264308605942,872.316963627961,849.295947465824,827.154926191841,805.850383582598,0.1,0.5]},\"fNormalized\":false,\"fNormIntegral\":0,\"fFormula\":{\"_typename\":\"TFormula\",\"fUniqueID\":0,\"fBits\":1024,\"fName\":\"f10\",\"fTitle\":\"landau(0) + gaus(3)\",\"fClingParameters\":{\"$arr\":\"Float64\",\"len\":6,\"v\":[317684.1043422,0.181814032635375,0.0146530204934336,19463.8207880067,0.182920808996786,0.0163860086648065]},\"fAllParametersSetted\":true,\"fParams\":[{\"$pair\":\"pair<TString,int,TFormulaParamOrder>\",\"first\":\"p0\",\"second\":0},{\"$pair\":\"pair<TString,int,TFormulaParamOrder>\",\"first\":\"p1\",\"second\":1},{\"$pair\":\"pair<TString,int,TFormulaParamOrder>\",\"first\":\"p2\",\"second\":2},{\"$pair\":\"pair<TString,int,TFormulaParamOrder>\",\"first\":\"p3\",\"second\":3},{\"$pair\":\"pair<TString,int,TFormulaParamOrder>\",\"first\":\"p4\",\"second\":4},{\"$pair\":\"pair<TString,int,TFormulaParamOrder>\",\"first\":\"p5\",\"second\":5}],\"fFormula\":\"[p0]*TMath::Landau(x,[p1],[p2],false)+[p3]*exp(-0.5*((x-[p4])\\/[p5])*((x-[p4])\\/[p5]))\",\"fNdim\":1,\"fLinearParts\":[],\"fVectorized\":false},\"fParams\":null,\"fComposition\":null}],\"opt\":[\"\"]},\"fBufferSize\":0,\"fBuffer\":[],\"fBinStatErrOpt\":0,\"fStatOverflows\":2,\"fArray\":{\"$arr\":\"Float64\",\"len\":302,\"v\":[59999988,0,0,0,0,0,1,0,0,0,0,0,1,0,1,1,1,5,9,14,20,30,57,87,147,195,314,427,676,944,1366,1905,2530,3403,4389,5849,7564,9524,11684,14369,17158,20817,24127,28081,32053,35865,40862,44868,49632,53700,57982,61499,64306,67994,70117,72886,74427,75541,76493,77561,77357,77088,77065,75979,74926,73239,71967,70188,68255,65862,64537,62549,60050,58020,56106,54923,52568,50066,49063,46961,44719,43312,41403,40016,38260,36630,35540,34183,32917,31445,30359,29248,28228,27188,26014,25273,24297,23263,22446,21636,20719,19951,19595,18984,18118,17632,16945,16364,15951,15475,15151,14510,14004,13692,13177,12873,12377,12153,11879,11311,11060,10969,10632,10396,10045,9763,9506,9456,8945,8965,8498,8238,8115,7969,7817,7606,7394,7301,7050,7005,6589,6488,6532,6242,6209,6170,6021,5845,5607,5413,5447,5261,5257,5327,5055,4982,4848,4739,4811,4609,4622,4450,4427,4241,4278,4181,4103,4084,3934,3962,3857,3652,3655,3511,3537,3496,3428,3496,3276,3382,3266,3169,3063,3060,3150,3009,3090,2972,2874,2843,2675,2673,2708,2767,2544,2452,2572,2508,2539,2507,2388,2383,2444,2410,2370,2313,2238,2296,2126,2089,2237,2122,2085,2004,1991,1969,2079,1991,1834,1930,1882,1803,1849,1792,1885,1826,1794,1747,1617,1725,1644,1592,1648,1564,1627,1569,1524,1569,1575,1478,1512,1493,1495,1403,1436,1391,1397,1402,1453,1411,1340,1366,1355,1304,1313,1292,1256,1227,1264,1260,1174,1173,1187,1189,1164,1171,1247,1156,1180,1113,1123,1152,1072,1053,1012,1095,1070,1022,1008,1028,990,931,967,965,968,923,887,955,939,940,903,880,926,940,853,927,888,922,918,850,812,86276]}},{\"_typename\":\"TH1D\",\"fUniqueID\":0,\"fBits\":520,\"fName\":\"h11\",\"fTitle\":\"\",\"fLineColor\":600,\"fLineStyle\":1,\"fLineWidth\":4,\"fFillColor\":0,\"fFillStyle\":1001,\"fMarkerColor\":600,\"fMarkerStyle\":7,\"fMarkerSize\":1,\"fNcells\":302,\"fXaxis\":{\"_typename\":\"TAxis\",\"fUniqueID\":0,\"fBits\":0,\"fName\":\"xaxis\",\"fTitle\":\"Energy [MeV]\",\"fNdivisions\":510,\"fAxisColor\":1,\"fLabelColor\":1,\"fLabelFont\":42,\"fLabelOffset\":0.005,\"fLabelSize\":0.035,\"fTickLength\":0.03,\"fTitleOffset\":1,\"fTitleSize\":0.035,\"fTitleColor\":1,\"fTitleFont\":42,\"fNbins\":300,\"fXmin\":0.1,\"fXmax\":0.5,\"fXbins\":[],\"fFirst\":0,\"fLast\":0,\"fBits2\":0,\"fTimeDisplay\":false,\"fTimeFormat\":\"\",\"fLabels\":null,\"fModLabs\":null},\"fYaxis\":{\"_typename\":\"TAxis\",\"fUniqueID\":0,\"fBits\":0,\"fName\":\"yaxis\",\"fTitle\":\"Counts\",\"fNdivisions\":510,\"fAxisColor\":1,\"fLabelColor\":1,\"fLabelFont\":42,\"fLabelOffset\":0.005,\"fLabelSize\":0.035,\"fTickLength\":0.03,\"fTitleOffset\":0,\"fTitleSize\":0.035,\"fTitleColor\":1,\"fTitleFont\":42,\"fNbins\":1,\"fXmin\":0,\"fXmax\":1,\"fXbins\":[],\"fFirst\":0,\"fLast\":0,\"fBits2\":0,\"fTimeDisplay\":false,\"fTimeFormat\":\"\",\"fLabels\":null,\"fModLabs\":null},\"fZaxis\":{\"_typename\":\"TAxis\",\"fUniqueID\":0,\"fBits\":0,\"fName\":\"zaxis\",\"fTitle\":\"\",\"fNdivisions\":510,\"fAxisColor\":1,\"fLabelColor\":1,\"fLabelFont\":42,\"fLabelOffset\":0.005,\"fLabelSize\":0.035,\"fTickLength\":0.03,\"fTitleOffset\":1,\"fTitleSize\":0.035,\"fTitleColor\":1,\"fTitleFont\":42,\"fNbins\":1,\"fXmin\":0,\"fXmax\":1,\"fXbins\":[],\"fFirst\":0,\"fLast\":0,\"fBits2\":0,\"fTimeDisplay\":false,\"fTimeFormat\":\"\",\"fLabels\":null,\"fModLabs\":null},\"fBarOffset\":0,\"fBarWidth\":1000,\"fEntries\":64000000,\"fTsumw\":3933364,\"fTsumw2\":3933364,\"fTsumwx\":766421.888263614,\"fTsumwx2\":162614.730780936,\"fMaximum\":-1111,\"fMinimum\":-1111,\"fNormFactor\":0,\"fContour\":[],\"fSumw2\":[],\"fOption\":\"\",\"fFunctions\":{\"_typename\":\"TList\",\"name\":\"TList\",\"arr\":[{\"_typename\":\"TF1\",\"fUniqueID\":0,\"fBits\":1024,\"fName\":\"f11\",\"fTitle\":\"landau(0) + gaus(3)\",\"fLineColor\":2,\"fLineStyle\":1,\"fLineWidth\":2,\"fFillColor\":19,\"fFillStyle\":0,\"fMarkerColor\":1,\"fMarkerStyle\":1,\"fMarkerSize\":1,\"fXmin\":0.1,\"fXmax\":0.5,\"fNpar\":6,\"fNdim\":1,\"fNpx\":100,\"fType\":0,\"fNpfits\":296,\"fNDF\":290,\"fChisquare\":4079.41911132213,\"fMinimum\":-1111,\"fMaximum\":-1111,\"fParErrors\":{\"$arr\":\"Float64\",\"len\":6,\"v\":[915.319012575151,3.97236869248395e-5,1.91547709687131e-5,188.389490317977,8.16122690505016e-5,3.28487716676303e-5]},\"fParMin\":{\"$arr\":\"Float64\",\"len\":6},\"fParMax\":{\"$arr\":\"Float64\",\"len\":6},\"fSave\":{\"$arr\":\"Float64\",\"len\":103,\"v\":[2.09392292833035,6.2283110804259,17.3060952872364,44.9261483422157,109.456447721532,262.316036701551,706.866896082326,2152.81307884817,6036.41042595944,13798.2782666681,25605.7715228381,39954.6312186183,54481.9770706177,67043.7027031104,76277.9137909189,81624.5947807821,83117.480133462,81184.8152641136,76516.8700849557,69962.2803070139,62413.851596302,54683.546137,47396.9287069385,40938.9726496923,35461.960940273,30940.9147491228,27248.1195609963,24220.1761560208,21702.8645451248,19572.0886717986,17737.2793742817,16135.7149203588,14724.3593156264,13472.7712875414,12358.1869503567,11362.5617646577,10470.9457775038,9670.62110852899,8950.62449379224,8301.44959016271,7714.83230608436,7183.57853314436,6701.41840492498,6262.88071849224,5863.18436561641,5498.14460232109,5164.09230538591,4857.80453598063,4576.44488791109,4317.51226115755,4078.79686451244,3858.34240635075,3654.41357495251,3465.4680371457,3290.13229597269,3127.18084528341,2975.5181428428,2834.16299524989,2702.23501231001,2578.94282005645,2463.57381606573,2355.48521862128,2254.09624903469,2158.88128733667,2069.36386941282,1985.11141276825,1905.73057430883,1830.86315727926,1760.18249618247,1693.3902584446,1630.21361005549,1570.40269963614,1513.72842155239,1459.98042397103,1408.96533227541,1360.5051621369,1314.43589987305,1270.6062305934,1228.87639710842,1189.11717471436,1151.20894881489,1115.04088394171,1080.51017412561,1047.52136577664,1015.98574528277,985.820784452264,956.949637724329,929.300685771678,902.807120730405,877.40656882917,853.040746660692,829.655147752765,807.198756460669,785.623786524352,764.885441917625,744.941697867495,725.753100143906,707.282580916927,689.495289653161,672.358437678288,655.841155170727,0.1,0.5]},\"fNormalized\":false,\"fNormIntegral\":0,\"fFormula\":{\"_typename\":\"TFormula\",\"fUniqueID\":0,\"fBits\":1024,\"fName\":\"f11\",\"fTitle\":\"landau(0) + gaus(3)\",\"fClingParameters\":{\"$arr\":\"Float64\",\"len\":6,\"v\":[338901.105818522,0.165010023773106,0.013533927043307,22363.4160324623,0.166015178196395,0.0153265744435174]},\"fAllParametersSetted\":true,\"fParams\":[{\"$pair\":\"pair<TString,int,TFormulaParamOrder>\",\"first\":\"p0\",\"second\":0},{\"$pair\":\"pair<TString,int,TFormulaParamOrder>\",\"first\":\"p1\",\"second\":1},{\"$pair\":\"pair<TString,int,TFormulaParamOrder>\",\"first\":\"p2\",\"second\":2},{\"$pair\":\"pair<TString,int,TFormulaParamOrder>\",\"first\":\"p3\",\"second\":3},{\"$pair\":\"pair<TString,int,TFormulaParamOrder>\",\"first\":\"p4\",\"second\":4},{\"$pair\":\"pair<TString,int,TFormulaParamOrder>\",\"first\":\"p5\",\"second\":5}],\"fFormula\":\"[p0]*TMath::Landau(x,[p1],[p2],false)+[p3]*exp(-0.5*((x-[p4])\\/[p5])*((x-[p4])\\/[p5]))\",\"fNdim\":1,\"fLinearParts\":[],\"fVectorized\":false},\"fParams\":null,\"fComposition\":null}],\"opt\":[\"\"]},\"fBufferSize\":0,\"fBuffer\":[],\"fBinStatErrOpt\":0,\"fStatOverflows\":2,\"fArray\":{\"$arr\":\"Float64\",\"len\":302,\"v\":[59999947,0,0,0,2,2,0,5,6,4,23,31,53,92,159,229,370,565,792,1164,1736,2390,3257,4322,5750,7568,9535,12353,15422,18762,22429,26765,31283,36180,41063,46054,51716,56081,60891,65727,69643,73044,76660,78725,81485,83119,83375,84562,84701,83550,83055,81594,79966,78374,76484,73924,71601,69704,67190,65095,62380,60078,57476,55446,53059,50663,48385,46886,44866,42397,40773,38552,37676,35770,34726,32908,31633,30413,29335,27895,26994,25860,25011,23692,23003,22097,21254,20430,19558,19102,18265,17776,17252,16438,15896,15340,14742,14568,13840,13377,13071,12621,12521,11920,11569,11217,10778,10393,10192,10029,9539,9296,9114,9007,8782,8419,8346,7945,7814,7727,7439,7278,7039,6918,6561,6582,6379,6268,6116,6057,5774,5789,5623,5535,5386,5345,5150,5116,5115,4915,4804,4712,4553,4501,4402,4396,4380,4297,4177,4078,4002,3970,3839,3738,3639,3774,3566,3552,3501,3420,3380,3410,3306,3308,3091,3041,3079,2917,2931,2878,2911,2809,2719,2743,2656,2579,2701,2676,2517,2556,2489,2382,2431,2344,2335,2296,2217,2266,2216,2198,2193,2071,2180,1979,2043,2010,2026,1992,1958,1949,1916,1872,1823,1816,1774,1667,1690,1798,1749,1721,1670,1587,1583,1656,1600,1535,1561,1537,1516,1506,1495,1457,1449,1391,1427,1417,1366,1398,1331,1316,1412,1275,1274,1254,1196,1251,1199,1192,1187,1206,1179,1163,1128,1178,1127,1161,1065,1060,1112,1143,1142,1036,1014,1040,1026,1001,1001,1074,1005,1009,966,951,951,947,972,868,909,960,881,955,897,860,866,867,862,822,840,814,843,825,793,786,748,783,790,781,764,706,791,713,770,745,709,749,744,689,698,682,733,676,711,66689]}},{\"_typename\":\"TLegend\",\"fUniqueID\":0,\"fBits\":8,\"fLineColor\":1,\"fLineStyle\":1,\"fLineWidth\":1,\"fFillColor\":0,\"fFillStyle\":1001,\"fX1\":0.400000001490116,\"fY1\":4.42474250965601,\"fX2\":0.500000002980232,\"fY2\":5.00000001714401,\"fX1NDC\":0.7,\"fY1NDC\":0.7,\"fX2NDC\":0.9,\"fY2NDC\":0.9,\"fBorderSize\":1,\"fInit\":1,\"fShadowColor\":1,\"fCornerRadius\":0,\"fOption\":\"brNDC\",\"fName\":\"TPave\",\"fTextAngle\":0,\"fTextSize\":0,\"fTextAlign\":12,\"fTextColor\":1,\"fTextFont\":42,\"fPrimitives\":{\"_typename\":\"TList\",\"name\":\"TList\",\"arr\":[{\"_typename\":\"TLegendEntry\",\"fUniqueID\":0,\"fBits\":0,\"fTextAngle\":0,\"fTextSize\":0,\"fTextAlign\":0,\"fTextColor\":0,\"fTextFont\":42,\"fLineColor\":1,\"fLineStyle\":1,\"fLineWidth\":1,\"fFillColor\":0,\"fFillStyle\":0,\"fMarkerColor\":1,\"fMarkerStyle\":21,\"fMarkerSize\":1,\"fObject\":null,\"fLabel\":\"Inclination angle\",\"fOption\":\"h\"},{\"_typename\":\"TLegendEntry\",\"fUniqueID\":0,\"fBits\":0,\"fTextAngle\":0,\"fTextSize\":0,\"fTextAlign\":0,\"fTextColor\":0,\"fTextFont\":42,\"fLineColor\":632,\"fLineStyle\":1,\"fLineWidth\":4,\"fFillColor\":0,\"fFillStyle\":0,\"fMarkerColor\":1,\"fMarkerStyle\":21,\"fMarkerSize\":1,\"fObject\":{\"$ref\":10},\"fLabel\":\"#theta = 35^{o}\",\"fOption\":\"l\"},{\"_typename\":\"TLegendEntry\",\"fUniqueID\":0,\"fBits\":0,\"fTextAngle\":0,\"fTextSize\":0,\"fTextAlign\":0,\"fTextColor\":0,\"fTextFont\":42,\"fLineColor\":600,\"fLineStyle\":1,\"fLineWidth\":4,\"fFillColor\":0,\"fFillStyle\":0,\"fMarkerColor\":1,\"fMarkerStyle\":21,\"fMarkerSize\":1,\"fObject\":{\"$ref\":17},\"fLabel\":\"#theta = 26^{o}\",\"fOption\":\"l\"},{\"_typename\":\"TLegendEntry\",\"fUniqueID\":0,\"fBits\":0,\"fTextAngle\":0,\"fTextSize\":0,\"fTextAlign\":0,\"fTextColor\":0,\"fTextFont\":42,\"fLineColor\":1,\"fLineStyle\":1,\"fLineWidth\":4,\"fFillColor\":0,\"fFillStyle\":0,\"fMarkerColor\":1,\"fMarkerStyle\":21,\"fMarkerSize\":1,\"fObject\":{\"$ref\":3},\"fLabel\":\"#theta = 12^{o}\",\"fOption\":\"l\"}],\"opt\":[\"h\",\"l\",\"l\",\"l\"]},\"fEntrySeparation\":0.1,\"fMargin\":0.25,\"fNColumns\":1,\"fColumnSeparation\":0},{\"_typename\":\"TStyle\",\"fUniqueID\":0,\"fBits\":0,\"fName\":\"Modern\",\"fTitle\":\"Modern Style\",\"fLineColor\":1,\"fLineStyle\":1,\"fLineWidth\":1,\"fFillColor\":19,\"fFillStyle\":1001,\"fMarkerColor\":1,\"fMarkerStyle\":1,\"fMarkerSize\":1,\"fTextAngle\":0,\"fTextSize\":0.05,\"fTextAlign\":11,\"fTextColor\":1,\"fTextFont\":62,\"fXaxis\":{\"_typename\":\"TAttAxis\",\"fNdivisions\":510,\"fAxisColor\":1,\"fLabelColor\":1,\"fLabelFont\":42,\"fLabelOffset\":0.005,\"fLabelSize\":0.035,\"fTickLength\":0.03,\"fTitleOffset\":1,\"fTitleSize\":0.035,\"fTitleColor\":1,\"fTitleFont\":42},\"fYaxis\":{\"_typename\":\"TAttAxis\",\"fNdivisions\":510,\"fAxisColor\":1,\"fLabelColor\":1,\"fLabelFont\":42,\"fLabelOffset\":0.005,\"fLabelSize\":0.035,\"fTickLength\":0.03,\"fTitleOffset\":0,\"fTitleSize\":0.035,\"fTitleColor\":1,\"fTitleFont\":42},\"fZaxis\":{\"_typename\":\"TAttAxis\",\"fNdivisions\":510,\"fAxisColor\":1,\"fLabelColor\":1,\"fLabelFont\":42,\"fLabelOffset\":0.005,\"fLabelSize\":0.035,\"fTickLength\":0.03,\"fTitleOffset\":1,\"fTitleSize\":0.035,\"fTitleColor\":1,\"fTitleFont\":42},\"fBarWidth\":1,\"fBarOffset\":0,\"fColorModelPS\":0,\"fDrawBorder\":0,\"fOptLogx\":0,\"fOptLogy\":0,\"fOptLogz\":0,\"fOptDate\":0,\"fOptStat\":1111,\"fOptTitle\":1,\"fOptFile\":0,\"fOptFit\":0,\"fShowEventStatus\":0,\"fShowEditor\":0,\"fShowToolBar\":0,\"fNumberContours\":20,\"fAttDate\":{\"_typename\":\"TAttText\",\"fTextAngle\":0,\"fTextSize\":0.025,\"fTextAlign\":11,\"fTextColor\":1,\"fTextFont\":62},\"fDateX\":0.01,\"fDateY\":0.01,\"fEndErrorSize\":2,\"fErrorX\":0.5,\"fFuncColor\":2,\"fFuncStyle\":1,\"fFuncWidth\":2,\"fGridColor\":0,\"fGridStyle\":3,\"fGridWidth\":1,\"fLegendBorderSize\":1,\"fLegendFillColor\":0,\"fLegendFont\":42,\"fLegendTextSize\":0,\"fHatchesLineWidth\":1,\"fHatchesSpacing\":1,\"fFrameFillColor\":0,\"fFrameLineColor\":1,\"fFrameFillStyle\":1001,\"fFrameLineStyle\":1,\"fFrameLineWidth\":1,\"fFrameBorderSize\":1,\"fFrameBorderMode\":0,\"fHistFillColor\":0,\"fHistLineColor\":602,\"fHistFillStyle\":1001,\"fHistLineStyle\":1,\"fHistLineWidth\":1,\"fHistMinimumZero\":false,\"fHistTopMargin\":0.05,\"fCanvasPreferGL\":false,\"fCanvasColor\":0,\"fCanvasBorderSize\":2,\"fCanvasBorderMode\":0,\"fCanvasDefH\":500,\"fCanvasDefW\":700,\"fCanvasDefX\":10,\"fCanvasDefY\":10,\"fPadColor\":0,\"fPadBorderSize\":2,\"fPadBorderMode\":0,\"fPadBottomMargin\":0.1,\"fPadTopMargin\":0.1,\"fPadLeftMargin\":0.1,\"fPadRightMargin\":0.1,\"fPadGridX\":false,\"fPadGridY\":false,\"fPadTickX\":0,\"fPadTickY\":0,\"fPaperSizeX\":20,\"fPaperSizeY\":26,\"fScreenFactor\":1,\"fStatColor\":0,\"fStatTextColor\":1,\"fStatBorderSize\":1,\"fStatFont\":42,\"fStatFontSize\":0,\"fStatStyle\":1001,\"fStatFormat\":\"6.4g\",\"fStatX\":0.98,\"fStatY\":0.935,\"fStatW\":0.2,\"fStatH\":0.16,\"fStripDecimals\":true,\"fTitleAlign\":23,\"fTitleColor\":0,\"fTitleTextColor\":1,\"fTitleBorderSize\":0,\"fTitleFont\":42,\"fTitleFontSize\":0.05,\"fTitleStyle\":0,\"fTitleX\":0.5,\"fTitleY\":0.995,\"fTitleW\":0,\"fTitleH\":0,\"fLegoInnerR\":0.5,\"fLineStyles\":[\"\",\"  \",\" 12 12\",\" 4 8\",\" 12 16 4 16\",\" 20 12 4 12\",\" 20 12 4 12 4 12 4 12\",\" 20 20\",\" 20 12 4 12 4 12\",\" 80 20\",\" 80 40 4 40\",\"  \",\"  \",\"  \",\"  \",\"  \",\"  \",\"  \",\"  \",\"  \",\"  \",\"  \",\"  \",\"  \",\"  \",\"  \",\"  \",\"  \",\"  \",\"  \"],\"fHeaderPS\":\"\",\"fTitlePS\":\"\",\"fFitFormat\":\"5.4g\",\"fPaintTextFormat\":\"g\",\"fLineScalePS\":3,\"fJoinLinePS\":0,\"fCapLinePS\":0,\"fTimeOffset\":788918400,\"fImageScaling\":1}],\"opt\":[\"\",\"\",\"same\",\"same\",\"\",\"\"]},\"fExecs\":null,\"fName\":\"c1\",\"fTitle\":\"c1\",\"fNumPaletteColor\":0,\"fNextPaletteColor\":0,\"fDISPLAY\":\"$DISPLAY\",\"fDoubleBuffer\":0,\"fRetained\":true,\"fXsizeUser\":0,\"fYsizeUser\":0,\"fXsizeReal\":20,\"fYsizeReal\":16,\"fWindowTopX\":0,\"fWindowTopY\":0,\"fWindowWidth\":0,\"fWindowHeight\":0,\"fCw\":996,\"fCh\":772,\"fCatt\":{\"_typename\":\"TAttCanvas\",\"fXBetween\":2,\"fYBetween\":2,\"fTitleFromTop\":1.2,\"fXdate\":0.2,\"fYdate\":0.3,\"fAdate\":1},\"kMoveOpaque\":true,\"kResizeOpaque\":true,\"fHighLightColor\":2,\"fBatch\":true,\"kShowEventStatus\":false,\"kAutoExec\":true,\"kMenuBar\":true});\n",
       "   Core.settings.HandleKeys = false;\n",
       "   Core.draw(\"root_plot_1660641255359\", obj, \"\");\n",
       "}\n",
       "\n",
       "function script_load_root_plot_1660641255359(src, on_error) {\n",
       "    let script = document.createElement('script');\n",
       "    script.src = src;\n",
       "    script.onload = function() { display_root_plot_1660641255359(JSROOT); };\n",
       "    script.onerror = function() { script.remove(); on_error(); };\n",
       "    document.head.appendChild(script);\n",
       "}\n",
       "\n",
       "if (typeof requirejs !== 'undefined') {\n",
       "\n",
       "    // We are in jupyter notebooks, use require.js which should be configured already\n",
       "    requirejs.config({\n",
       "       paths: { 'JSRootCore' : [ 'scripts/JSRoot.core', 'https://root.cern/js/6.1.1/scripts/JSRoot.core.min', 'https://jsroot.gsi.de/6.1.1/scripts/JSRoot.core.min' ] }\n",
       "    })(['JSRootCore'],  function(Core) {\n",
       "       display_root_plot_1660641255359(Core);\n",
       "    });\n",
       "\n",
       "} else if (typeof JSROOT !== 'undefined') {\n",
       "\n",
       "   // JSROOT already loaded, just use it\n",
       "   display_root_plot_1660641255359(JSROOT);\n",
       "\n",
       "} else {\n",
       "\n",
       "    // We are in jupyterlab without require.js, directly loading jsroot\n",
       "    // Jupyterlab might be installed in a different base_url so we need to know it.\n",
       "    try {\n",
       "        var base_url = JSON.parse(document.getElementById('jupyter-config-data').innerHTML).baseUrl;\n",
       "    } catch(_) {\n",
       "        var base_url = '/';\n",
       "    }\n",
       "\n",
       "    // Try loading a local version of requirejs and fallback to cdn if not possible.\n",
       "    script_load_root_plot_1660641255359(base_url + 'static/scripts/JSRoot.core.js', function(){\n",
       "        console.error('Fail to load JSROOT locally, please check your jupyter_notebook_config.py file');\n",
       "        script_load_root_plot_1660641255359('https://root.cern/js/6.1.1/scripts/JSRoot.core.min.js', function(){\n",
       "            document.getElementById(\"root_plot_1660641255359\").innerHTML = \"Failed to load JSROOT\";\n",
       "        });\n",
       "    });\n",
       "}\n",
       "\n",
       "</script>\n"
      ],
      "text/plain": [
       "<IPython.core.display.HTML object>"
      ]
     },
     "metadata": {},
     "output_type": "display_data"
    },
    {
     "name": "stdout",
     "output_type": "stream",
     "text": [
      " FCN=3746.85 FROM MIGRAD    STATUS=CONVERGED     656 CALLS         657 TOTAL\n",
      "                     EDM=3.02271e-08    STRATEGY= 1  ERROR MATRIX UNCERTAINTY   4.5 per cent\n",
      "  EXT PARAMETER                                   STEP         FIRST   \n",
      "  NO.   NAME      VALUE            ERROR          SIZE      DERIVATIVE \n",
      "   1  p0           3.17684e+05   8.40667e+02  -4.70738e+00   2.20738e-07\n",
      "   2  p1           1.81814e-01   4.24006e-05   3.67729e-07   3.06586e+00\n",
      "   3  p2           1.46530e-02   2.03909e-05   1.58560e-07   2.66600e+00\n",
      "   4  p3           1.94638e+04   1.73576e+02   1.34373e+00   1.84824e-06\n",
      "   5  p4           1.82921e-01   9.36818e-05  -8.13190e-07   3.70697e+00\n",
      "   6  p5           1.63860e-02   3.67320e-05  -3.33883e-07   3.07356e-01\n",
      " FCN=4079.42 FROM MIGRAD    STATUS=CONVERGED     474 CALLS         475 TOTAL\n",
      "                     EDM=9.52876e-07    STRATEGY= 1      ERROR MATRIX ACCURATE \n",
      "  EXT PARAMETER                                   STEP         FIRST   \n",
      "  NO.   NAME      VALUE            ERROR          SIZE      DERIVATIVE \n",
      "   1  p0           3.38901e+05   9.15319e+02   6.32025e+00   5.35532e-06\n",
      "   2  p1           1.65010e-01   3.97237e-05   4.57737e-07  -2.66752e+01\n",
      "   3  p2           1.35339e-02   1.91548e-05   1.79048e-07   2.16456e+02\n",
      "   4  p3           2.23634e+04   1.88389e+02   1.78162e+00   1.20079e-05\n",
      "   5  p4           1.66015e-01   8.16123e-05   1.25023e-06  -3.65419e+00\n",
      "   6  p5           1.53266e-02   3.28488e-05   6.01778e-07   1.55781e+01\n",
      " FCN=3843.8 FROM MIGRAD    STATUS=CONVERGED     358 CALLS         359 TOTAL\n",
      "                     EDM=9.75391e-09    STRATEGY= 1  ERROR MATRIX UNCERTAINTY   1.4 per cent\n",
      "  EXT PARAMETER                                   STEP         FIRST   \n",
      "  NO.   NAME      VALUE            ERROR          SIZE      DERIVATIVE \n",
      "   1  p0           3.61218e+05   1.00536e+03  -1.59774e-01   1.80841e-07\n",
      "   2  p1           1.50675e-01   3.79654e-05  -1.85038e-08  -5.57209e+00\n",
      "   3  p2           1.25149e-02   1.81933e-05   5.35276e-09  -2.03420e+00\n",
      "   4  p3           2.48412e+04   2.05256e+02   7.67188e-02   1.96858e-06\n",
      "   5  p4           1.51403e-01   7.40912e-05   2.00429e-08  -1.22516e-01\n",
      "   6  p5           1.47278e-02   3.29502e-05  -1.55109e-08  -1.28826e+00\n"
     ]
    },
    {
     "name": "stderr",
     "output_type": "stream",
     "text": [
      "Warning in <TCanvas::Constructor>: Deleting canvas with same name: c1\n"
     ]
    }
   ],
   "source": [
    "TCanvas *c2 = new TCanvas(\"c1\", \"c1\", 1000, 800);\n",
    "h12 -> Draw(\"same\");\n",
    "h10 -> Draw(\"same\");\n",
    "h11 -> Draw(\"same\");\n",
    "gPad -> SetGrid();\n",
    "gPad -> SetLogy();\n",
    "\n",
    "h12 -> GetYaxis() -> SetRangeUser(500, 1e5);\n",
    "\n",
    "TLegend *legend = new TLegend(0.7, 0.7, 0.9, 0.9);\n",
    "legend -> AddEntry(h10, \"#theta = 35^{o}\", \"l\");\n",
    "legend -> AddEntry(h11, \"#theta = 26^{o}\", \"l\");\n",
    "legend -> AddEntry(h12, \"#theta = 12^{o}\", \"l\");\n",
    "legend -> SetHeader(\"Inclination angle\");\n",
    "\n",
    "\n",
    "TF1 *f1[3];\n",
    "\n",
    "f1[0] = new TF1(\"f10\", \"landau(0) + gaus(3)\", 0.1, 0.5);\n",
    "//f1[0] -> FixParameter(3,0.);\n",
    "f1[0] -> SetParameter(0,4e5);\n",
    "f1[0] -> SetParameter(1,0.17);\n",
    "f1[0] -> SetParameter(2,0.02);\n",
    "f1[0] -> SetParameter(3,1e5);\n",
    "f1[0] -> SetParameter(4,0.17);\n",
    "f1[0] -> SetParameter(5,0.02);\n",
    "h10 -> Fit(\"f10\",\"\",\"L\");\n",
    "\n",
    "\n",
    "f1[1] = new TF1(\"f11\", \"landau(0) + gaus(3)\", 0.1, 0.5);\n",
    "//f1[0] -> FixParameter(3,0.);\n",
    "f1[1] -> SetParameter(0,4e5);\n",
    "f1[1] -> SetParameter(1,0.17);\n",
    "f1[1] -> SetParameter(2,0.02);\n",
    "f1[1] -> SetParameter(3,1e5);\n",
    "f1[1] -> SetParameter(4,0.17);\n",
    "f1[1] -> SetParameter(5,0.02);\n",
    "h11 -> Fit(\"f11\",\"\",\"L\");\n",
    "\n",
    "f1[2] = new TF1(\"f12\", \"landau(0) + gaus(3)\", 0.1, 0.5);\n",
    "//f1[0] -> FixParameter(3,0.);\n",
    "f1[2] -> SetParameter(0,4e5);\n",
    "f1[2] -> SetParameter(1,0.17);\n",
    "f1[2] -> SetParameter(2,0.02);\n",
    "f1[2] -> SetParameter(3,1e5);\n",
    "f1[2] -> SetParameter(4,0.17);\n",
    "f1[2] -> SetParameter(5,0.02);\n",
    "h12 -> Fit(\"f12\",\"\",\"L\");\n",
    "\n",
    "\n",
    "\n",
    "legend -> Draw();\n",
    "c2 -> Draw();"
   ]
  },
  {
   "cell_type": "code",
   "execution_count": 38,
   "id": "8e4c410a",
   "metadata": {},
   "outputs": [],
   "source": [
    "ofstream myFile;\n",
    "myFile.open(\"FitResult.txt\", ios::out);\n",
    "myFile << 12.0  << \" \" << 0.2 << \" \" << f1[2] -> GetParameter(2) << \" \" << f1[2] -> GetParError(2) << endl;\n",
    "myFile << 26.0  << \" \" << 0.2 << \" \" << f1[1] -> GetParameter(2) << \" \" << f1[1] -> GetParError(2) << endl;\n",
    "myFile << 35.0  << \" \" << 0.2 << \" \" << f1[0] -> GetParameter(2) << \" \" << f1[0] -> GetParError(2) << endl;\n",
    "myFile.close();"
   ]
  },
  {
   "cell_type": "code",
   "execution_count": 52,
   "id": "63d3a574",
   "metadata": {},
   "outputs": [
    {
     "data": {
      "text/html": [
       "\n",
       "\n",
       "<div id=\"root_plot_1660642225388\"\n",
       "     style=\"width: 996px; height: 672px\">\n",
       "</div>\n",
       "<script>\n",
       "\n",
       "function display_root_plot_1660642225388(Core) {\n",
       "   let obj = Core.parse({\"_typename\":\"TCanvas\",\"fUniqueID\":0,\"fBits\":3342344,\"fLineColor\":1,\"fLineStyle\":1,\"fLineWidth\":1,\"fFillColor\":0,\"fFillStyle\":1001,\"fLeftMargin\":0.1,\"fRightMargin\":0.1,\"fBottomMargin\":0.1,\"fTopMargin\":0.1,\"fXfile\":2,\"fYfile\":2,\"fAfile\":1,\"fXstat\":0.99,\"fYstat\":0.99,\"fAstat\":2,\"fFrameFillColor\":0,\"fFrameLineColor\":1,\"fFrameFillStyle\":1001,\"fFrameLineStyle\":1,\"fFrameLineWidth\":1,\"fFrameBorderSize\":1,\"fFrameBorderMode\":0,\"fX1\":0,\"fY1\":0,\"fX2\":1,\"fY2\":1,\"fXtoAbsPixelk\":5e-5,\"fXtoPixelk\":5e-5,\"fXtoPixel\":996,\"fYtoAbsPixelk\":672.00005,\"fYtoPixelk\":672.00005,\"fYtoPixel\":-672,\"fUtoAbsPixelk\":5e-5,\"fUtoPixelk\":5e-5,\"fUtoPixel\":996,\"fVtoAbsPixelk\":672.00005,\"fVtoPixelk\":672,\"fVtoPixel\":-672,\"fAbsPixeltoXk\":0,\"fPixeltoXk\":0,\"fPixeltoX\":0.00100401606425703,\"fAbsPixeltoYk\":1,\"fPixeltoYk\":0,\"fPixeltoY\":-0.00148809523809524,\"fXlowNDC\":0,\"fYlowNDC\":0,\"fXUpNDC\":1,\"fYUpNDC\":1,\"fWNDC\":1,\"fHNDC\":1,\"fAbsXlowNDC\":0,\"fAbsYlowNDC\":0,\"fAbsWNDC\":1,\"fAbsHNDC\":1,\"fUxmin\":0,\"fUymin\":0,\"fUxmax\":1,\"fUymax\":1,\"fTheta\":30,\"fPhi\":30,\"fAspectRatio\":0,\"fNumber\":0,\"fTickx\":0,\"fTicky\":0,\"fLogx\":0,\"fLogy\":0,\"fLogz\":0,\"fPadPaint\":0,\"fCrosshair\":0,\"fCrosshairPos\":0,\"fBorderSize\":2,\"fBorderMode\":0,\"fModified\":false,\"fGridx\":true,\"fGridy\":true,\"fAbsCoord\":false,\"fEditable\":true,\"fFixedAspectRatio\":false,\"fPrimitives\":{\"_typename\":\"TList\",\"name\":\"TList\",\"arr\":[{\"_typename\":\"TGraphErrors\",\"fUniqueID\":0,\"fBits\":1032,\"fName\":\"Graph\",\"fTitle\":\"Graph\",\"fLineColor\":1,\"fLineStyle\":1,\"fLineWidth\":1,\"fFillColor\":0,\"fFillStyle\":1000,\"fMarkerColor\":1,\"fMarkerStyle\":1,\"fMarkerSize\":1,\"fNpoints\":3,\"fX\":[12,26,35],\"fY\":[0.0125149,0.0135339,0.014653],\"fFunctions\":{\"_typename\":\"TList\",\"name\":\"TList\",\"arr\":[],\"opt\":[]},\"fHistogram\":{\"_typename\":\"TH1F\",\"fUniqueID\":0,\"fBits\":512,\"fName\":\"Graph\",\"fTitle\":\"Graph\",\"fLineColor\":602,\"fLineStyle\":1,\"fLineWidth\":1,\"fFillColor\":0,\"fFillStyle\":1001,\"fMarkerColor\":1,\"fMarkerStyle\":1,\"fMarkerSize\":1,\"fNcells\":102,\"fXaxis\":{\"_typename\":\"TAxis\",\"fUniqueID\":0,\"fBits\":0,\"fName\":\"xaxis\",\"fTitle\":\"\",\"fNdivisions\":510,\"fAxisColor\":1,\"fLabelColor\":1,\"fLabelFont\":42,\"fLabelOffset\":0.005,\"fLabelSize\":0.035,\"fTickLength\":0.03,\"fTitleOffset\":1,\"fTitleSize\":0.035,\"fTitleColor\":1,\"fTitleFont\":42,\"fNbins\":100,\"fXmin\":9.46,\"fXmax\":37.54,\"fXbins\":[],\"fFirst\":0,\"fLast\":0,\"fBits2\":0,\"fTimeDisplay\":false,\"fTimeFormat\":\"\",\"fLabels\":null,\"fModLabs\":null},\"fYaxis\":{\"_typename\":\"TAxis\",\"fUniqueID\":0,\"fBits\":0,\"fName\":\"yaxis\",\"fTitle\":\"\",\"fNdivisions\":510,\"fAxisColor\":1,\"fLabelColor\":1,\"fLabelFont\":42,\"fLabelOffset\":0.005,\"fLabelSize\":0.035,\"fTickLength\":0.03,\"fTitleOffset\":0,\"fTitleSize\":0.035,\"fTitleColor\":1,\"fTitleFont\":42,\"fNbins\":1,\"fXmin\":0.01227903828,\"fXmax\":0.01489105932,\"fXbins\":[],\"fFirst\":0,\"fLast\":0,\"fBits2\":0,\"fTimeDisplay\":false,\"fTimeFormat\":\"\",\"fLabels\":null,\"fModLabs\":null},\"fZaxis\":{\"_typename\":\"TAxis\",\"fUniqueID\":0,\"fBits\":0,\"fName\":\"zaxis\",\"fTitle\":\"\",\"fNdivisions\":510,\"fAxisColor\":1,\"fLabelColor\":1,\"fLabelFont\":42,\"fLabelOffset\":0.005,\"fLabelSize\":0.035,\"fTickLength\":0.03,\"fTitleOffset\":1,\"fTitleSize\":0.035,\"fTitleColor\":1,\"fTitleFont\":42,\"fNbins\":1,\"fXmin\":0,\"fXmax\":1,\"fXbins\":[],\"fFirst\":0,\"fLast\":0,\"fBits2\":0,\"fTimeDisplay\":false,\"fTimeFormat\":\"\",\"fLabels\":null,\"fModLabs\":null},\"fBarOffset\":0,\"fBarWidth\":1000,\"fEntries\":0,\"fTsumw\":0,\"fTsumw2\":0,\"fTsumwx\":0,\"fTsumwx2\":0,\"fMaximum\":0.01489105932,\"fMinimum\":0.01227903828,\"fNormFactor\":0,\"fContour\":[],\"fSumw2\":[],\"fOption\":\"\",\"fFunctions\":{\"_typename\":\"TList\",\"name\":\"TList\",\"arr\":[],\"opt\":[]},\"fBufferSize\":0,\"fBuffer\":[],\"fBinStatErrOpt\":0,\"fStatOverflows\":2,\"fArray\":{\"$arr\":\"Float32\",\"len\":102}},\"fMinimum\":-1111,\"fMaximum\":-1111,\"fEX\":[0.2,0.2,0.2],\"fEY\":[1.81933e-5,1.91548e-5,2.03909e-5]},{\"_typename\":\"TStyle\",\"fUniqueID\":0,\"fBits\":0,\"fName\":\"Modern\",\"fTitle\":\"Modern Style\",\"fLineColor\":1,\"fLineStyle\":1,\"fLineWidth\":1,\"fFillColor\":19,\"fFillStyle\":1001,\"fMarkerColor\":1,\"fMarkerStyle\":1,\"fMarkerSize\":1,\"fTextAngle\":0,\"fTextSize\":0.05,\"fTextAlign\":11,\"fTextColor\":1,\"fTextFont\":62,\"fXaxis\":{\"_typename\":\"TAttAxis\",\"fNdivisions\":510,\"fAxisColor\":1,\"fLabelColor\":1,\"fLabelFont\":42,\"fLabelOffset\":0.005,\"fLabelSize\":0.035,\"fTickLength\":0.03,\"fTitleOffset\":1,\"fTitleSize\":0.035,\"fTitleColor\":1,\"fTitleFont\":42},\"fYaxis\":{\"_typename\":\"TAttAxis\",\"fNdivisions\":510,\"fAxisColor\":1,\"fLabelColor\":1,\"fLabelFont\":42,\"fLabelOffset\":0.005,\"fLabelSize\":0.035,\"fTickLength\":0.03,\"fTitleOffset\":0,\"fTitleSize\":0.035,\"fTitleColor\":1,\"fTitleFont\":42},\"fZaxis\":{\"_typename\":\"TAttAxis\",\"fNdivisions\":510,\"fAxisColor\":1,\"fLabelColor\":1,\"fLabelFont\":42,\"fLabelOffset\":0.005,\"fLabelSize\":0.035,\"fTickLength\":0.03,\"fTitleOffset\":1,\"fTitleSize\":0.035,\"fTitleColor\":1,\"fTitleFont\":42},\"fBarWidth\":1,\"fBarOffset\":0,\"fColorModelPS\":0,\"fDrawBorder\":0,\"fOptLogx\":0,\"fOptLogy\":0,\"fOptLogz\":0,\"fOptDate\":0,\"fOptStat\":1111,\"fOptTitle\":1,\"fOptFile\":0,\"fOptFit\":0,\"fShowEventStatus\":0,\"fShowEditor\":0,\"fShowToolBar\":0,\"fNumberContours\":20,\"fAttDate\":{\"_typename\":\"TAttText\",\"fTextAngle\":0,\"fTextSize\":0.025,\"fTextAlign\":11,\"fTextColor\":1,\"fTextFont\":62},\"fDateX\":0.01,\"fDateY\":0.01,\"fEndErrorSize\":2,\"fErrorX\":0.5,\"fFuncColor\":2,\"fFuncStyle\":1,\"fFuncWidth\":2,\"fGridColor\":0,\"fGridStyle\":3,\"fGridWidth\":1,\"fLegendBorderSize\":1,\"fLegendFillColor\":0,\"fLegendFont\":42,\"fLegendTextSize\":0,\"fHatchesLineWidth\":1,\"fHatchesSpacing\":1,\"fFrameFillColor\":0,\"fFrameLineColor\":1,\"fFrameFillStyle\":1001,\"fFrameLineStyle\":1,\"fFrameLineWidth\":1,\"fFrameBorderSize\":1,\"fFrameBorderMode\":0,\"fHistFillColor\":0,\"fHistLineColor\":602,\"fHistFillStyle\":1001,\"fHistLineStyle\":1,\"fHistLineWidth\":1,\"fHistMinimumZero\":false,\"fHistTopMargin\":0.05,\"fCanvasPreferGL\":false,\"fCanvasColor\":0,\"fCanvasBorderSize\":2,\"fCanvasBorderMode\":0,\"fCanvasDefH\":500,\"fCanvasDefW\":700,\"fCanvasDefX\":10,\"fCanvasDefY\":10,\"fPadColor\":0,\"fPadBorderSize\":2,\"fPadBorderMode\":0,\"fPadBottomMargin\":0.1,\"fPadTopMargin\":0.1,\"fPadLeftMargin\":0.1,\"fPadRightMargin\":0.1,\"fPadGridX\":false,\"fPadGridY\":false,\"fPadTickX\":0,\"fPadTickY\":0,\"fPaperSizeX\":20,\"fPaperSizeY\":26,\"fScreenFactor\":1,\"fStatColor\":0,\"fStatTextColor\":1,\"fStatBorderSize\":1,\"fStatFont\":42,\"fStatFontSize\":0,\"fStatStyle\":1001,\"fStatFormat\":\"6.4g\",\"fStatX\":0.98,\"fStatY\":0.935,\"fStatW\":0.2,\"fStatH\":0.16,\"fStripDecimals\":true,\"fTitleAlign\":23,\"fTitleColor\":0,\"fTitleTextColor\":1,\"fTitleBorderSize\":0,\"fTitleFont\":42,\"fTitleFontSize\":0.05,\"fTitleStyle\":0,\"fTitleX\":0.5,\"fTitleY\":0.995,\"fTitleW\":0,\"fTitleH\":0,\"fLegoInnerR\":0.5,\"fLineStyles\":[\"\",\"  \",\" 12 12\",\" 4 8\",\" 12 16 4 16\",\" 20 12 4 12\",\" 20 12 4 12 4 12 4 12\",\" 20 20\",\" 20 12 4 12 4 12\",\" 80 20\",\" 80 40 4 40\",\"  \",\"  \",\"  \",\"  \",\"  \",\"  \",\"  \",\"  \",\"  \",\"  \",\"  \",\"  \",\"  \",\"  \",\"  \",\"  \",\"  \",\"  \",\"  \"],\"fHeaderPS\":\"\",\"fTitlePS\":\"\",\"fFitFormat\":\"5.4g\",\"fPaintTextFormat\":\"g\",\"fLineScalePS\":3,\"fJoinLinePS\":0,\"fCapLinePS\":0,\"fTimeOffset\":788918400,\"fImageScaling\":1}],\"opt\":[\"p\",\"\"]},\"fExecs\":null,\"fName\":\"c3\",\"fTitle\":\"c3\",\"fNumPaletteColor\":0,\"fNextPaletteColor\":0,\"fDISPLAY\":\"$DISPLAY\",\"fDoubleBuffer\":0,\"fRetained\":true,\"fXsizeUser\":0,\"fYsizeUser\":0,\"fXsizeReal\":20,\"fYsizeReal\":14,\"fWindowTopX\":0,\"fWindowTopY\":0,\"fWindowWidth\":0,\"fWindowHeight\":0,\"fCw\":996,\"fCh\":672,\"fCatt\":{\"_typename\":\"TAttCanvas\",\"fXBetween\":2,\"fYBetween\":2,\"fTitleFromTop\":1.2,\"fXdate\":0.2,\"fYdate\":0.3,\"fAdate\":1},\"kMoveOpaque\":true,\"kResizeOpaque\":true,\"fHighLightColor\":2,\"fBatch\":true,\"kShowEventStatus\":false,\"kAutoExec\":true,\"kMenuBar\":true});\n",
       "   Core.settings.HandleKeys = false;\n",
       "   Core.draw(\"root_plot_1660642225388\", obj, \"\");\n",
       "}\n",
       "\n",
       "function script_load_root_plot_1660642225388(src, on_error) {\n",
       "    let script = document.createElement('script');\n",
       "    script.src = src;\n",
       "    script.onload = function() { display_root_plot_1660642225388(JSROOT); };\n",
       "    script.onerror = function() { script.remove(); on_error(); };\n",
       "    document.head.appendChild(script);\n",
       "}\n",
       "\n",
       "if (typeof requirejs !== 'undefined') {\n",
       "\n",
       "    // We are in jupyter notebooks, use require.js which should be configured already\n",
       "    requirejs.config({\n",
       "       paths: { 'JSRootCore' : [ 'scripts/JSRoot.core', 'https://root.cern/js/6.1.1/scripts/JSRoot.core.min', 'https://jsroot.gsi.de/6.1.1/scripts/JSRoot.core.min' ] }\n",
       "    })(['JSRootCore'],  function(Core) {\n",
       "       display_root_plot_1660642225388(Core);\n",
       "    });\n",
       "\n",
       "} else if (typeof JSROOT !== 'undefined') {\n",
       "\n",
       "   // JSROOT already loaded, just use it\n",
       "   display_root_plot_1660642225388(JSROOT);\n",
       "\n",
       "} else {\n",
       "\n",
       "    // We are in jupyterlab without require.js, directly loading jsroot\n",
       "    // Jupyterlab might be installed in a different base_url so we need to know it.\n",
       "    try {\n",
       "        var base_url = JSON.parse(document.getElementById('jupyter-config-data').innerHTML).baseUrl;\n",
       "    } catch(_) {\n",
       "        var base_url = '/';\n",
       "    }\n",
       "\n",
       "    // Try loading a local version of requirejs and fallback to cdn if not possible.\n",
       "    script_load_root_plot_1660642225388(base_url + 'static/scripts/JSRoot.core.js', function(){\n",
       "        console.error('Fail to load JSROOT locally, please check your jupyter_notebook_config.py file');\n",
       "        script_load_root_plot_1660642225388('https://root.cern/js/6.1.1/scripts/JSRoot.core.min.js', function(){\n",
       "            document.getElementById(\"root_plot_1660642225388\").innerHTML = \"Failed to load JSROOT\";\n",
       "        });\n",
       "    });\n",
       "}\n",
       "\n",
       "</script>\n"
      ],
      "text/plain": [
       "<IPython.core.display.HTML object>"
      ]
     },
     "metadata": {},
     "output_type": "display_data"
    },
    {
     "name": "stdout",
     "output_type": "stream",
     "text": [
      "12 0.2 0.0125149 1.81933e-05\n",
      "26 0.2 0.0135339 1.91548e-05\n",
      "35 0.2 0.014653 2.03909e-05\n"
     ]
    },
    {
     "name": "stderr",
     "output_type": "stream",
     "text": [
      "Warning in <TCanvas::Constructor>: Deleting canvas with same name: c3\n"
     ]
    }
   ],
   "source": [
    "TTree *tree = new TTree(\"tree\", \"from file\");\n",
    "tree -> ReadFile(\"FitResult.txt\", \"theta/D:dtheta/D:MPV/D:dMPV/D\");\n",
    "\n",
    "double *theta, *dtheta, *MPV, *dMPV;\n",
    "\n",
    "tree -> Draw(\"theta:dtheta:MPV:dMPV\");\n",
    "theta = (double*) tree -> GetV1();\n",
    "dtheta = (double*) tree -> GetV2();\n",
    "MPV = (double*) tree -> GetV3();\n",
    "dMPV = (double*) tree -> GetV4();\n",
    "\n",
    "for(int i = 0; i < tree -> GetEntries(); ++i)\n",
    "{\n",
    "    cout << theta[i] << \" \" << dtheta[i] << \" \" << MPV[i] << \" \" << dMPV[i] << endl;\n",
    "}\n",
    "\n",
    "TGraphErrors *g = new TGraphErrors(tree -> GetEntries(), theta, MPV, dtheta, dMPV);\n",
    "TCanvas *c3 = new TCanvas(\"c3\", \"c3\", 1000, 700);\n",
    "g-> Draw(\"P\");\n",
    "\n",
    "TF1 *f3 = new TF1(\"f3\", \"[0]/TMath::Cos(x*TMath::Pi()/180.0)\", 10., 38.);\n",
    "\n",
    "gPad -> SetGrid();\n",
    "c3 -> Draw();\n"
   ]
  }
 ],
 "metadata": {
  "kernelspec": {
   "display_name": "ROOT C++",
   "language": "c++",
   "name": "root"
  },
  "language_info": {
   "codemirror_mode": "text/x-c++src",
   "file_extension": ".C",
   "mimetype": " text/x-c++src",
   "name": "c++"
  }
 },
 "nbformat": 4,
 "nbformat_minor": 5
}
