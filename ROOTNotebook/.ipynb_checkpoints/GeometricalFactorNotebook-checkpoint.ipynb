{
 "cells": [
  {
   "cell_type": "markdown",
   "id": "1d41dfd6",
   "metadata": {},
   "source": [
    "# Geometrical factor analysis"
   ]
  },
  {
   "cell_type": "code",
   "execution_count": 1,
   "id": "66c4ce82",
   "metadata": {},
   "outputs": [],
   "source": [
    "%jsroot on"
   ]
  },
  {
   "cell_type": "code",
   "execution_count": 2,
   "id": "9a8e2ff4",
   "metadata": {},
   "outputs": [
    {
     "name": "stdout",
     "output_type": "stream",
     "text": [
      "(const char *) \"/Users/riccardo/Documents/G4Progects/LEM_simulation\"\n"
     ]
    }
   ],
   "source": [
    "TString PREFIX = \"/Users/riccardo/Documents/G4Progects/LEM_simulation\";\n",
    "gSystem -> cd(PREFIX.Data());\n",
    "gSystem -> pwd()"
   ]
  },
  {
   "cell_type": "code",
   "execution_count": 3,
   "id": "a2f82fdd",
   "metadata": {},
   "outputs": [],
   "source": [
    "TString DataSetToAnalyse = \"./DST_01_08_2022\";\n",
    "gSystem -> cd(DataSetToAnalyse.Data());"
   ]
  },
  {
   "cell_type": "code",
   "execution_count": 4,
   "id": "8e17fd06",
   "metadata": {},
   "outputs": [
    {
     "name": "stdout",
     "output_type": "stream",
     "text": [
      "(int) 1\n"
     ]
    }
   ],
   "source": [
    "gSystem -> CompileMacro(\"../ROOT_macros/GeometricalFactor.C\",\"kO\")"
   ]
  },
  {
   "cell_type": "code",
   "execution_count": 5,
   "id": "8935851f",
   "metadata": {},
   "outputs": [
    {
     "name": "stdout",
     "output_type": "stream",
     "text": [
      "(const char *) \"/Users/riccardo/Documents/G4Progects/LEM_simulation/DST_27_07_2022\"\n"
     ]
    }
   ],
   "source": [
    "gSystem -> pwd()"
   ]
  },
  {
   "cell_type": "code",
   "execution_count": 6,
   "id": "5344cfaa",
   "metadata": {},
   "outputs": [
    {
     "name": "stdout",
     "output_type": "stream",
     "text": [
      "27_07_2022_ALPHA.root\n",
      "27_07_2022_ELECTRON.root\n",
      "27_07_2022_PROTON.root\n",
      "FileNames.txt\n",
      "(int) 0\n"
     ]
    }
   ],
   "source": [
    "gSystem -> Exec(\"ls\")"
   ]
  },
  {
   "cell_type": "code",
   "execution_count": null,
   "id": "1a8b2f73",
   "metadata": {},
   "outputs": [],
   "source": [
    "GeometricalFactor();\n",
    "cout << \"Macro processed correctly\" << endl;"
   ]
  },
  {
   "cell_type": "code",
   "execution_count": null,
   "id": "5a1646d2",
   "metadata": {},
   "outputs": [],
   "source": [
    "gDirectory -> ls()"
   ]
  },
  {
   "cell_type": "markdown",
   "id": "8fed9021",
   "metadata": {},
   "source": [
    "## Inizio analisi interattiva\n",
    "A questo punto abbiamo eseguito la macro che permette di caricare i dati come desiderato.\n",
    "Nella gDirectory abbiamo tutti gli oggetti generati dalla Macro. Si possono quindi eseguire grafici, fit, etc."
   ]
  },
  {
   "cell_type": "code",
   "execution_count": null,
   "id": "aaab3079",
   "metadata": {},
   "outputs": [],
   "source": [
    "TCanvas *c1 = new TCanvas();\n",
    "hFinal_1 -> Draw();\n",
    "gPad -> SetGrid();\n",
    "c1 -> Draw();"
   ]
  }
 ],
 "metadata": {
  "kernelspec": {
   "display_name": "ROOT C++",
   "language": "c++",
   "name": "root"
  },
  "language_info": {
   "codemirror_mode": "text/x-c++src",
   "file_extension": ".C",
   "mimetype": " text/x-c++src",
   "name": "c++"
  }
 },
 "nbformat": 4,
 "nbformat_minor": 5
}
