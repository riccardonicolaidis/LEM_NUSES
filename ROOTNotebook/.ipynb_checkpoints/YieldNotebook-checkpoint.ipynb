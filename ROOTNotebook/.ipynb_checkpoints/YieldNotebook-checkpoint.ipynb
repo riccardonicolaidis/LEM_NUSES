{
 "cells": [
  {
   "cell_type": "markdown",
   "id": "c2f08a5a",
   "metadata": {},
   "source": [
    "# Yield analysis"
   ]
  },
  {
   "cell_type": "code",
   "execution_count": 42,
   "id": "a1986f61",
   "metadata": {},
   "outputs": [],
   "source": [
    "%jsroot on"
   ]
  },
  {
   "cell_type": "code",
   "execution_count": 43,
   "id": "30b48068",
   "metadata": {},
   "outputs": [
    {
     "name": "stdout",
     "output_type": "stream",
     "text": [
      "(const char *) \"/Users/riccardo/Documents/G4Progects/LEM_simulation\"\n"
     ]
    }
   ],
   "source": [
    "TString PREFIX = \"/Users/riccardo/Documents/G4Progects/LEM_simulation\";\n",
    "gSystem -> cd(PREFIX.Data());\n",
    "gSystem -> pwd()"
   ]
  },
  {
   "cell_type": "code",
   "execution_count": 44,
   "id": "f60d0d3e",
   "metadata": {},
   "outputs": [],
   "source": [
    "TString DataSetToAnalyse = \"./DST_27_07_2022\";\n",
    "gSystem -> cd(DataSetToAnalyse.Data());"
   ]
  },
  {
   "cell_type": "code",
   "execution_count": 45,
   "id": "720dc764",
   "metadata": {},
   "outputs": [
    {
     "name": "stdout",
     "output_type": "stream",
     "text": [
      "(int) 1\n"
     ]
    },
    {
     "name": "stderr",
     "output_type": "stream",
     "text": [
      "Info in <ACLiC>: unmodified script has already been compiled and loaded\n"
     ]
    }
   ],
   "source": [
    "gSystem -> CompileMacro(\"../ROOT_macros/DetectionYield.C\",\"kOv\")"
   ]
  },
  {
   "cell_type": "code",
   "execution_count": 46,
   "id": "48a4f6b5",
   "metadata": {},
   "outputs": [
    {
     "name": "stdout",
     "output_type": "stream",
     "text": [
      "(const char *) \"/Users/riccardo/Documents/G4Progects/LEM_simulation/DST_27_07_2022\"\n"
     ]
    }
   ],
   "source": [
    "gSystem -> pwd()"
   ]
  },
  {
   "cell_type": "code",
   "execution_count": 50,
   "id": "f4f9f4aa",
   "metadata": {},
   "outputs": [
    {
     "name": "stdout",
     "output_type": "stream",
     "text": [
      "27_07_2022_ALPHA.root\n",
      "27_07_2022_ELECTRON.root\n",
      "27_07_2022_PROTON.root\n",
      "FileNames.txt\n",
      "(int) 0\n"
     ]
    }
   ],
   "source": [
    "gSystem -> Exec(\"ls\")"
   ]
  },
  {
   "cell_type": "code",
   "execution_count": 51,
   "id": "137010a6",
   "metadata": {},
   "outputs": [
    {
     "name": "stderr",
     "output_type": "stream",
     "text": [
      "IncrementalExecutor::executeFunction: symbol '_ZNSt3__1L9use_facetINS_5ctypeIcEEEERKT_RKNS_6localeE' unresolved while linking [cling interface function]!\n",
      "You are probably missing the definition of std::__1::ctype<char> const& std::__1::use_facet<std::__1::ctype<char> >(std::__1::locale const&)\n",
      "Maybe you need to load the corresponding shared library?\n",
      "IncrementalExecutor::executeFunction: symbol '_ZNKSt3__18ios_base5flagsEv' unresolved while linking [cling interface function]!\n",
      "You are probably missing the definition of std::__1::ios_base::flags() const\n",
      "Maybe you need to load the corresponding shared library?\n",
      "IncrementalExecutor::executeFunction: symbol '_ZNKSt3__18ios_base5widthEv' unresolved while linking [cling interface function]!\n",
      "You are probably missing the definition of std::__1::ios_base::width() const\n",
      "Maybe you need to load the corresponding shared library?\n",
      "IncrementalExecutor::executeFunction: symbol '_ZNSt3__18ios_base5widthEl' unresolved while linking [cling interface function]!\n",
      "You are probably missing the definition of std::__1::ios_base::width(long)\n",
      "Maybe you need to load the corresponding shared library?\n"
     ]
    }
   ],
   "source": [
    "DetectionYield();\n",
    "cout << \"Macro processed correctly\" << endl;"
   ]
  },
  {
   "cell_type": "code",
   "execution_count": 49,
   "id": "03d71813",
   "metadata": {},
   "outputs": [
    {
     "name": "stderr",
     "output_type": "stream",
     "text": [
      "IncrementalExecutor::executeFunction: symbol '_ZNSt3__1L17__cxx_atomic_loadIP10TDirectoryEET_PKNS_22__cxx_atomic_base_implIS3_EENS_12memory_orderE' unresolved while linking [cling interface function]!\n",
      "You are probably missing the definition of TDirectory* std::__1::__cxx_atomic_load<TDirectory*>(std::__1::__cxx_atomic_base_impl<TDirectory*> const*, std::__1::memory_order)\n",
      "Maybe you need to load the corresponding shared library?\n"
     ]
    }
   ],
   "source": [
    "gDirectory -> ls()"
   ]
  },
  {
   "cell_type": "markdown",
   "id": "84bcf584",
   "metadata": {},
   "source": [
    "## Inizio analisi interattiva\n",
    "A questo punto abbiamo eseguito la macro che permette di caricare i dati come desiderato.\n",
    "Nella gDirectory abbiamo tutti gli oggetti generati dalla Macro. Si possono quindi eseguire grafici, fit, etc."
   ]
  },
  {
   "cell_type": "markdown",
   "id": "dd49bda7",
   "metadata": {},
   "source": [
    "## Elettroni"
   ]
  },
  {
   "cell_type": "code",
   "execution_count": 34,
   "id": "4b56bfa4",
   "metadata": {},
   "outputs": [
    {
     "data": {
      "text/html": [
       "\n",
       "\n",
       "<div id=\"root_plot_1660069533219\"\n",
       "     style=\"width: 1796px; height: 572px\">\n",
       "</div>\n",
       "<script>\n",
       "\n",
       "function display_root_plot_1660069533219(Core) {\n",
       "   let obj = Core.parse({\"_typename\":\"TCanvas\",\"fUniqueID\":0,\"fBits\":3342344,\"fLineColor\":1,\"fLineStyle\":1,\"fLineWidth\":1,\"fFillColor\":0,\"fFillStyle\":1001,\"fLeftMargin\":0.1,\"fRightMargin\":0.1,\"fBottomMargin\":0.1,\"fTopMargin\":0.1,\"fXfile\":2,\"fYfile\":2,\"fAfile\":1,\"fXstat\":0.99,\"fYstat\":0.99,\"fAstat\":2,\"fFrameFillColor\":0,\"fFrameLineColor\":1,\"fFrameFillStyle\":1001,\"fFrameLineStyle\":1,\"fFrameLineWidth\":1,\"fFrameBorderSize\":1,\"fFrameBorderMode\":0,\"fX1\":0,\"fY1\":0,\"fX2\":1,\"fY2\":1,\"fXtoAbsPixelk\":5e-5,\"fXtoPixelk\":5e-5,\"fXtoPixel\":1796,\"fYtoAbsPixelk\":572.00005,\"fYtoPixelk\":572.00005,\"fYtoPixel\":-572,\"fUtoAbsPixelk\":5e-5,\"fUtoPixelk\":5e-5,\"fUtoPixel\":1796,\"fVtoAbsPixelk\":572.00005,\"fVtoPixelk\":572,\"fVtoPixel\":-572,\"fAbsPixeltoXk\":0,\"fPixeltoXk\":0,\"fPixeltoX\":5.56792873051225e-4,\"fAbsPixeltoYk\":1,\"fPixeltoYk\":0,\"fPixeltoY\":-0.00174825174825175,\"fXlowNDC\":0,\"fYlowNDC\":0,\"fXUpNDC\":1,\"fYUpNDC\":1,\"fWNDC\":1,\"fHNDC\":1,\"fAbsXlowNDC\":0,\"fAbsYlowNDC\":0,\"fAbsWNDC\":1,\"fAbsHNDC\":1,\"fUxmin\":0,\"fUymin\":0,\"fUxmax\":1,\"fUymax\":1,\"fTheta\":30,\"fPhi\":30,\"fAspectRatio\":0,\"fNumber\":0,\"fTickx\":0,\"fTicky\":0,\"fLogx\":0,\"fLogy\":0,\"fLogz\":0,\"fPadPaint\":0,\"fCrosshair\":0,\"fCrosshairPos\":0,\"fBorderSize\":2,\"fBorderMode\":0,\"fModified\":false,\"fGridx\":false,\"fGridy\":false,\"fAbsCoord\":false,\"fEditable\":true,\"fFixedAspectRatio\":false,\"fPrimitives\":{\"_typename\":\"TList\",\"name\":\"TList\",\"arr\":[{\"_typename\":\"TPad\",\"fUniqueID\":0,\"fBits\":9,\"fLineColor\":1,\"fLineStyle\":1,\"fLineWidth\":1,\"fFillColor\":0,\"fFillStyle\":1001,\"fLeftMargin\":0.1,\"fRightMargin\":0.1,\"fBottomMargin\":0.1,\"fTopMargin\":0.1,\"fXfile\":2,\"fYfile\":2,\"fAfile\":1,\"fXstat\":0.99,\"fYstat\":0.99,\"fAstat\":2,\"fFrameFillColor\":0,\"fFrameLineColor\":1,\"fFrameFillStyle\":1001,\"fFrameLineStyle\":1,\"fFrameLineWidth\":1,\"fFrameBorderSize\":1,\"fFrameBorderMode\":0,\"fX1\":-1.37488760244456,\"fY1\":-0.00851868779072499,\"fX2\":12.3749876024446,\"fY2\":0.0766681850389914,\"fXtoAbsPixelk\":74.2306269595666,\"fXtoPixelk\":56.2706273610039,\"fXtoPixel\":40.9274018188501,\"fYtoAbsPixelk\":510.224046761083,\"fYtoPixelk\":504.504046888935,\"fYtoPixel\":-6580.35659292519,\"fUtoAbsPixelk\":17.9600495985627,\"fUtoPixelk\":5e-5,\"fUtoPixel\":562.746667469541,\"fVtoAbsPixelk\":566.280050127852,\"fVtoPixelk\":560.560000255704,\"fVtoPixel\":-560.560000255704,\"fAbsPixeltoXk\":-1.81371339642132,\"fPixeltoXk\":-1.37488760244456,\"fPixeltoX\":0.0244335080058619,\"fAbsPixeltoYk\":0.0775374388235504,\"fPixeltoYk\":-0.00851868779072499,\"fPixeltoY\":-1.5196744824971e-4,\"fXlowNDC\":0.00999999977648258,\"fYlowNDC\":0.00999999977648258,\"fXUpNDC\":0.323333333556851,\"fYUpNDC\":0.990000000223517,\"fWNDC\":0.313333333780368,\"fHNDC\":0.980000000447035,\"fAbsXlowNDC\":0.00999999977648258,\"fAbsYlowNDC\":0.00999999977648258,\"fAbsWNDC\":0.313333333780368,\"fAbsHNDC\":0.980000000447035,\"fUxmin\":1e-4,\"fUymin\":0,\"fUxmax\":11,\"fUymax\":0.0681494972482664,\"fTheta\":30,\"fPhi\":30,\"fAspectRatio\":0,\"fNumber\":1,\"fTickx\":0,\"fTicky\":0,\"fLogx\":0,\"fLogy\":0,\"fLogz\":0,\"fPadPaint\":0,\"fCrosshair\":0,\"fCrosshairPos\":0,\"fBorderSize\":2,\"fBorderMode\":0,\"fModified\":false,\"fGridx\":true,\"fGridy\":true,\"fAbsCoord\":false,\"fEditable\":true,\"fFixedAspectRatio\":false,\"fPrimitives\":{\"_typename\":\"TList\",\"name\":\"TList\",\"arr\":[{\"_typename\":\"TFrame\",\"fUniqueID\":0,\"fBits\":8,\"fLineColor\":1,\"fLineStyle\":1,\"fLineWidth\":1,\"fFillColor\":0,\"fFillStyle\":1001,\"fX1\":1e-4,\"fY1\":0,\"fX2\":11,\"fY2\":0.0681494972482664,\"fBorderSize\":1,\"fBorderMode\":0},{\"_typename\":\"TH1D\",\"fUniqueID\":0,\"fBits\":520,\"fName\":\"hFinal_0\",\"fTitle\":\"Detection Yield 0\",\"fLineColor\":602,\"fLineStyle\":1,\"fLineWidth\":2,\"fFillColor\":0,\"fFillStyle\":1001,\"fMarkerColor\":600,\"fMarkerStyle\":8,\"fMarkerSize\":0.8,\"fNcells\":202,\"fXaxis\":{\"_typename\":\"TAxis\",\"fUniqueID\":0,\"fBits\":0,\"fName\":\"xaxis\",\"fTitle\":\" Energy [MeV]\",\"fNdivisions\":510,\"fAxisColor\":1,\"fLabelColor\":1,\"fLabelFont\":42,\"fLabelOffset\":0.005,\"fLabelSize\":0.035,\"fTickLength\":0.03,\"fTitleOffset\":1,\"fTitleSize\":0.035,\"fTitleColor\":1,\"fTitleFont\":42,\"fNbins\":200,\"fXmin\":1e-4,\"fXmax\":11,\"fXbins\":[],\"fFirst\":0,\"fLast\":0,\"fBits2\":0,\"fTimeDisplay\":false,\"fTimeFormat\":\"\",\"fLabels\":null,\"fModLabs\":null},\"fYaxis\":{\"_typename\":\"TAxis\",\"fUniqueID\":0,\"fBits\":0,\"fName\":\"yaxis\",\"fTitle\":\" Yield []\",\"fNdivisions\":510,\"fAxisColor\":1,\"fLabelColor\":1,\"fLabelFont\":42,\"fLabelOffset\":0.005,\"fLabelSize\":0.035,\"fTickLength\":0.03,\"fTitleOffset\":0,\"fTitleSize\":0.035,\"fTitleColor\":1,\"fTitleFont\":42,\"fNbins\":1,\"fXmin\":0,\"fXmax\":1,\"fXbins\":[],\"fFirst\":0,\"fLast\":0,\"fBits2\":0,\"fTimeDisplay\":false,\"fTimeFormat\":\"\",\"fLabels\":null,\"fModLabs\":null},\"fZaxis\":{\"_typename\":\"TAxis\",\"fUniqueID\":0,\"fBits\":0,\"fName\":\"zaxis\",\"fTitle\":\"\",\"fNdivisions\":510,\"fAxisColor\":1,\"fLabelColor\":1,\"fLabelFont\":42,\"fLabelOffset\":0.005,\"fLabelSize\":0.035,\"fTickLength\":0.03,\"fTitleOffset\":1,\"fTitleSize\":0.035,\"fTitleColor\":1,\"fTitleFont\":42,\"fNbins\":1,\"fXmin\":0,\"fXmax\":1,\"fXbins\":[],\"fFirst\":0,\"fLast\":0,\"fBits2\":0,\"fTimeDisplay\":false,\"fTimeFormat\":\"\",\"fLabels\":null,\"fModLabs\":null},\"fBarOffset\":0,\"fBarWidth\":1000,\"fEntries\":28053,\"fTsumw\":5.6038,\"fTsumw2\":0.00112076,\"fTsumwx\":19.034010051827,\"fTsumwx2\":86.508058867436,\"fMaximum\":-1111,\"fMinimum\":-1111,\"fNormFactor\":0,\"fContour\":[],\"fSumw2\":{\"$arr\":\"Float64\",\"len\":202,\"p\":3,\"v\":[2e-7,3.36e-6,7.84e-6,9.8e-6,1.12e-5,1.144e-5,1.144e-5,1.176e-5,1.1e-5,1.044e-5,9.36e-6,8.2e-6,9.56e-6,8.36e-6,8.48e-6,8.92e-6,8.04e-6,8.76e-6,7.88e-6,8.16e-6,8.52e-6,8.24e-6,9.08e-6,9e-6,9e-6,9.32e-6,1.004e-5,1.096e-5,9.92e-6,1e-5,9.8e-6,9.28e-6,9.88e-6,9.76e-6,9.48e-6,1.072e-5,1.008e-5,1.08e-5,9.36e-6,1.02e-5,1.064e-5,1.1e-5,8.8e-6,1e-5,1.108e-5,1.216e-5,1.18e-5,9.92e-6,1.044e-5,1.124e-5,9.76e-6,9.8e-6,1.204e-5,1.072e-5,1.084e-5,1.076e-5,1.14e-5,1.132e-5,1.128e-5,1.036e-5,1.048e-5,1.088e-5,1.2e-5,1.092e-5,1.132e-5,1.176e-5,1.088e-5,1.116e-5,1.056e-5,1.084e-5,9.88e-6,1.12e-5,1.08e-5,1.064e-5,1.228e-5,1.112e-5,1.016e-5,1.208e-5,1.108e-5,1.036e-5,1.092e-5,1.176e-5,1.024e-5,1.012e-5,1.016e-5,9.76e-6,8.88e-6,8.76e-6,8e-6,8e-6,9.28e-6,8.48e-6,9.04e-6,8.4e-6,7.12e-6,6.84e-6,6.6e-6,7.08e-6,6.16e-6,5.44e-6,6.28e-6,6.12e-6,5.72e-6,5.6e-6,5.32e-6,5e-6,4.28e-6,4.64e-6,4.6e-6,3.32e-6,3.68e-6,3.8e-6,3.84e-6,3.32e-6,4e-6,3.56e-6,3.76e-6,3.4e-6,2.72e-6,2.68e-6,2.64e-6,2.36e-6,2.96e-6,2.32e-6,1.68e-6,1.96e-6,2.48e-6,1.6e-6,1.52e-6,1.8e-6,1.64e-6,1.6e-6,1.68e-6,1.76e-6,1.24e-6,1.36e-6,1.12e-6,1.24e-6,1.32e-6,1.2e-6,8.4e-7,1.24e-6,1e-6,9.6e-7,1.08e-6,8e-7,4.4e-7,6.4e-7,6.8e-7,8.8e-7,6.4e-7,5.2e-7,5.6e-7,7.6e-7,1e-6,6.8e-7,6e-7,6.4e-7,6.4e-7,6e-7,6e-7,8e-7,4e-7,2.4e-7,3.6e-7,4.8e-7,3.6e-7,3.2e-7,8e-8,4.4e-7,4.8e-7,2.8e-7,2.8e-7,2.8e-7,3.2e-7,1.6e-7,3.2e-7,2.8e-7,2.4e-7,4e-8,3.2e-7,1.6e-7,2e-7,2e-7,2e-7,2.8e-7,2e-7,1.6e-7,3.2e-7,4e-8,2.4e-7,8e-8,1.6e-7,1.6e-7,1.2e-7,2e-7,8e-8,1.2e-7,1.36e-6]},\"fOption\":\"\",\"fFunctions\":{\"_typename\":\"TList\",\"name\":\"TList\",\"arr\":[],\"opt\":[]},\"fBufferSize\":0,\"fBuffer\":[],\"fBinStatErrOpt\":0,\"fStatOverflows\":2,\"fArray\":{\"$arr\":\"Float64\",\"len\":202,\"p\":3,\"v\":[0.001,0.0168,0.0392,0.049,0.056,0.0572,0.0572,0.0588,0.055,0.0522,0.0468,0.041,0.0478,0.0418,0.0424,0.0446,0.0402,0.0438,0.0394,0.0408,0.0426,0.0412,0.0454,0.045,0.045,0.0466,0.0502,0.0548,0.0496,0.05,0.049,0.0464,0.0494,0.0488,0.0474,0.0536,0.0504,0.054,0.0468,0.051,0.0532,0.055,0.044,0.05,0.0554,0.0608,0.059,0.0496,0.0522,0.0562,0.0488,0.049,0.0602,0.0536,0.0542,0.0538,0.057,0.0566,0.0564,0.0518,0.0524,0.0544,0.06,0.0546,0.0566,0.0588,0.0544,0.0558,0.0528,0.0542,0.0494,0.056,0.054,0.0532,0.0614,0.0556,0.0508,0.0604,0.0554,0.0518,0.0546,0.0588,0.0512,0.0506,0.0508,0.0488,0.0444,0.0438,0.04,0.04,0.0464,0.0424,0.0452,0.042,0.0356,0.0342,0.033,0.0354,0.0308,0.0272,0.0314,0.0306,0.0286,0.028,0.0266,0.025,0.0214,0.0232,0.023,0.0166,0.0184,0.019,0.0192,0.0166,0.02,0.0178,0.0188,0.017,0.0136,0.0134,0.0132,0.0118,0.0148,0.0116,0.0084,0.0098,0.0124,0.008,0.0076,0.009,0.0082,0.008,0.0084,0.0088,0.0062,0.0068,0.0056,0.0062,0.0066,0.006,0.0042,0.0062,0.005,0.0048,0.0054,0.004,0.0022,0.0032,0.0034,0.0044,0.0032,0.0026,0.0028,0.0038,0.005,0.0034,0.003,0.0032,0.0032,0.003,0.003,0.004,0.002,0.0012,0.0018,0.0024,0.0018,0.0016,4e-4,0.0022,0.0024,0.0014,0.0014,0.0014,0.0016,8e-4,0.0016,0.0014,0.0012,2e-4,0.0016,8e-4,0.001,0.001,0.001,0.0014,0.001,8e-4,0.0016,2e-4,0.0012,4e-4,8e-4,8e-4,6e-4,0.001,4e-4,6e-4,0.0068]}},{\"_typename\":\"TPaveText\",\"fUniqueID\":0,\"fBits\":9,\"fLineColor\":1,\"fLineStyle\":1,\"fLineWidth\":1,\"fFillColor\":0,\"fFillStyle\":0,\"fX1\":2.5160475652682,\"fY1\":0.071556973005595,\"fX2\":8.4840524347318,\"fY2\":0.0762422510810455,\"fX1NDC\":0.282979671432163,\"fY1NDC\":0.940000003948808,\"fX2NDC\":0.717020328567837,\"fY2NDC\":0.995000004768372,\"fBorderSize\":0,\"fInit\":1,\"fShadowColor\":1,\"fCornerRadius\":0,\"fOption\":\"blNDC\",\"fName\":\"title\",\"fTextAngle\":0,\"fTextSize\":0,\"fTextAlign\":22,\"fTextColor\":1,\"fTextFont\":42,\"fLabel\":\"\",\"fLongest\":17,\"fMargin\":0.05,\"fLines\":{\"_typename\":\"TList\",\"name\":\"TList\",\"arr\":[{\"_typename\":\"TLatex\",\"fUniqueID\":0,\"fBits\":0,\"fName\":\"\",\"fTitle\":\"Detection Yield 0\",\"fTextAngle\":0,\"fTextSize\":0,\"fTextAlign\":0,\"fTextColor\":0,\"fTextFont\":0,\"fX\":0,\"fY\":0,\"fLineColor\":1,\"fLineStyle\":1,\"fLineWidth\":2,\"fLimitFactorSize\":3,\"fOriginSize\":0.0467500016093254}],\"opt\":[\"\"]}}],\"opt\":[\"\",\"g\",\"blNDC\"]},\"fExecs\":{\"_typename\":\"TList\",\"name\":\"TList\",\"arr\":[],\"opt\":[]},\"fName\":\"c1_n21_1\",\"fTitle\":\"c1_n21_1\",\"fNumPaletteColor\":0,\"fNextPaletteColor\":0},{\"_typename\":\"TPad\",\"fUniqueID\":0,\"fBits\":9,\"fLineColor\":1,\"fLineStyle\":1,\"fLineWidth\":1,\"fFillColor\":0,\"fFillStyle\":1001,\"fLeftMargin\":0.1,\"fRightMargin\":0.1,\"fBottomMargin\":0.1,\"fTopMargin\":0.1,\"fXfile\":2,\"fYfile\":2,\"fAfile\":1,\"fXstat\":0.99,\"fYstat\":0.99,\"fAstat\":2,\"fFrameFillColor\":0,\"fFrameLineColor\":1,\"fFrameFillStyle\":1001,\"fFrameLineStyle\":1,\"fFrameLineWidth\":1,\"fFrameBorderSize\":1,\"fFrameBorderMode\":0,\"fX1\":-14.988751117494,\"fY1\":-0.0391089801504237,\"fX2\":134.998751117494,\"fY2\":0.351980798043045,\"fXtoAbsPixelk\":672.863866795845,\"fXtoPixelk\":56.237200530616,\"fXtoPixel\":3.75195705698116,\"fYtoAbsPixelk\":510.224046761083,\"fYtoPixelk\":504.504046888935,\"fYtoPixel\":-1433.32818066751,\"fUtoAbsPixelk\":616.626716265229,\"fUtoPixelk\":5e-5,\"fUtoPixel\":562.746667469541,\"fVtoAbsPixelk\":566.280050127852,\"fVtoPixelk\":560.560000255704,\"fVtoPixel\":-560.560000255704,\"fAbsPixeltoXk\":-179.336758544149,\"fPixeltoXk\":-14.988751117494,\"fPixeltoX\":0.266527570761858,\"fAbsPixeltoYk\":0.355971509974408,\"fPixeltoYk\":-0.0391089801504237,\"fPixeltoY\":-6.97676926671668e-4,\"fXlowNDC\":0.343333333109816,\"fYlowNDC\":0.00999999977648258,\"fXUpNDC\":0.656666666890184,\"fYUpNDC\":0.990000000223517,\"fWNDC\":0.313333333780368,\"fHNDC\":0.980000000447035,\"fAbsXlowNDC\":0.343333333109816,\"fAbsYlowNDC\":0.00999999977648258,\"fAbsWNDC\":0.313333333780368,\"fAbsHNDC\":0.980000000447035,\"fUxmin\":0.01,\"fUymin\":0,\"fUxmax\":120,\"fUymax\":0.312871817892622,\"fTheta\":30,\"fPhi\":30,\"fAspectRatio\":0,\"fNumber\":2,\"fTickx\":0,\"fTicky\":0,\"fLogx\":0,\"fLogy\":0,\"fLogz\":0,\"fPadPaint\":0,\"fCrosshair\":0,\"fCrosshairPos\":0,\"fBorderSize\":2,\"fBorderMode\":0,\"fModified\":false,\"fGridx\":false,\"fGridy\":false,\"fAbsCoord\":false,\"fEditable\":true,\"fFixedAspectRatio\":false,\"fPrimitives\":{\"_typename\":\"TList\",\"name\":\"TList\",\"arr\":[{\"_typename\":\"TFrame\",\"fUniqueID\":0,\"fBits\":8,\"fLineColor\":1,\"fLineStyle\":1,\"fLineWidth\":1,\"fFillColor\":0,\"fFillStyle\":1001,\"fX1\":0.01,\"fY1\":0,\"fX2\":120,\"fY2\":0.312871817892622,\"fBorderSize\":1,\"fBorderMode\":0},{\"_typename\":\"TH1D\",\"fUniqueID\":0,\"fBits\":520,\"fName\":\"hFinal_1\",\"fTitle\":\"Detection Yield 1\",\"fLineColor\":602,\"fLineStyle\":1,\"fLineWidth\":2,\"fFillColor\":0,\"fFillStyle\":1001,\"fMarkerColor\":600,\"fMarkerStyle\":8,\"fMarkerSize\":0.8,\"fNcells\":202,\"fXaxis\":{\"_typename\":\"TAxis\",\"fUniqueID\":0,\"fBits\":0,\"fName\":\"xaxis\",\"fTitle\":\" Energy [MeV]\",\"fNdivisions\":510,\"fAxisColor\":1,\"fLabelColor\":1,\"fLabelFont\":42,\"fLabelOffset\":0.005,\"fLabelSize\":0.035,\"fTickLength\":0.03,\"fTitleOffset\":1,\"fTitleSize\":0.035,\"fTitleColor\":1,\"fTitleFont\":42,\"fNbins\":200,\"fXmin\":0.01,\"fXmax\":120,\"fXbins\":[],\"fFirst\":0,\"fLast\":0,\"fBits2\":0,\"fTimeDisplay\":false,\"fTimeFormat\":\"\",\"fLabels\":null,\"fModLabs\":null},\"fYaxis\":{\"_typename\":\"TAxis\",\"fUniqueID\":0,\"fBits\":0,\"fName\":\"yaxis\",\"fTitle\":\" Yield []\",\"fNdivisions\":510,\"fAxisColor\":1,\"fLabelColor\":1,\"fLabelFont\":42,\"fLabelOffset\":0.005,\"fLabelSize\":0.035,\"fTickLength\":0.03,\"fTitleOffset\":0,\"fTitleSize\":0.035,\"fTitleColor\":1,\"fTitleFont\":42,\"fNbins\":1,\"fXmin\":0,\"fXmax\":1,\"fXbins\":[],\"fFirst\":0,\"fLast\":0,\"fBits2\":0,\"fTimeDisplay\":false,\"fTimeFormat\":\"\",\"fLabels\":null,\"fModLabs\":null},\"fZaxis\":{\"_typename\":\"TAxis\",\"fUniqueID\":0,\"fBits\":0,\"fName\":\"zaxis\",\"fTitle\":\"\",\"fNdivisions\":510,\"fAxisColor\":1,\"fLabelColor\":1,\"fLabelFont\":42,\"fLabelOffset\":0.005,\"fLabelSize\":0.035,\"fTickLength\":0.03,\"fTitleOffset\":1,\"fTitleSize\":0.035,\"fTitleColor\":1,\"fTitleFont\":42,\"fNbins\":1,\"fXmin\":0,\"fXmax\":1,\"fXbins\":[],\"fFirst\":0,\"fLast\":0,\"fBits2\":0,\"fTimeDisplay\":false,\"fTimeFormat\":\"\",\"fLabels\":null,\"fModLabs\":null},\"fBarOffset\":0,\"fBarWidth\":1000,\"fEntries\":36067,\"fTsumw\":18.0344017501458,\"fTsumw2\":0.00901765177269148,\"fTsumwx\":486.105164441246,\"fTsumwx2\":16836.0785981063,\"fMaximum\":-1111,\"fMinimum\":-1111,\"fNormFactor\":0,\"fContour\":[],\"fSumw2\":{\"$arr\":\"Float64\",\"len\":202,\"p\":6,\"v\":[5.45054505904772e-5,1.28262826389518e-4,1.25762576362431e-4,1.34513451457233e-4,1.43014301549326e-4,1.32263226432855e-4,1.34013401451816e-4,1.27512751381392e-4,1.41764176535783e-4,1.35763576470776e-4,1.27262726378683e-4,1.16511651262213e-4,1.23012301332637e-4,1.14261426237835e-4,1.14511451240544e-4,1.14011401235127e-4,1.11011101202623e-4,1.04510451132199e-4,1.13761376232418e-4,1.17511751273047e-4,1.04510451132199e-4,1.10511051197206e-4,1.08260826172829e-4,1.0801080117012e-4,1.12511251218875e-4,1.03260326118656e-4,1.0076007609157e-4,1.10011001191789e-4,1.13261326227001e-4,1.07260726161994e-4,1.07010701159286e-4,1.14261426237835e-4,1.09010901180954e-4,1.09010901180954e-4,1.04760476134908e-4,1.06010601148451e-4,9.55095510346895e-5,1.02510251110531e-4,1.01010101094279e-4,1.0626062615116e-4,1.04010401126782e-4,1.07260726161994e-4,1.13761376232418e-4,1.02760276113239e-4,1.10011001191789e-4,1.12761276221584e-4,1.0626062615116e-4,1.09010901180954e-4,1.16011601256796e-4,1.04510451132199e-4,1.15761576254087e-4,1.10011001191789e-4,1.05010501137617e-4,1.05760576145743e-4,9.900990107261e-5,1.01260126096988e-4,1.13511351229709e-4,9.70097010509411e-5,1.08760876178246e-4,1.17261726270339e-4,1.0801080117012e-4,1.03510351121365e-4,1.13761376232418e-4,1.14261426237835e-4,1.0976097618908e-4,1.08510851175537e-4,1.12011201213458e-4,9.57595760373981e-5,1.13261326227001e-4,1.04510451132199e-4,1.06760676156577e-4,1.10761076199915e-4,1.08510851175537e-4,1.13761376232418e-4,1.12761276221584e-4,1.08260826172829e-4,1.03260326118656e-4,9.30093010076033e-5,8.5508550926345e-5,6.15061506663183e-5,4.97549755390136e-5,4.42544254794242e-5,2.97529753223247e-5,2.700270029253e-5,2.05020502221061e-5,1.30013001408478e-5,9.75097510563583e-6,5.50055005958944e-6,3.75037504062917e-6,2.50025002708611e-6,2.50025002708611e-6,2.00020002166889e-6,1.25012501354306e-6,7.50075008125833e-7,7.50075008125833e-7,7.50075008125833e-7,0,1.00010001083444e-6,7.50075008125833e-7,2.50025002708611e-7,0,2.50025002708611e-7,1.25012501354306e-6,2.50025002708611e-7,2.50025002708611e-7,2.50025002708611e-7,0,2.50025002708611e-7,0,0,2.50025002708611e-7,0,5.00050005417222e-7,0,2.50025002708611e-7,2.50025002708611e-7,2.50025002708611e-7,0,0,0,2.50025002708611e-7,0,0,0,0,2.50025002708611e-7,0,5.00050005417222e-7,0,0,0,5.00050005417222e-7,0,0,0,0,0,0,2.50025002708611e-7,0,2.50025002708611e-7,0,0,2.50025002708611e-7,0,0,2.50025002708611e-7,0,0,0,0,0,0,5.00050005417222e-7,0,2.50025002708611e-7]},\"fOption\":\"\",\"fFunctions\":{\"_typename\":\"TList\",\"name\":\"TList\",\"arr\":[],\"opt\":[]},\"fBufferSize\":0,\"fBuffer\":[],\"fBinStatErrOpt\":0,\"fStatOverflows\":2,\"fArray\":{\"$arr\":\"Float64\",\"len\":202,\"p\":6,\"v\":[0.109005450454205,0.256512826068839,0.251512576048004,0.269013451120927,0.286014301191766,0.264513226102175,0.26801340111676,0.255012751062589,0.283514176181348,0.271513576131344,0.254512726060505,0.233011650970914,0.246012301025085,0.228511425952163,0.229011450954246,0.228011400950079,0.222011100925077,0.209010450870906,0.227511375947996,0.235011750979248,0.209010450870906,0.22101105092091,0.216510825902159,0.216010800900075,0.225011250937578,0.206510325860488,0.201510075839653,0.220011000916743,0.226511325943829,0.214510725893824,0.214010700891741,0.228511425952163,0.218010900908409,0.218010900908409,0.209510475872989,0.212010600883407,0.1910095507959,0.205010250854238,0.202010100841737,0.21251062588549,0.208010400866739,0.214510725893824,0.227511375947996,0.205510275856321,0.220011000916743,0.225511275939662,0.21251062588549,0.218010900908409,0.232011600966747,0.209010450870906,0.231511575964664,0.220011000916743,0.210010500875073,0.211510575881323,0.198009900825069,0.20251012584382,0.227011350945912,0.194009700808401,0.217510875906326,0.234511725977165,0.216010800900075,0.207010350862572,0.227511375947996,0.228511425952163,0.21951097591466,0.217010850904242,0.224011200933411,0.191509575797983,0.226511325943829,0.209010450870906,0.213510675889657,0.221511075922994,0.217010850904242,0.227511375947996,0.225511275939662,0.216510825902159,0.206510325860488,0.186009300775065,0.171008550712559,0.123006150512543,0.0995049754146179,0.0885044253687807,0.0595029752479373,0.0540027002250187,0.0410020501708476,0.0260013001083424,0.0195009750812568,0.0110005500458372,0.0075003750312526,0.00500025002083507,0.00500025002083507,0.00400020001666806,0.00250012501041753,0.00150007500625052,0.00150007500625052,0.00150007500625052,0,0.00200010000833403,0.00150007500625052,5.00025002083507e-4,0,5.00025002083507e-4,0.00250012501041753,5.00025002083507e-4,5.00025002083507e-4,5.00025002083507e-4,0,5.00025002083507e-4,0,0,5.00025002083507e-4,0,0.00100005000416701,0,5.00025002083507e-4,5.00025002083507e-4,5.00025002083507e-4,0,0,0,5.00025002083507e-4,0,0,0,0,5.00025002083507e-4,0,0.00100005000416701,0,0,0,0.00100005000416701,0,0,0,0,0,0,5.00025002083507e-4,0,5.00025002083507e-4,0,0,5.00025002083507e-4,0,0,5.00025002083507e-4,0,0,0,0,0,0,0.00100005000416701,0,5.00025002083507e-4]}},{\"_typename\":\"TPaveText\",\"fUniqueID\":0,\"fBits\":9,\"fLineColor\":1,\"fLineStyle\":1,\"fLineWidth\":1,\"fFillColor\":0,\"fFillStyle\":0,\"fX1\":27.9877181254174,\"fY1\":0.328515412895775,\"fX2\":92.0222818745827,\"fY2\":0.350025351016939,\"fX1NDC\":0.286533668489121,\"fY1NDC\":0.940000003948808,\"fX2NDC\":0.713466331510879,\"fY2NDC\":0.995000004768372,\"fBorderSize\":0,\"fInit\":1,\"fShadowColor\":1,\"fCornerRadius\":0,\"fOption\":\"blNDC\",\"fName\":\"title\",\"fTextAngle\":0,\"fTextSize\":0,\"fTextAlign\":22,\"fTextColor\":1,\"fTextFont\":42,\"fLabel\":\"\",\"fLongest\":17,\"fMargin\":0.05,\"fLines\":{\"_typename\":\"TList\",\"name\":\"TList\",\"arr\":[{\"_typename\":\"TLatex\",\"fUniqueID\":0,\"fBits\":0,\"fName\":\"\",\"fTitle\":\"Detection Yield 1\",\"fTextAngle\":0,\"fTextSize\":0,\"fTextAlign\":0,\"fTextColor\":0,\"fTextFont\":0,\"fX\":0,\"fY\":0,\"fLineColor\":1,\"fLineStyle\":1,\"fLineWidth\":2,\"fLimitFactorSize\":3,\"fOriginSize\":0.0467500016093254}],\"opt\":[\"\"]}}],\"opt\":[\"\",\"e\",\"blNDC\"]},\"fExecs\":{\"_typename\":\"TList\",\"name\":\"TList\",\"arr\":[],\"opt\":[]},\"fName\":\"c1_n21_2\",\"fTitle\":\"c1_n21_2\",\"fNumPaletteColor\":0,\"fNextPaletteColor\":0},{\"_typename\":\"TPad\",\"fUniqueID\":0,\"fBits\":9,\"fLineColor\":1,\"fLineStyle\":1,\"fLineWidth\":1,\"fFillColor\":0,\"fFillStyle\":1001,\"fLeftMargin\":0.1,\"fRightMargin\":0.1,\"fBottomMargin\":0.1,\"fTopMargin\":0.1,\"fXfile\":2,\"fYfile\":2,\"fAfile\":1,\"fXstat\":0.99,\"fYstat\":0.99,\"fAstat\":2,\"fFrameFillColor\":0,\"fFrameLineColor\":1,\"fFrameFillStyle\":1001,\"fFrameLineStyle\":1,\"fFrameLineWidth\":1,\"fFrameBorderSize\":1,\"fFrameBorderMode\":0,\"fX1\":-33.738752514478,\"fY1\":-0.0167252048844383,\"fX2\":303.748752514478,\"fY2\":0.150526833990946,\"fXtoAbsPixelk\":1271.55137844042,\"fXtoPixelk\":56.2580455085243,\"fXtoPixel\":1.66745926614752,\"fYtoAbsPixelk\":510.224046761083,\"fYtoPixelk\":504.504046888935,\"fYtoPixel\":-3351.58844116313,\"fUtoAbsPixelk\":1215.2933829319,\"fUtoPixelk\":5e-5,\"fUtoPixel\":562.746667469541,\"fVtoAbsPixelk\":566.280050127852,\"fVtoPixelk\":560.560000255704,\"fVtoPixel\":-560.560000255704,\"fAbsPixeltoXk\":-762.568150392181,\"fPixeltoXk\":-33.738752514478,\"fPixeltoX\":0.599714799816602,\"fAbsPixeltoYk\":0.152233487409933,\"fPixeltoYk\":-0.0167252048844383,\"fPixeltoY\":-2.98365989009367e-4,\"fXlowNDC\":0.676666666443149,\"fYlowNDC\":0.00999999977648258,\"fXUpNDC\":0.990000000223517,\"fYUpNDC\":0.990000000223517,\"fWNDC\":0.313333333780368,\"fHNDC\":0.980000000447035,\"fAbsXlowNDC\":0.676666666443149,\"fAbsYlowNDC\":0.00999999977648258,\"fAbsWNDC\":0.313333333780368,\"fAbsHNDC\":0.980000000447035,\"fUxmin\":0.01,\"fUymin\":0,\"fUxmax\":270,\"fUymax\":0.133801629106507,\"fTheta\":30,\"fPhi\":30,\"fAspectRatio\":0,\"fNumber\":3,\"fTickx\":0,\"fTicky\":0,\"fLogx\":0,\"fLogy\":0,\"fLogz\":0,\"fPadPaint\":0,\"fCrosshair\":0,\"fCrosshairPos\":0,\"fBorderSize\":2,\"fBorderMode\":0,\"fModified\":false,\"fGridx\":false,\"fGridy\":false,\"fAbsCoord\":false,\"fEditable\":true,\"fFixedAspectRatio\":false,\"fPrimitives\":{\"_typename\":\"TList\",\"name\":\"TList\",\"arr\":[{\"_typename\":\"TFrame\",\"fUniqueID\":0,\"fBits\":8,\"fLineColor\":1,\"fLineStyle\":1,\"fLineWidth\":1,\"fFillColor\":0,\"fFillStyle\":1001,\"fX1\":0.01,\"fY1\":0,\"fX2\":270,\"fY2\":0.133801629106507,\"fBorderSize\":1,\"fBorderMode\":0},{\"_typename\":\"TH1D\",\"fUniqueID\":0,\"fBits\":520,\"fName\":\"hFinal_2\",\"fTitle\":\"Detection Yield 2\",\"fLineColor\":602,\"fLineStyle\":1,\"fLineWidth\":2,\"fFillColor\":0,\"fFillStyle\":1001,\"fMarkerColor\":600,\"fMarkerStyle\":8,\"fMarkerSize\":0.8,\"fNcells\":202,\"fXaxis\":{\"_typename\":\"TAxis\",\"fUniqueID\":0,\"fBits\":0,\"fName\":\"xaxis\",\"fTitle\":\" Energy [MeV]\",\"fNdivisions\":510,\"fAxisColor\":1,\"fLabelColor\":1,\"fLabelFont\":42,\"fLabelOffset\":0.005,\"fLabelSize\":0.035,\"fTickLength\":0.03,\"fTitleOffset\":1,\"fTitleSize\":0.035,\"fTitleColor\":1,\"fTitleFont\":42,\"fNbins\":200,\"fXmin\":0.01,\"fXmax\":270,\"fXbins\":[],\"fFirst\":0,\"fLast\":0,\"fBits2\":0,\"fTimeDisplay\":false,\"fTimeFormat\":\"\",\"fLabels\":null,\"fModLabs\":null},\"fYaxis\":{\"_typename\":\"TAxis\",\"fUniqueID\":0,\"fBits\":0,\"fName\":\"yaxis\",\"fTitle\":\" Yield []\",\"fNdivisions\":510,\"fAxisColor\":1,\"fLabelColor\":1,\"fLabelFont\":42,\"fLabelOffset\":0.005,\"fLabelSize\":0.035,\"fTickLength\":0.03,\"fTitleOffset\":0,\"fTitleSize\":0.035,\"fTitleColor\":1,\"fTitleFont\":42,\"fNbins\":1,\"fXmin\":0,\"fXmax\":1,\"fXbins\":[],\"fFirst\":0,\"fLast\":0,\"fBits2\":0,\"fTimeDisplay\":false,\"fTimeFormat\":\"\",\"fLabels\":null,\"fModLabs\":null},\"fZaxis\":{\"_typename\":\"TAxis\",\"fUniqueID\":0,\"fBits\":0,\"fName\":\"zaxis\",\"fTitle\":\"\",\"fNdivisions\":510,\"fAxisColor\":1,\"fLabelColor\":1,\"fLabelFont\":42,\"fLabelOffset\":0.005,\"fLabelSize\":0.035,\"fTickLength\":0.03,\"fTitleOffset\":1,\"fTitleSize\":0.035,\"fTitleColor\":1,\"fTitleFont\":42,\"fNbins\":1,\"fXmin\":0,\"fXmax\":1,\"fXbins\":[],\"fFirst\":0,\"fLast\":0,\"fBits2\":0,\"fTimeDisplay\":false,\"fTimeFormat\":\"\",\"fLabels\":null,\"fModLabs\":null},\"fBarOffset\":0,\"fBarWidth\":1000,\"fEntries\":35330,\"fTsumw\":13.0854081262269,\"fTsumw2\":0.00484653002632111,\"fTsumwx\":1389.08064653216,\"fTsumwx2\":189388.711305402,\"fMaximum\":-1111,\"fMinimum\":-1111,\"fNormFactor\":0,\"fContour\":[],\"fSumw2\":{\"$arr\":\"Float64\",\"len\":202,\"p\":10,\"v\":[9.87687975927314e-6,3.36088269586378e-5,4.23882756335472e-5,3.99190556937289e-5,4.07421290070017e-5,4.18395600913654e-5,3.9644697922638e-5,4.26626334046381e-5,4.03305923503653e-5,4.22510967480018e-5,4.47203166878201e-5,3.84100879527289e-5,4.18395600913654e-5,4.1428023434729e-5,4.26626334046381e-5,3.89588034949107e-5,3.73126568683652e-5,4.08793078925472e-5,3.64895835550924e-5,3.70382990972743e-5,3.59408680129106e-5,4.04677712359108e-5,3.51177946996378e-5,3.41575425008196e-5,3.18255014465468e-5,3.51177946996378e-5,3.37460058441832e-5,3.47062580430015e-5,3.70382990972743e-5,3.52549735851833e-5,3.51177946996378e-5,3.25113958742741e-5,3.40203636152742e-5,3.47062580430015e-5,3.48434369285469e-5,3.52549735851833e-5,3.49806158140924e-5,3.22370381031832e-5,3.73126568683652e-5,3.20998592176377e-5,3.38831847297287e-5,3.30601114164559e-5,3.20998592176377e-5,3.36088269586378e-5,3.15511436754559e-5,3.59408680129106e-5,3.1002428133274e-5,3.40203636152742e-5,3.31972903020014e-5,3.33344691875468e-5,3.16883225610013e-5,3.38831847297287e-5,3.19626803320922e-5,3.11396070188195e-5,3.11396070188195e-5,3.37460058441832e-5,3.44319002719105e-5,3.44319002719105e-5,3.37460058441832e-5,3.4569079157456e-5,3.33344691875468e-5,3.30601114164559e-5,3.29229325309105e-5,3.4569079157456e-5,3.44319002719105e-5,3.25113958742741e-5,3.05908914766376e-5,3.33344691875468e-5,3.29229325309105e-5,3.52549735851833e-5,3.01793548200013e-5,3.18255014465468e-5,3.53921524707288e-5,3.74498357539107e-5,2.88075659645467e-5,3.64895835550924e-5,3.33344691875468e-5,3.60780468984561e-5,2.96306392778194e-5,3.26485747598195e-5,3.18255014465468e-5,3.34716480730923e-5,3.66267624406379e-5,3.48434369285469e-5,3.38831847297287e-5,3.49806158140924e-5,3.08652492477286e-5,3.67639413261834e-5,3.23742169887286e-5,3.34716480730923e-5,3.49806158140924e-5,3.31972903020014e-5,3.11396070188195e-5,2.9219102621183e-5,3.01793548200013e-5,2.99049970489103e-5,3.42947213863651e-5,3.36088269586378e-5,3.1002428133274e-5,3.07280703621831e-5,3.33344691875468e-5,3.38831847297287e-5,3.6352404669547e-5,2.70242404524557e-5,3.16883225610013e-5,3.47062580430015e-5,3.2785753645365e-5,3.16883225610013e-5,3.04537125910922e-5,3.07280703621831e-5,2.99049970489103e-5,3.22370381031832e-5,3.44319002719105e-5,3.29229325309105e-5,3.20998592176377e-5,3.26485747598195e-5,3.52549735851833e-5,2.97678181633649e-5,3.31972903020014e-5,2.7710134880183e-5,3.44319002719105e-5,2.93562815067285e-5,3.30601114164559e-5,2.88075659645467e-5,3.15511436754559e-5,3.22370381031832e-5,3.44319002719105e-5,2.97678181633649e-5,2.85332081934557e-5,3.18255014465468e-5,3.44319002719105e-5,3.42947213863651e-5,3.18255014465468e-5,2.90819237356376e-5,3.53921524707288e-5,3.18255014465468e-5,3.18255014465468e-5,2.81216715368194e-5,2.46921993981829e-5,2.13999061450918e-5,2.13999061450918e-5,1.7284539578728e-5,1.82447917775462e-5,1.31691730123642e-5,1.1934563042455e-5,9.05380644600038e-6,7.81919647609124e-6,6.58458650618209e-6,6.72176539172755e-6,4.52690322300019e-6,3.42947213863651e-6,1.78332551209098e-6,2.46921993981829e-6,1.50896774100006e-6,1.3717888554546e-6,4.11536656636381e-7,1.3717888554546e-6,8.23073313272762e-7,8.23073313272762e-7,6.85894427727301e-7,2.74357771090921e-7,1.3717888554546e-7,0,2.74357771090921e-7,1.3717888554546e-7,0,2.74357771090921e-7,0,1.3717888554546e-7,0,1.3717888554546e-7]},\"fOption\":\"\",\"fFunctions\":{\"_typename\":\"TList\",\"name\":\"TList\",\"arr\":[],\"opt\":[]},\"fBufferSize\":0,\"fBuffer\":[],\"fBinStatErrOpt\":0,\"fStatOverflows\":2,\"fArray\":{\"$arr\":\"Float64\",\"len\":202,\"p\":10,\"v\":[0.0266671210044816,0.0907422867513612,0.1144463943109,0.10777961405978,0.110001874143487,0.112964887588429,0.107038860698544,0.115187147672136,0.108890744101633,0.114076017630283,0.120742797881403,0.103705470572984,0.112964887588429,0.111853757546576,0.115187147672136,0.105186977295455,0.100742457128042,0.110372250824105,0.098520197044335,0.100001703766806,0.0970386903218638,0.109261120782251,0.094816430238157,0.0922237934738324,0.0859273899033298,0.094816430238157,0.0911126634319789,0.0937053001963036,0.100001703766806,0.0951868069187748,0.094816430238157,0.0877792733064187,0.0918534167932146,0.0937053001963036,0.0940756768769214,0.0951868069187748,0.0944460535575392,0.0870385199451831,0.100742457128042,0.0866681432645653,0.0914830401125968,0.0892607800288899,0.0866681432645653,0.0907422867513612,0.0851866365420941,0.0970386903218638,0.0837051298196229,0.0918534167932146,0.0896311567095077,0.0900015333901256,0.0855570132227119,0.0914830401125968,0.0862977665839475,0.0840755065002407,0.0840755065002407,0.0911126634319789,0.092964546835068,0.092964546835068,0.0911126634319789,0.0933349235156858,0.0900015333901256,0.0892607800288899,0.0888904033482722,0.0933349235156858,0.092964546835068,0.0877792733064187,0.0825939997777695,0.0900015333901256,0.0888904033482722,0.0951868069187748,0.0814828697359161,0.0859273899033298,0.0955571835993926,0.10111283380866,0.0777791029297381,0.098520197044335,0.0900015333901256,0.0974090670024816,0.0800013630134449,0.0881496499870365,0.0859273899033298,0.0903719100707434,0.0988905737249528,0.0940756768769214,0.0914830401125968,0.0944460535575392,0.0833347531390051,0.0992609504055706,0.087408896625801,0.0903719100707434,0.0944460535575392,0.0896311567095077,0.0840755065002407,0.0788902329715915,0.0814828697359161,0.0807421163746805,0.0925941701544502,0.0907422867513612,0.0837051298196229,0.0829643764583873,0.0900015333901256,0.0914830401125968,0.0981498203637172,0.0729642060817067,0.0855570132227119,0.0937053001963036,0.0885200266676544,0.0855570132227119,0.0822236230971517,0.0829643764583873,0.0807421163746805,0.0870385199451831,0.092964546835068,0.0888904033482722,0.0866681432645653,0.0881496499870365,0.0951868069187748,0.0803717396940627,0.0896311567095077,0.0748160894847957,0.092964546835068,0.0792606096522093,0.0892607800288899,0.0777791029297381,0.0851866365420941,0.0870385199451831,0.092964546835068,0.0803717396940627,0.0770383495685025,0.0859273899033298,0.092964546835068,0.0925941701544502,0.0859273899033298,0.0785198562909737,0.0955571835993926,0.0859273899033298,0.0859273899033298,0.0759272195266491,0.0666678025112041,0.0577787621763769,0.0577787621763769,0.0466674617578429,0.0492600985221675,0.0355561613393089,0.0322227712137487,0.0244448609207748,0.0211114707952146,0.0177780806696544,0.0181484573502722,0.0122224304603874,0.00925941701544502,0.00481489684803141,0.00666678025112041,0.00407414348679581,0.00370376680617801,0.0011111300418534,0.00370376680617801,0.0022222600837068,0.0022222600837068,0.001851883403089,7.40753361235601e-4,3.70376680617801e-4,0,7.40753361235601e-4,3.70376680617801e-4,0,7.40753361235601e-4,0,3.70376680617801e-4,0,3.70376680617801e-4]}},{\"_typename\":\"TPaveText\",\"fUniqueID\":0,\"fBits\":9,\"fLineColor\":1,\"fLineStyle\":1,\"fLineWidth\":1,\"fFillColor\":0,\"fFillStyle\":0,\"fX1\":61.7633507710763,\"fY1\":0.140491712318869,\"fX2\":208.246649228924,\"fY2\":0.149690574594089,\"fX1NDC\":0.282979671432163,\"fY1NDC\":0.940000003948808,\"fX2NDC\":0.717020328567838,\"fY2NDC\":0.995000004768372,\"fBorderSize\":0,\"fInit\":1,\"fShadowColor\":1,\"fCornerRadius\":0,\"fOption\":\"blNDC\",\"fName\":\"title\",\"fTextAngle\":0,\"fTextSize\":0,\"fTextAlign\":22,\"fTextColor\":1,\"fTextFont\":42,\"fLabel\":\"\",\"fLongest\":17,\"fMargin\":0.05,\"fLines\":{\"_typename\":\"TList\",\"name\":\"TList\",\"arr\":[{\"_typename\":\"TLatex\",\"fUniqueID\":0,\"fBits\":0,\"fName\":\"\",\"fTitle\":\"Detection Yield 2\",\"fTextAngle\":0,\"fTextSize\":0,\"fTextAlign\":0,\"fTextColor\":0,\"fTextFont\":0,\"fX\":0,\"fY\":0,\"fLineColor\":1,\"fLineStyle\":1,\"fLineWidth\":2,\"fLimitFactorSize\":3,\"fOriginSize\":0.0467500016093254}],\"opt\":[\"\"]}}],\"opt\":[\"\",\"l\",\"blNDC\"]},\"fExecs\":{\"_typename\":\"TList\",\"name\":\"TList\",\"arr\":[],\"opt\":[]},\"fName\":\"c1_n21_3\",\"fTitle\":\"c1_n21_3\",\"fNumPaletteColor\":0,\"fNextPaletteColor\":0},{\"_typename\":\"TStyle\",\"fUniqueID\":0,\"fBits\":0,\"fName\":\"Modern\",\"fTitle\":\"Modern Style\",\"fLineColor\":1,\"fLineStyle\":1,\"fLineWidth\":1,\"fFillColor\":19,\"fFillStyle\":1001,\"fMarkerColor\":1,\"fMarkerStyle\":1,\"fMarkerSize\":1,\"fTextAngle\":0,\"fTextSize\":0.05,\"fTextAlign\":11,\"fTextColor\":1,\"fTextFont\":62,\"fXaxis\":{\"_typename\":\"TAttAxis\",\"fNdivisions\":510,\"fAxisColor\":1,\"fLabelColor\":1,\"fLabelFont\":42,\"fLabelOffset\":0.005,\"fLabelSize\":0.035,\"fTickLength\":0.03,\"fTitleOffset\":1,\"fTitleSize\":0.035,\"fTitleColor\":1,\"fTitleFont\":42},\"fYaxis\":{\"_typename\":\"TAttAxis\",\"fNdivisions\":510,\"fAxisColor\":1,\"fLabelColor\":1,\"fLabelFont\":42,\"fLabelOffset\":0.005,\"fLabelSize\":0.035,\"fTickLength\":0.03,\"fTitleOffset\":0,\"fTitleSize\":0.035,\"fTitleColor\":1,\"fTitleFont\":42},\"fZaxis\":{\"_typename\":\"TAttAxis\",\"fNdivisions\":510,\"fAxisColor\":1,\"fLabelColor\":1,\"fLabelFont\":42,\"fLabelOffset\":0.005,\"fLabelSize\":0.035,\"fTickLength\":0.03,\"fTitleOffset\":1,\"fTitleSize\":0.035,\"fTitleColor\":1,\"fTitleFont\":42},\"fBarWidth\":1,\"fBarOffset\":0,\"fColorModelPS\":0,\"fDrawBorder\":0,\"fOptLogx\":0,\"fOptLogy\":0,\"fOptLogz\":0,\"fOptDate\":0,\"fOptStat\":1111,\"fOptTitle\":1,\"fOptFile\":0,\"fOptFit\":0,\"fShowEventStatus\":0,\"fShowEditor\":0,\"fShowToolBar\":0,\"fNumberContours\":20,\"fAttDate\":{\"_typename\":\"TAttText\",\"fTextAngle\":0,\"fTextSize\":0.025,\"fTextAlign\":11,\"fTextColor\":1,\"fTextFont\":62},\"fDateX\":0.01,\"fDateY\":0.01,\"fEndErrorSize\":2,\"fErrorX\":0.5,\"fFuncColor\":2,\"fFuncStyle\":1,\"fFuncWidth\":2,\"fGridColor\":0,\"fGridStyle\":3,\"fGridWidth\":1,\"fLegendBorderSize\":1,\"fLegendFillColor\":0,\"fLegendFont\":42,\"fLegendTextSize\":0,\"fHatchesLineWidth\":1,\"fHatchesSpacing\":1,\"fFrameFillColor\":0,\"fFrameLineColor\":1,\"fFrameFillStyle\":1001,\"fFrameLineStyle\":1,\"fFrameLineWidth\":1,\"fFrameBorderSize\":1,\"fFrameBorderMode\":0,\"fHistFillColor\":0,\"fHistLineColor\":602,\"fHistFillStyle\":1001,\"fHistLineStyle\":1,\"fHistLineWidth\":1,\"fHistMinimumZero\":false,\"fHistTopMargin\":0.05,\"fCanvasPreferGL\":false,\"fCanvasColor\":0,\"fCanvasBorderSize\":2,\"fCanvasBorderMode\":0,\"fCanvasDefH\":500,\"fCanvasDefW\":700,\"fCanvasDefX\":10,\"fCanvasDefY\":10,\"fPadColor\":0,\"fPadBorderSize\":2,\"fPadBorderMode\":0,\"fPadBottomMargin\":0.1,\"fPadTopMargin\":0.1,\"fPadLeftMargin\":0.1,\"fPadRightMargin\":0.1,\"fPadGridX\":false,\"fPadGridY\":false,\"fPadTickX\":0,\"fPadTickY\":0,\"fPaperSizeX\":20,\"fPaperSizeY\":26,\"fScreenFactor\":1,\"fStatColor\":0,\"fStatTextColor\":1,\"fStatBorderSize\":1,\"fStatFont\":42,\"fStatFontSize\":0,\"fStatStyle\":1001,\"fStatFormat\":\"6.4g\",\"fStatX\":0.98,\"fStatY\":0.935,\"fStatW\":0.2,\"fStatH\":0.16,\"fStripDecimals\":true,\"fTitleAlign\":23,\"fTitleColor\":0,\"fTitleTextColor\":1,\"fTitleBorderSize\":0,\"fTitleFont\":42,\"fTitleFontSize\":0.05,\"fTitleStyle\":0,\"fTitleX\":0.5,\"fTitleY\":0.995,\"fTitleW\":0,\"fTitleH\":0,\"fLegoInnerR\":0.5,\"fLineStyles\":[\"\",\"  \",\" 12 12\",\" 4 8\",\" 12 16 4 16\",\" 20 12 4 12\",\" 20 12 4 12 4 12 4 12\",\" 20 20\",\" 20 12 4 12 4 12\",\" 80 20\",\" 80 40 4 40\",\"  \",\"  \",\"  \",\"  \",\"  \",\"  \",\"  \",\"  \",\"  \",\"  \",\"  \",\"  \",\"  \",\"  \",\"  \",\"  \",\"  \",\"  \",\"  \"],\"fHeaderPS\":\"\",\"fTitlePS\":\"\",\"fFitFormat\":\"5.4g\",\"fPaintTextFormat\":\"g\",\"fLineScalePS\":3,\"fJoinLinePS\":0,\"fCapLinePS\":0,\"fTimeOffset\":788918400,\"fImageScaling\":1}],\"opt\":[\"\",\"\",\"\",\"\"]},\"fExecs\":null,\"fName\":\"c1_n21\",\"fTitle\":\"\",\"fNumPaletteColor\":0,\"fNextPaletteColor\":0,\"fDISPLAY\":\"$DISPLAY\",\"fDoubleBuffer\":0,\"fRetained\":true,\"fXsizeUser\":0,\"fYsizeUser\":0,\"fXsizeReal\":20,\"fYsizeReal\":6.666667,\"fWindowTopX\":0,\"fWindowTopY\":0,\"fWindowWidth\":0,\"fWindowHeight\":0,\"fCw\":1796,\"fCh\":572,\"fCatt\":{\"_typename\":\"TAttCanvas\",\"fXBetween\":2,\"fYBetween\":2,\"fTitleFromTop\":1.2,\"fXdate\":0.2,\"fYdate\":0.3,\"fAdate\":1},\"kMoveOpaque\":true,\"kResizeOpaque\":true,\"fHighLightColor\":2,\"fBatch\":true,\"kShowEventStatus\":false,\"kAutoExec\":true,\"kMenuBar\":true});\n",
       "   Core.settings.HandleKeys = false;\n",
       "   Core.draw(\"root_plot_1660069533219\", obj, \"\");\n",
       "}\n",
       "\n",
       "function script_load_root_plot_1660069533219(src, on_error) {\n",
       "    let script = document.createElement('script');\n",
       "    script.src = src;\n",
       "    script.onload = function() { display_root_plot_1660069533219(JSROOT); };\n",
       "    script.onerror = function() { script.remove(); on_error(); };\n",
       "    document.head.appendChild(script);\n",
       "}\n",
       "\n",
       "if (typeof requirejs !== 'undefined') {\n",
       "\n",
       "    // We are in jupyter notebooks, use require.js which should be configured already\n",
       "    requirejs.config({\n",
       "       paths: { 'JSRootCore' : [ 'scripts/JSRoot.core', 'https://root.cern/js/6.1.1/scripts/JSRoot.core.min', 'https://jsroot.gsi.de/6.1.1/scripts/JSRoot.core.min' ] }\n",
       "    })(['JSRootCore'],  function(Core) {\n",
       "       display_root_plot_1660069533219(Core);\n",
       "    });\n",
       "\n",
       "} else if (typeof JSROOT !== 'undefined') {\n",
       "\n",
       "   // JSROOT already loaded, just use it\n",
       "   display_root_plot_1660069533219(JSROOT);\n",
       "\n",
       "} else {\n",
       "\n",
       "    // We are in jupyterlab without require.js, directly loading jsroot\n",
       "    // Jupyterlab might be installed in a different base_url so we need to know it.\n",
       "    try {\n",
       "        var base_url = JSON.parse(document.getElementById('jupyter-config-data').innerHTML).baseUrl;\n",
       "    } catch(_) {\n",
       "        var base_url = '/';\n",
       "    }\n",
       "\n",
       "    // Try loading a local version of requirejs and fallback to cdn if not possible.\n",
       "    script_load_root_plot_1660069533219(base_url + 'static/scripts/JSRoot.core.js', function(){\n",
       "        console.error('Fail to load JSROOT locally, please check your jupyter_notebook_config.py file');\n",
       "        script_load_root_plot_1660069533219('https://root.cern/js/6.1.1/scripts/JSRoot.core.min.js', function(){\n",
       "            document.getElementById(\"root_plot_1660069533219\").innerHTML = \"Failed to load JSROOT\";\n",
       "        });\n",
       "    });\n",
       "}\n",
       "\n",
       "</script>\n"
      ],
      "text/plain": [
       "<IPython.core.display.HTML object>"
      ]
     },
     "metadata": {},
     "output_type": "display_data"
    }
   ],
   "source": [
    "TCanvas *c1 = new TCanvas(\"\",\"\",1800, 600);\n",
    "c1 -> Divide(3,1);\n",
    "c1 -> cd(1);\n",
    "hFinal_0 -> Draw(\"g\");\n",
    "gPad -> SetGrid();\n",
    "c1 -> cd(2);\n",
    "hFinal_1 -> Draw(\"e\");\n",
    "c1 -> cd(3);\n",
    "hFinal_2 -> Draw(\"l\");\n",
    "\n",
    "c1 -> Draw();"
   ]
  },
  {
   "cell_type": "code",
   "execution_count": 159,
   "id": "743e2423",
   "metadata": {},
   "outputs": [
    {
     "data": {
      "text/html": [
       "\n",
       "\n",
       "<div id=\"root_plot_1660068644404\"\n",
       "     style=\"width: 696px; height: 472px\">\n",
       "</div>\n",
       "<script>\n",
       "\n",
       "function display_root_plot_1660068644404(Core) {\n",
       "   let obj = Core.parse({\"_typename\":\"TCanvas\",\"fUniqueID\":0,\"fBits\":3342344,\"fLineColor\":1,\"fLineStyle\":1,\"fLineWidth\":1,\"fFillColor\":0,\"fFillStyle\":1001,\"fLeftMargin\":0.1,\"fRightMargin\":0.1,\"fBottomMargin\":0.1,\"fTopMargin\":0.1,\"fXfile\":2,\"fYfile\":2,\"fAfile\":1,\"fXstat\":0.99,\"fYstat\":0.99,\"fAstat\":2,\"fFrameFillColor\":0,\"fFrameLineColor\":1,\"fFrameFillStyle\":1001,\"fFrameLineStyle\":1,\"fFrameLineWidth\":1,\"fFrameBorderSize\":1,\"fFrameBorderMode\":0,\"fX1\":-12.4887509312295,\"fY1\":-0.0586354677762609,\"fX2\":112.498750931229,\"fY2\":0.527719175036887,\"fXtoAbsPixelk\":69.5443685807564,\"fXtoPixelk\":69.5443685807564,\"fXtoPixel\":5.5685567727076,\"fYtoAbsPixelk\":424.800047186661,\"fYtoPixelk\":424.800047186661,\"fYtoPixel\":-804.973586864582,\"fUtoAbsPixelk\":5e-5,\"fUtoPixelk\":5e-5,\"fUtoPixel\":696,\"fVtoAbsPixelk\":472.00005,\"fVtoPixelk\":472,\"fVtoPixel\":-472,\"fAbsPixeltoXk\":-12.4887509312295,\"fPixeltoXk\":-12.4887509312295,\"fPixeltoX\":0.179579744055257,\"fAbsPixeltoYk\":0.527719175036887,\"fPixeltoYk\":-0.0586354677762609,\"fPixeltoY\":-0.00124227678562108,\"fXlowNDC\":0,\"fYlowNDC\":0,\"fXUpNDC\":1,\"fYUpNDC\":1,\"fWNDC\":1,\"fHNDC\":1,\"fAbsXlowNDC\":0,\"fAbsYlowNDC\":0,\"fAbsWNDC\":1,\"fAbsHNDC\":1,\"fUxmin\":0.01,\"fUymin\":0,\"fUxmax\":100,\"fUymax\":0.469083707260626,\"fTheta\":30,\"fPhi\":30,\"fAspectRatio\":0,\"fNumber\":0,\"fTickx\":0,\"fTicky\":0,\"fLogx\":0,\"fLogy\":0,\"fLogz\":0,\"fPadPaint\":0,\"fCrosshair\":0,\"fCrosshairPos\":0,\"fBorderSize\":2,\"fBorderMode\":0,\"fModified\":false,\"fGridx\":true,\"fGridy\":true,\"fAbsCoord\":false,\"fEditable\":true,\"fFixedAspectRatio\":false,\"fPrimitives\":{\"_typename\":\"TList\",\"name\":\"TList\",\"arr\":[{\"_typename\":\"TFrame\",\"fUniqueID\":0,\"fBits\":8,\"fLineColor\":1,\"fLineStyle\":1,\"fLineWidth\":1,\"fFillColor\":0,\"fFillStyle\":1001,\"fX1\":0.01,\"fY1\":0,\"fX2\":100,\"fY2\":0.469083707260626,\"fBorderSize\":1,\"fBorderMode\":0},{\"_typename\":\"TH1D\",\"fUniqueID\":0,\"fBits\":520,\"fName\":\"hFinal_1\",\"fTitle\":\" \",\"fLineColor\":602,\"fLineStyle\":1,\"fLineWidth\":2,\"fFillColor\":0,\"fFillStyle\":1001,\"fMarkerColor\":600,\"fMarkerStyle\":8,\"fMarkerSize\":0.8,\"fNcells\":102,\"fXaxis\":{\"_typename\":\"TAxis\",\"fUniqueID\":0,\"fBits\":0,\"fName\":\"xaxis\",\"fTitle\":\" Energy [MeV]\",\"fNdivisions\":510,\"fAxisColor\":1,\"fLabelColor\":1,\"fLabelFont\":42,\"fLabelOffset\":0.005,\"fLabelSize\":0.035,\"fTickLength\":0.03,\"fTitleOffset\":1,\"fTitleSize\":0.035,\"fTitleColor\":1,\"fTitleFont\":42,\"fNbins\":100,\"fXmin\":0.01,\"fXmax\":100,\"fXbins\":[],\"fFirst\":0,\"fLast\":0,\"fBits2\":0,\"fTimeDisplay\":false,\"fTimeFormat\":\"\",\"fLabels\":null,\"fModLabs\":null},\"fYaxis\":{\"_typename\":\"TAxis\",\"fUniqueID\":0,\"fBits\":0,\"fName\":\"yaxis\",\"fTitle\":\" Geometrical Factor [cm^2 rad]\",\"fNdivisions\":510,\"fAxisColor\":1,\"fLabelColor\":1,\"fLabelFont\":42,\"fLabelOffset\":0.005,\"fLabelSize\":0.035,\"fTickLength\":0.03,\"fTitleOffset\":0,\"fTitleSize\":0.035,\"fTitleColor\":1,\"fTitleFont\":42,\"fNbins\":1,\"fXmin\":0,\"fXmax\":1,\"fXbins\":[],\"fFirst\":0,\"fLast\":0,\"fBits2\":0,\"fTimeDisplay\":false,\"fTimeFormat\":\"\",\"fLabels\":null,\"fModLabs\":null},\"fZaxis\":{\"_typename\":\"TAxis\",\"fUniqueID\":0,\"fBits\":0,\"fName\":\"zaxis\",\"fTitle\":\"\",\"fNdivisions\":510,\"fAxisColor\":1,\"fLabelColor\":1,\"fLabelFont\":42,\"fLabelOffset\":0.005,\"fLabelSize\":0.035,\"fTickLength\":0.03,\"fTitleOffset\":1,\"fTitleSize\":0.035,\"fTitleColor\":1,\"fTitleFont\":42,\"fNbins\":1,\"fXmin\":0,\"fXmax\":1,\"fXbins\":[],\"fFirst\":0,\"fLast\":0,\"fBits2\":0,\"fTimeDisplay\":false,\"fTimeFormat\":\"\",\"fLabels\":null,\"fModLabs\":null},\"fBarOffset\":0,\"fBarWidth\":1000,\"fEntries\":36067,\"fTsumw\":16.8647362617585,\"fTsumw2\":0.00788586045910867,\"fTsumwx\":454.577618229785,\"fTsumwx2\":15744.1333055034,\"fMaximum\":-1111,\"fMinimum\":-1111,\"fNormFactor\":0,\"fContour\":[],\"fSumw2\":{\"$arr\":\"Float64\",\"len\":102,\"p\":4,\"v\":[1.27032603952148e-4,1.83880240832628e-4,2.0159046616847e-4,1.90876873064072e-4,1.93937899665328e-4,2.02246400440168e-4,1.7819547714458e-4,1.74259871514393e-4,1.68356463069112e-4,1.61797120352134e-4,1.60922541323204e-4,1.67700528797415e-4,1.5392590909176e-4,1.60266607051506e-4,1.61359830837669e-4,1.47366566374782e-4,1.58736093750877e-4,1.60922541323204e-4,1.60266607051506e-4,1.58736093750877e-4,1.57205580450249e-4,1.45836053074153e-4,1.50208948218806e-4,1.50864882490503e-4,1.54363198606225e-4,1.61141186080436e-4,1.5480048812069e-4,1.62671699381064e-4,1.59829317537041e-4,1.57424225207482e-4,1.65732725982321e-4,1.56986935693017e-4,1.45617408316921e-4,1.53051330062829e-4,1.48459790160945e-4,1.68793752583578e-4,1.55456422392388e-4,1.59610672779808e-4,1.65076791710623e-4,1.62890344138297e-4,1.47366566374782e-4,1.56768290935784e-4,1.60485251808738e-4,1.5895473850811e-4,1.6398356792446e-4,1.49990303461573e-4,1.3883942084271e-4,1.06042707257818e-4,7.04036118289016e-5,4.72272675622445e-5,3.21407793131942e-5,1.68356463069112e-5,9.620369318235e-6,3.71696087295443e-6,3.2796713584892e-6,1.74915805786091e-6,1.31186854339568e-6,6.55934271697841e-7,1.09322378616307e-6,6.55934271697841e-7,0,1.31186854339568e-6,4.37289514465227e-7,2.18644757232614e-7,2.18644757232614e-7,0,2.18644757232614e-7,4.37289514465227e-7,2.18644757232614e-7,2.18644757232614e-7,2.18644757232614e-7,0,2.18644757232614e-7,0,0,2.18644757232614e-7,4.37289514465227e-7,0,0,4.37289514465227e-7,0,0,2.18644757232614e-7,0,2.18644757232614e-7,0,2.18644757232614e-7,0,2.18644757232614e-7,0,0,2.18644757232614e-7,2.18644757232614e-7,2.18644757232614e-7]},\"fOption\":\"\",\"fFunctions\":{\"_typename\":\"TList\",\"name\":\"TList\",\"arr\":[{\"_typename\":\"TF1\",\"fUniqueID\":0,\"fBits\":1024,\"fName\":\"f1\",\"fTitle\":\"[0] + [1]*(x - 30.)\",\"fLineColor\":2,\"fLineStyle\":1,\"fLineWidth\":2,\"fFillColor\":19,\"fFillStyle\":0,\"fMarkerColor\":1,\"fMarkerStyle\":1,\"fMarkerSize\":1,\"fXmin\":15,\"fXmax\":50,\"fNpar\":2,\"fNdim\":1,\"fNpx\":100,\"fType\":0,\"fNpfits\":35,\"fNDF\":33,\"fChisquare\":45.0955350719344,\"fMinimum\":-1111,\"fMaximum\":-1111,\"fParErrors\":[0.00217722267865168,2.08539024911818e-4],\"fParMin\":[0,0],\"fParMax\":[0,0],\"fSave\":{\"$arr\":\"Float64\",\"len\":103,\"v\":[0.335576503021123,0.335542479364376,0.335508455707629,0.335474432050882,0.335440408394134,0.335406384737387,0.33537236108064,0.335338337423893,0.335304313767146,0.335270290110399,0.335236266453652,0.335202242796905,0.335168219140158,0.335134195483411,0.335100171826664,0.335066148169916,0.335032124513169,0.334998100856422,0.334964077199675,0.334930053542928,0.334896029886181,0.334862006229434,0.334827982572687,0.33479395891594,0.334759935259193,0.334725911602446,0.334691887945699,0.334657864288951,0.334623840632204,0.334589816975457,0.33455579331871,0.334521769661963,0.334487746005216,0.334453722348469,0.334419698691722,0.334385675034975,0.334351651378228,0.334317627721481,0.334283604064734,0.334249580407986,0.334215556751239,0.334181533094492,0.334147509437745,0.334113485780998,0.334079462124251,0.334045438467504,0.334011414810757,0.33397739115401,0.333943367497263,0.333909343840516,0.333875320183769,0.333841296527021,0.333807272870274,0.333773249213527,0.33373922555678,0.333705201900033,0.333671178243286,0.333637154586539,0.333603130929792,0.333569107273045,0.333535083616298,0.333501059959551,0.333467036302803,0.333433012646056,0.333398988989309,0.333364965332562,0.333330941675815,0.333296918019068,0.333262894362321,0.333228870705574,0.333194847048827,0.33316082339208,0.333126799735333,0.333092776078586,0.333058752421838,0.333024728765091,0.332990705108344,0.332956681451597,0.33292265779485,0.332888634138103,0.332854610481356,0.332820586824609,0.332786563167862,0.332752539511115,0.332718515854368,0.332684492197621,0.332650468540873,0.332616444884126,0.332582421227379,0.332548397570632,0.332514373913885,0.332480350257138,0.332446326600391,0.332412302943644,0.332378279286897,0.33234425563015,0.332310231973403,0.332276208316655,0.332242184659908,0.332208161003161,0.332174137346414,15,50]},\"fNormalized\":false,\"fNormIntegral\":0,\"fFormula\":{\"_typename\":\"TFormula\",\"fUniqueID\":0,\"fBits\":1024,\"fName\":\"f1\",\"fTitle\":\"[0] + [1]*(x - 30.)\",\"fClingParameters\":[0.334118346303391,-9.72104478488148e-5],\"fAllParametersSetted\":true,\"fParams\":[{\"$pair\":\"pair<TString,int,TFormulaParamOrder>\",\"first\":\"p0\",\"second\":0},{\"$pair\":\"pair<TString,int,TFormulaParamOrder>\",\"first\":\"p1\",\"second\":1}],\"fFormula\":\"[p0]+[p1]*(x-30.)\",\"fNdim\":1,\"fLinearParts\":[],\"fVectorized\":false},\"fParams\":null,\"fComposition\":null}],\"opt\":[\"\"]},\"fBufferSize\":0,\"fBuffer\":[],\"fBinStatErrOpt\":0,\"fStatOverflows\":2,\"fArray\":{\"$arr\":\"Float64\",\"len\":102,\"p\":4,\"v\":[0.271672491975537,0.393247101121216,0.431122267816601,0.408210129939146,0.41475645504699,0.432525051768282,0.381089640206648,0.372672936496563,0.360047880931435,0.346020041414626,0.344149662812384,0.358645096979754,0.329186633994455,0.342746878860703,0.345084852113505,0.315158794477645,0.339473716306781,0.344149662812384,0.342746878860703,0.339473716306781,0.336200553752859,0.311885631923723,0.321237524934929,0.32264030888661,0.330121823295575,0.344617257462945,0.331057012596696,0.347890420016867,0.341811689559583,0.336668148403419,0.354436745124711,0.335732959102299,0.311418037273163,0.327316255392213,0.317496767730447,0.360983070232555,0.332459796548377,0.341344094909023,0.35303396117303,0.348358014667427,0.315158794477645,0.335265364451739,0.343214473511264,0.339941310957342,0.350695987920229,0.320769930284369,0.296922603105794,0.226783405521748,0.150565477480418,0.101000444521026,0.0687364136323648,0.0360047880931435,0.0205741646246534,0.00794910905952518,0.00701391975840457,0.00374075720448244,0.00280556790336183,0.00140278395168091,0.00233797325280152,0.00140278395168091,0,0.00280556790336183,9.3518930112061e-4,4.67594650560305e-4,4.67594650560305e-4,0,4.67594650560305e-4,9.3518930112061e-4,4.67594650560305e-4,4.67594650560305e-4,4.67594650560305e-4,0,4.67594650560305e-4,0,0,4.67594650560305e-4,9.3518930112061e-4,0,0,9.3518930112061e-4,0,0,4.67594650560305e-4,0,4.67594650560305e-4,0,4.67594650560305e-4,0,4.67594650560305e-4,0,0,4.67594650560305e-4,4.67594650560305e-4,4.67594650560305e-4]}},{\"_typename\":\"TPaveText\",\"fUniqueID\":0,\"fBits\":9,\"fLineColor\":1,\"fLineStyle\":1,\"fLineWidth\":1,\"fFillColor\":0,\"fFillStyle\":0,\"fX1\":47.7674363890715,\"fY1\":0.492537898783499,\"fX2\":52.2425636109285,\"fY2\":0.524787404618778,\"fX1NDC\":0.482097701149425,\"fY1NDC\":0.940000003948808,\"fX2NDC\":0.517902298850575,\"fY2NDC\":0.995000004768372,\"fBorderSize\":0,\"fInit\":1,\"fShadowColor\":1,\"fCornerRadius\":0,\"fOption\":\"blNDC\",\"fName\":\"title\",\"fTextAngle\":0,\"fTextSize\":0,\"fTextAlign\":22,\"fTextColor\":1,\"fTextFont\":42,\"fLabel\":\"\",\"fLongest\":1,\"fMargin\":0.05,\"fLines\":{\"_typename\":\"TList\",\"name\":\"TList\",\"arr\":[{\"_typename\":\"TLatex\",\"fUniqueID\":0,\"fBits\":0,\"fName\":\"\",\"fTitle\":\" \",\"fTextAngle\":0,\"fTextSize\":0,\"fTextAlign\":0,\"fTextColor\":0,\"fTextFont\":0,\"fX\":0,\"fY\":0,\"fLineColor\":1,\"fLineStyle\":1,\"fLineWidth\":2,\"fLimitFactorSize\":3,\"fOriginSize\":0.0467500016093254}],\"opt\":[\"\"]}},{\"_typename\":\"TStyle\",\"fUniqueID\":0,\"fBits\":0,\"fName\":\"Modern\",\"fTitle\":\"Modern Style\",\"fLineColor\":1,\"fLineStyle\":1,\"fLineWidth\":1,\"fFillColor\":19,\"fFillStyle\":1001,\"fMarkerColor\":1,\"fMarkerStyle\":1,\"fMarkerSize\":1,\"fTextAngle\":0,\"fTextSize\":0.05,\"fTextAlign\":11,\"fTextColor\":1,\"fTextFont\":62,\"fXaxis\":{\"_typename\":\"TAttAxis\",\"fNdivisions\":510,\"fAxisColor\":1,\"fLabelColor\":1,\"fLabelFont\":42,\"fLabelOffset\":0.005,\"fLabelSize\":0.035,\"fTickLength\":0.03,\"fTitleOffset\":1,\"fTitleSize\":0.035,\"fTitleColor\":1,\"fTitleFont\":42},\"fYaxis\":{\"_typename\":\"TAttAxis\",\"fNdivisions\":510,\"fAxisColor\":1,\"fLabelColor\":1,\"fLabelFont\":42,\"fLabelOffset\":0.005,\"fLabelSize\":0.035,\"fTickLength\":0.03,\"fTitleOffset\":0,\"fTitleSize\":0.035,\"fTitleColor\":1,\"fTitleFont\":42},\"fZaxis\":{\"_typename\":\"TAttAxis\",\"fNdivisions\":510,\"fAxisColor\":1,\"fLabelColor\":1,\"fLabelFont\":42,\"fLabelOffset\":0.005,\"fLabelSize\":0.035,\"fTickLength\":0.03,\"fTitleOffset\":1,\"fTitleSize\":0.035,\"fTitleColor\":1,\"fTitleFont\":42},\"fBarWidth\":1,\"fBarOffset\":0,\"fColorModelPS\":0,\"fDrawBorder\":0,\"fOptLogx\":0,\"fOptLogy\":0,\"fOptLogz\":0,\"fOptDate\":0,\"fOptStat\":1111,\"fOptTitle\":1,\"fOptFile\":0,\"fOptFit\":0,\"fShowEventStatus\":0,\"fShowEditor\":0,\"fShowToolBar\":0,\"fNumberContours\":20,\"fAttDate\":{\"_typename\":\"TAttText\",\"fTextAngle\":0,\"fTextSize\":0.025,\"fTextAlign\":11,\"fTextColor\":1,\"fTextFont\":62},\"fDateX\":0.01,\"fDateY\":0.01,\"fEndErrorSize\":2,\"fErrorX\":0.5,\"fFuncColor\":2,\"fFuncStyle\":1,\"fFuncWidth\":2,\"fGridColor\":0,\"fGridStyle\":3,\"fGridWidth\":1,\"fLegendBorderSize\":1,\"fLegendFillColor\":0,\"fLegendFont\":42,\"fLegendTextSize\":0,\"fHatchesLineWidth\":1,\"fHatchesSpacing\":1,\"fFrameFillColor\":0,\"fFrameLineColor\":1,\"fFrameFillStyle\":1001,\"fFrameLineStyle\":1,\"fFrameLineWidth\":1,\"fFrameBorderSize\":1,\"fFrameBorderMode\":0,\"fHistFillColor\":0,\"fHistLineColor\":602,\"fHistFillStyle\":1001,\"fHistLineStyle\":1,\"fHistLineWidth\":1,\"fHistMinimumZero\":false,\"fHistTopMargin\":0.05,\"fCanvasPreferGL\":false,\"fCanvasColor\":0,\"fCanvasBorderSize\":2,\"fCanvasBorderMode\":0,\"fCanvasDefH\":500,\"fCanvasDefW\":700,\"fCanvasDefX\":10,\"fCanvasDefY\":10,\"fPadColor\":0,\"fPadBorderSize\":2,\"fPadBorderMode\":0,\"fPadBottomMargin\":0.1,\"fPadTopMargin\":0.1,\"fPadLeftMargin\":0.1,\"fPadRightMargin\":0.1,\"fPadGridX\":false,\"fPadGridY\":false,\"fPadTickX\":0,\"fPadTickY\":0,\"fPaperSizeX\":20,\"fPaperSizeY\":26,\"fScreenFactor\":1,\"fStatColor\":0,\"fStatTextColor\":1,\"fStatBorderSize\":1,\"fStatFont\":42,\"fStatFontSize\":0,\"fStatStyle\":1001,\"fStatFormat\":\"6.4g\",\"fStatX\":0.98,\"fStatY\":0.935,\"fStatW\":0.2,\"fStatH\":0.16,\"fStripDecimals\":true,\"fTitleAlign\":23,\"fTitleColor\":0,\"fTitleTextColor\":1,\"fTitleBorderSize\":0,\"fTitleFont\":42,\"fTitleFontSize\":0.05,\"fTitleStyle\":0,\"fTitleX\":0.5,\"fTitleY\":0.995,\"fTitleW\":0,\"fTitleH\":0,\"fLegoInnerR\":0.5,\"fLineStyles\":[\"\",\"  \",\" 12 12\",\" 4 8\",\" 12 16 4 16\",\" 20 12 4 12\",\" 20 12 4 12 4 12 4 12\",\" 20 20\",\" 20 12 4 12 4 12\",\" 80 20\",\" 80 40 4 40\",\"  \",\"  \",\"  \",\"  \",\"  \",\"  \",\"  \",\"  \",\"  \",\"  \",\"  \",\"  \",\"  \",\"  \",\"  \",\"  \",\"  \",\"  \",\"  \"],\"fHeaderPS\":\"\",\"fTitlePS\":\"\",\"fFitFormat\":\"5.4g\",\"fPaintTextFormat\":\"g\",\"fLineScalePS\":3,\"fJoinLinePS\":0,\"fCapLinePS\":0,\"fTimeOffset\":788918400,\"fImageScaling\":1}],\"opt\":[\"\",\"\",\"blNDC\",\"\"]},\"fExecs\":null,\"fName\":\"c1_n153\",\"fTitle\":\"c1_n153\",\"fNumPaletteColor\":0,\"fNextPaletteColor\":0,\"fDISPLAY\":\"$DISPLAY\",\"fDoubleBuffer\":0,\"fRetained\":true,\"fXsizeUser\":0,\"fYsizeUser\":0,\"fXsizeReal\":20,\"fYsizeReal\":14.28571,\"fWindowTopX\":0,\"fWindowTopY\":0,\"fWindowWidth\":0,\"fWindowHeight\":0,\"fCw\":696,\"fCh\":472,\"fCatt\":{\"_typename\":\"TAttCanvas\",\"fXBetween\":2,\"fYBetween\":2,\"fTitleFromTop\":1.2,\"fXdate\":0.2,\"fYdate\":0.3,\"fAdate\":1},\"kMoveOpaque\":true,\"kResizeOpaque\":true,\"fHighLightColor\":2,\"fBatch\":true,\"kShowEventStatus\":false,\"kAutoExec\":true,\"kMenuBar\":true});\n",
       "   Core.settings.HandleKeys = false;\n",
       "   Core.draw(\"root_plot_1660068644404\", obj, \"\");\n",
       "}\n",
       "\n",
       "function script_load_root_plot_1660068644404(src, on_error) {\n",
       "    let script = document.createElement('script');\n",
       "    script.src = src;\n",
       "    script.onload = function() { display_root_plot_1660068644404(JSROOT); };\n",
       "    script.onerror = function() { script.remove(); on_error(); };\n",
       "    document.head.appendChild(script);\n",
       "}\n",
       "\n",
       "if (typeof requirejs !== 'undefined') {\n",
       "\n",
       "    // We are in jupyter notebooks, use require.js which should be configured already\n",
       "    requirejs.config({\n",
       "       paths: { 'JSRootCore' : [ 'scripts/JSRoot.core', 'https://root.cern/js/6.1.1/scripts/JSRoot.core.min', 'https://jsroot.gsi.de/6.1.1/scripts/JSRoot.core.min' ] }\n",
       "    })(['JSRootCore'],  function(Core) {\n",
       "       display_root_plot_1660068644404(Core);\n",
       "    });\n",
       "\n",
       "} else if (typeof JSROOT !== 'undefined') {\n",
       "\n",
       "   // JSROOT already loaded, just use it\n",
       "   display_root_plot_1660068644404(JSROOT);\n",
       "\n",
       "} else {\n",
       "\n",
       "    // We are in jupyterlab without require.js, directly loading jsroot\n",
       "    // Jupyterlab might be installed in a different base_url so we need to know it.\n",
       "    try {\n",
       "        var base_url = JSON.parse(document.getElementById('jupyter-config-data').innerHTML).baseUrl;\n",
       "    } catch(_) {\n",
       "        var base_url = '/';\n",
       "    }\n",
       "\n",
       "    // Try loading a local version of requirejs and fallback to cdn if not possible.\n",
       "    script_load_root_plot_1660068644404(base_url + 'static/scripts/JSRoot.core.js', function(){\n",
       "        console.error('Fail to load JSROOT locally, please check your jupyter_notebook_config.py file');\n",
       "        script_load_root_plot_1660068644404('https://root.cern/js/6.1.1/scripts/JSRoot.core.min.js', function(){\n",
       "            document.getElementById(\"root_plot_1660068644404\").innerHTML = \"Failed to load JSROOT\";\n",
       "        });\n",
       "    });\n",
       "}\n",
       "\n",
       "</script>\n"
      ],
      "text/plain": [
       "<IPython.core.display.HTML object>"
      ]
     },
     "metadata": {},
     "output_type": "display_data"
    },
    {
     "name": "stdout",
     "output_type": "stream",
     "text": [
      " FCN=45.0955 FROM MIGRAD    STATUS=CONVERGED      36 CALLS          37 TOTAL\n",
      "                     EDM=8.6951e-22    STRATEGY= 1      ERROR MATRIX ACCURATE \n",
      "  EXT PARAMETER                                   STEP         FIRST   \n",
      "  NO.   NAME      VALUE            ERROR          SIZE      DERIVATIVE \n",
      "   1  p0           3.34118e-01   2.17722e-03   7.00148e-06  -1.26856e-08\n",
      "   2  p1          -9.72104e-05   2.08539e-04   6.70617e-07  -1.85419e-07\n",
      "p0 = (0.334118 +/- 0.00217722)\n",
      "p1 = (-9.72104e-05 +/- 0.000208539)\n",
      "Delta G = (-0.000233305 +/- 0.000500494)\n"
     ]
    }
   ],
   "source": [
    "TCanvas *c1 = new TCanvas();\n",
    "hFinal_1 -> Draw();\n",
    "gPad -> SetGrid();\n",
    "\n",
    "TF1 *f1 = new TF1(\"f1\", \"[0] + [1]*(x - 30.)\", 0.,400.);\n",
    "hFinal_1 -> Fit(\"f1\", \"\", \"G\", 15, 50);\n",
    "\n",
    "c1 -> Draw();\n",
    "\n",
    "cout << Form(\"p0 = (%g +/- %g)\", f1 -> GetParameter(0), f1 -> GetParError(0)) << endl;\n",
    "cout << Form(\"p1 = (%g +/- %g)\", f1 -> GetParameter(1), f1 -> GetParError(1)) << endl;\n",
    "cout << Form(\"Delta G = (%g +/- %g)\", (4.2-1.8)*(f1->GetParameter(1)), (4.2-1.8)*(f1->GetParError(1))) << endl;\n"
   ]
  }
 ],
 "metadata": {
  "kernelspec": {
   "display_name": "ROOT C++",
   "language": "c++",
   "name": "root"
  },
  "language_info": {
   "codemirror_mode": "text/x-c++src",
   "file_extension": ".C",
   "mimetype": " text/x-c++src",
   "name": "c++"
  }
 },
 "nbformat": 4,
 "nbformat_minor": 5
}
