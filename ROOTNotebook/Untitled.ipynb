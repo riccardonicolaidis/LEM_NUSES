{
 "cells": [
  {
   "cell_type": "code",
   "execution_count": 7,
   "id": "bc76265a",
   "metadata": {},
   "outputs": [
    {
     "name": "stdout",
     "output_type": "stream",
     "text": [
      "DrilledVeto_05-12-2022_14-53-46.gdml\n",
      "DrilledVeto_05-12-2022_14-56-52.gdml\n",
      "DrilledVeto_05-12-2022_15-00-19.gdml\n",
      "DrilledVeto_06-12-2022_22-53-20.gdml\n",
      "DrilledVeto_07-12-2022_15-16-26.gdml\n",
      "DrilledVeto_08-12-2022_16-27-45.gdml\n",
      "DrilledVeto_21-11-2022_17-50-04.gdml\n",
      "DrilledVeto_21-11-2022_17-50-16.gdml\n",
      "DrilledVeto_21-11-2022_18-17-08.gdml\n",
      "DrilledVeto_21-11-2022_19-21-09.gdml\n",
      "DrilledVeto_21-11-2022_21-01-48.gdml\n",
      "LEM_gdml.gdml\n",
      "LEM_geom_1_gdml.gdml\n",
      "LEM_geom_1_gdml-logicContainer0x2461c80.step\n",
      "LEM_geom_2_gdml1-logicContainer0x1a0ba80.step\n",
      "LEM_geom_2_gdml.gdml\n",
      "LEM_geometry_05-12-2022_14-53-46.gdml\n",
      "LEM_geometry_05-12-2022_14-56-52.gdml\n",
      "LEM_geometry_05-12-2022_15-00-19.gdml\n",
      "LEM_geometry_06-12-2022_22-53-20.gdml\n",
      "LEM_geometry_07-12-2022_15-16-26.gdml\n",
      "LEM_geometry_08-12-2022_16-27-45.gdml\n",
      "LEM_geometry_15_07_2022.gdml\n",
      "LEM_geometry_15_07_2022-logicContainer0x19c88a0.step\n",
      "LEM_geometry_21-11-2022_17-50-04.gdml\n",
      "LEM_geometry_21-11-2022_17-50-16.gdml\n",
      "LEM_geometry_21-11-2022_18-17-08.gdml\n",
      "LEM_geometry_21-11-2022_19-21-09.gdml\n",
      "LEM_geometry_21-11-2022_21-01-48.gdml\n"
     ]
    }
   ],
   "source": [
    "gSystem -> Exec(\"ls ../CadGeometry\");"
   ]
  },
  {
   "cell_type": "code",
   "execution_count": 11,
   "id": "23c4fb79",
   "metadata": {},
   "outputs": [],
   "source": [
    "TString FileName = \"/home/riccardo/Documenti/GeantProjects/LEM_simulation/CadGeometry/LEM_geometry_08-12-2022_16-27-45.gdml\";"
   ]
  },
  {
   "cell_type": "code",
   "execution_count": 12,
   "id": "dc6e0161",
   "metadata": {},
   "outputs": [
    {
     "name": "stderr",
     "output_type": "stream",
     "text": [
      "Info in <TGeoManager::Import>: Reading geometry from file: /home/riccardo/Documenti/GeantProjects/LEM_simulation/CadGeometry/LEM_geometry_08-12-2022_16-27-45.gdml\n",
      "Info in <TGeoManager::TGeoManager>: Geometry GDMLImport, Geometry imported from GDML created\n",
      "Info in <TGeoManager::SetTopVolume>: Top volume is logicContainer. Master volume is logicContainer\n",
      "Info in <TGeoNavigator::BuildCache>: --- Maximum geometry depth set to 100\n",
      "Info in <TGeoManager::CheckGeometry>: Fixing runtime shapes...\n",
      "Info in <TGeoManager::CheckGeometry>: ...Nothing to fix\n",
      "Info in <TGeoManager::CloseGeometry>: Counting nodes...\n",
      "Info in <TGeoManager::Voxelize>: Voxelizing...\n",
      "Info in <TGeoManager::CloseGeometry>: Building cache...\n",
      "Info in <TGeoManager::CountLevels>: max level = 1, max placements = 45\n",
      "Info in <TGeoManager::CloseGeometry>: 46 nodes/ 9 volume UID's in Geometry imported from GDML\n",
      "Info in <TGeoManager::CloseGeometry>: ----------------modeler ready----------------\n"
     ]
    }
   ],
   "source": [
    "TGeoManager::Import(FileName.Data());"
   ]
  },
  {
   "cell_type": "code",
   "execution_count": null,
   "id": "e58f311f",
   "metadata": {},
   "outputs": [],
   "source": [
    "gGeoManager->GetTopVolume()->Draw(\"ogl\");"
   ]
  },
  {
   "cell_type": "code",
   "execution_count": null,
   "id": "895c5ed1",
   "metadata": {},
   "outputs": [],
   "source": []
  }
 ],
 "metadata": {
  "kernelspec": {
   "display_name": "ROOT C++",
   "language": "c++",
   "name": "root"
  },
  "language_info": {
   "codemirror_mode": "text/x-c++src",
   "file_extension": ".C",
   "mimetype": " text/x-c++src",
   "name": "c++"
  }
 },
 "nbformat": 4,
 "nbformat_minor": 5
}
